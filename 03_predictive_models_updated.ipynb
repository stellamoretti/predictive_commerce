{
 "cells": [
  {
   "cell_type": "markdown",
   "metadata": {
    "toc": "true"
   },
   "source": [
    " # Table of Contents\n",
    "<div class=\"toc\" style=\"margin-top: 1em;\"><ul class=\"toc-item\" id=\"toc-level0\"><li><span><a href=\"http://localhost:8888/notebooks/project_submissions/predictive_shopping_instacart/predictive_models.ipynb#Imports\" data-toc-modified-id=\"Imports-1\"><span class=\"toc-item-num\">1&nbsp;&nbsp;</span>Imports</a></span><ul class=\"toc-item\"><li><span><a href=\"http://localhost:8888/notebooks/project_submissions/predictive_shopping_instacart/predictive_models.ipynb#Library-Imports\" data-toc-modified-id=\"Library-Imports-1.1\"><span class=\"toc-item-num\">1.1&nbsp;&nbsp;</span>Library Imports</a></span></li><li><span><a href=\"http://localhost:8888/notebooks/project_submissions/predictive_shopping_instacart/predictive_models.ipynb#Data-Imports\" data-toc-modified-id=\"Data-Imports-1.2\"><span class=\"toc-item-num\">1.2&nbsp;&nbsp;</span>Data Imports</a></span></li><li><span><a href=\"http://localhost:8888/notebooks/project_submissions/predictive_shopping_instacart/predictive_models.ipynb#Define-X-and-y\" data-toc-modified-id=\"Define-X-and-y-1.3\"><span class=\"toc-item-num\">1.3&nbsp;&nbsp;</span>Define X and y</a></span></li></ul></li><li><span><a href=\"http://localhost:8888/notebooks/project_submissions/predictive_shopping_instacart/predictive_models.ipynb#Test/Train-Split\" data-toc-modified-id=\"Test/Train-Split-2\"><span class=\"toc-item-num\">2&nbsp;&nbsp;</span>Test/Train Split</a></span></li><li><span><a href=\"http://localhost:8888/notebooks/project_submissions/predictive_shopping_instacart/predictive_models.ipynb#Resampling-to-Manage-Class-Imbalance\" data-toc-modified-id=\"Resampling-to-Manage-Class-Imbalance-3\"><span class=\"toc-item-num\">3&nbsp;&nbsp;</span>Resampling to Manage Class Imbalance</a></span></li><li><span><a href=\"http://localhost:8888/notebooks/project_submissions/predictive_shopping_instacart/predictive_models.ipynb#Classification-Modeling\" data-toc-modified-id=\"Classification-Modeling-4\"><span class=\"toc-item-num\">4&nbsp;&nbsp;</span>Classification Modeling</a></span><ul class=\"toc-item\"><li><span><a href=\"http://localhost:8888/notebooks/project_submissions/predictive_shopping_instacart/predictive_models.ipynb#Random-Forest-Classifier\" data-toc-modified-id=\"Random-Forest-Classifier-4.1\"><span class=\"toc-item-num\">4.1&nbsp;&nbsp;</span>Random Forest Classifier</a></span><ul class=\"toc-item\"><li><span><a href=\"http://localhost:8888/notebooks/project_submissions/predictive_shopping_instacart/predictive_models.ipynb#Initial-Model\" data-toc-modified-id=\"Initial-Model-4.1.1\"><span class=\"toc-item-num\">4.1.1&nbsp;&nbsp;</span>Initial Model</a></span></li><li><span><a href=\"http://localhost:8888/notebooks/project_submissions/predictive_shopping_instacart/predictive_models.ipynb#Tuned-Model\" data-toc-modified-id=\"Tuned-Model-4.1.2\"><span class=\"toc-item-num\">4.1.2&nbsp;&nbsp;</span>Tuned Model</a></span></li></ul></li><li><span><a href=\"http://localhost:8888/notebooks/project_submissions/predictive_shopping_instacart/predictive_models.ipynb#XG-Boost-Classifier\" data-toc-modified-id=\"XG-Boost-Classifier-4.2\"><span class=\"toc-item-num\">4.2&nbsp;&nbsp;</span>XG Boost Classifier</a></span><ul class=\"toc-item\"><li><span><a href=\"http://localhost:8888/notebooks/project_submissions/predictive_shopping_instacart/predictive_models.ipynb#Inital-Model\" data-toc-modified-id=\"Inital-Model-4.2.1\"><span class=\"toc-item-num\">4.2.1&nbsp;&nbsp;</span>Inital Model</a></span></li><li><span><a href=\"http://localhost:8888/notebooks/project_submissions/predictive_shopping_instacart/predictive_models.ipynb#Tuned-Model\" data-toc-modified-id=\"Tuned-Model-4.2.2\"><span class=\"toc-item-num\">4.2.2&nbsp;&nbsp;</span>Tuned Model</a></span></li></ul></li><li><span><a href=\"http://localhost:8888/notebooks/project_submissions/predictive_shopping_instacart/predictive_models.ipynb#Tune-Classifiers\" data-toc-modified-id=\"Tune-Classifiers-4.3\"><span class=\"toc-item-num\">4.3&nbsp;&nbsp;</span>Tune Classifiers</a></span></li></ul></li><li><span><a href=\"http://localhost:8888/notebooks/project_submissions/predictive_shopping_instacart/predictive_models.ipynb#Model-Performance\" data-toc-modified-id=\"Model-Performance-5\"><span class=\"toc-item-num\">5&nbsp;&nbsp;</span>Model Performance</a></span><ul class=\"toc-item\"><li><span><a href=\"http://localhost:8888/notebooks/project_submissions/predictive_shopping_instacart/predictive_models.ipynb#Learning-Curve\" data-toc-modified-id=\"Learning-Curve-5.1\"><span class=\"toc-item-num\">5.1&nbsp;&nbsp;</span>Learning Curve</a></span></li></ul></li><li><span><a href=\"http://localhost:8888/notebooks/project_submissions/predictive_shopping_instacart/predictive_models.ipynb#Visualizations\" data-toc-modified-id=\"Visualizations-6\"><span class=\"toc-item-num\">6&nbsp;&nbsp;</span>Visualizations</a></span><ul class=\"toc-item\"><li><span><a href=\"http://localhost:8888/notebooks/project_submissions/predictive_shopping_instacart/predictive_models.ipynb#Features-Importance\" data-toc-modified-id=\"Features-Importance-6.1\"><span class=\"toc-item-num\">6.1&nbsp;&nbsp;</span>Features Importance</a></span></li><li><span><a href=\"http://localhost:8888/notebooks/project_submissions/predictive_shopping_instacart/predictive_models.ipynb#Confusion-Matrix\" data-toc-modified-id=\"Confusion-Matrix-6.2\"><span class=\"toc-item-num\">6.2&nbsp;&nbsp;</span>Confusion Matrix</a></span></li></ul></li></ul></div>"
   ]
  },
  {
   "cell_type": "markdown",
   "metadata": {},
   "source": [
    "__Predictive Shopping with Instacart__\n",
    "\n",
    "__Data Source:__\n",
    "“The Instacart Online Grocery Shopping Dataset 2017”, accessed on October 11, 2017 from https://www.instacart.com/datasets/grocery-shopping-2017"
   ]
  },
  {
   "cell_type": "markdown",
   "metadata": {},
   "source": [
    "# Imports"
   ]
  },
  {
   "cell_type": "markdown",
   "metadata": {},
   "source": [
    "## Library Imports"
   ]
  },
  {
   "cell_type": "code",
   "execution_count": 2,
   "metadata": {
    "ExecuteTime": {
     "end_time": "2018-01-12T20:57:41.180611Z",
     "start_time": "2018-01-12T20:57:39.809677Z"
    },
    "collapsed": true
   },
   "outputs": [],
   "source": [
    "import pandas as pd\n",
    "import numpy as np"
   ]
  },
  {
   "cell_type": "code",
   "execution_count": 3,
   "metadata": {
    "ExecuteTime": {
     "end_time": "2018-01-12T20:57:42.662802Z",
     "start_time": "2018-01-12T20:57:41.182611Z"
    }
   },
   "outputs": [
    {
     "name": "stderr",
     "output_type": "stream",
     "text": [
      "/anaconda/envs/py36/lib/python3.6/site-packages/sklearn/cross_validation.py:41: DeprecationWarning: This module was deprecated in version 0.18 in favor of the model_selection module into which all the refactored classes and functions are moved. Also note that the interface of the new CV iterators are different from that of this module. This module will be removed in 0.20.\n",
      "  \"This module will be removed in 0.20.\", DeprecationWarning)\n"
     ]
    },
    {
     "name": "stdout",
     "output_type": "stream",
     "text": [
      "Populating the interactive namespace from numpy and matplotlib\n"
     ]
    },
    {
     "name": "stderr",
     "output_type": "stream",
     "text": [
      "/anaconda/envs/py36/lib/python3.6/site-packages/IPython/core/magics/pylab.py:161: UserWarning: pylab import has clobbered these variables: ['plt']\n",
      "`%matplotlib` prevents importing * from pylab and numpy\n",
      "  \"\\n`%matplotlib` prevents importing * from pylab and numpy\"\n"
     ]
    }
   ],
   "source": [
    "from sklearn.cross_validation import train_test_split\n",
    "from sklearn.utils import resample\n",
    "import matplotlib as plt\n",
    "import seaborn as sns\n",
    "%pylab inline\n",
    "from sklearn.neighbors import KNeighborsClassifier\n",
    "from sklearn import metrics\n",
    "from sklearn.metrics import accuracy_score, classification_report\n",
    "from sklearn.model_selection import cross_val_score\n",
    "from sklearn.linear_model import LogisticRegression\n",
    "from sklearn.metrics import confusion_matrix\n",
    "from sklearn.metrics import roc_curve, auc, roc_auc_score\n",
    "from sklearn.decomposition import PCA\n",
    "from sklearn.tree import DecisionTreeClassifier\n",
    "from sklearn.ensemble import RandomForestClassifier\n",
    "from sklearn import naive_bayes\n",
    "import xgboost as xgb\n",
    "from xgboost import XGBClassifier\n",
    "from sklearn.model_selection import GridSearchCV, RandomizedSearchCV"
   ]
  },
  {
   "cell_type": "code",
   "execution_count": 4,
   "metadata": {
    "ExecuteTime": {
     "end_time": "2018-01-12T20:57:42.670010Z",
     "start_time": "2018-01-12T20:57:42.665095Z"
    },
    "collapsed": true
   },
   "outputs": [],
   "source": [
    "pd.set_option('display.max_columns', None)"
   ]
  },
  {
   "cell_type": "code",
   "execution_count": 5,
   "metadata": {
    "ExecuteTime": {
     "end_time": "2018-01-12T20:57:42.678706Z",
     "start_time": "2018-01-12T20:57:42.672617Z"
    },
    "collapsed": true
   },
   "outputs": [],
   "source": [
    "import warnings\n",
    "warnings.filterwarnings('ignore')"
   ]
  },
  {
   "cell_type": "markdown",
   "metadata": {},
   "source": [
    "## Data Imports\n",
    "\n",
    "Load in pre-processed dataframes.\n",
    "Convert numpy array to dataframe and rename columns."
   ]
  },
  {
   "cell_type": "code",
   "execution_count": 6,
   "metadata": {
    "ExecuteTime": {
     "end_time": "2018-01-12T20:57:57.366489Z",
     "start_time": "2018-01-12T20:57:42.681408Z"
    },
    "collapsed": true
   },
   "outputs": [],
   "source": [
    "df = pd.DataFrame(np.load('pickled_datframes/dfSample.npy'))"
   ]
  },
  {
   "cell_type": "code",
   "execution_count": 7,
   "metadata": {
    "ExecuteTime": {
     "end_time": "2018-01-12T20:57:57.760656Z",
     "start_time": "2018-01-12T20:57:57.429542Z"
    },
    "collapsed": true
   },
   "outputs": [],
   "source": [
    "df.columns = ['user_id', 'product_id', 'first_appearance', 'o1_atc_relative',\n",
    "       'o1_day', 'o1_hour', 'o1_date', 'o1_basket_size', 'o1_reorder_prop',\n",
    "       'o1_target', 'o2_atc_relative', 'o2_day', 'o2_hour', 'o2_date',\n",
    "       'o2_basket_size', 'o2_reorder_prop', 'o2_target', 'o3_atc_relative',\n",
    "       'o3_day', 'o3_hour', 'o3_date', 'o3_basket_size', 'o3_reorder_prop',\n",
    "       'o3_target', 'o4_atc_relative', 'o4_day', 'o4_hour', 'o4_date',\n",
    "       'o4_basket_size', 'o4_reorder_prop', 'o4_target', 'o5_atc_relative',\n",
    "       'o5_day', 'o5_hour', 'o5_date', 'o5_basket_size', 'o5_reorder_prop',\n",
    "       'o5_target', 'o6_atc_relative', 'o6_day', 'o6_hour', 'o6_date',\n",
    "       'o6_basket_size', 'o6_reorder_prop', 'o6_target', 'o7_atc_relative',\n",
    "       'o7_day', 'o7_hour', 'o7_date', 'o7_basket_size', 'o7_reorder_prop',\n",
    "       'o7_target', 'o8_atc_relative', 'o8_day', 'o8_hour', 'o8_date',\n",
    "       'o8_basket_size', 'o8_reorder_prop', 'o8_target', 'o9_atc_relative',\n",
    "       'o9_day', 'o9_hour', 'o9_date', 'o9_basket_size', 'o9_reorder_prop',\n",
    "       'o9_target', 'o10_atc_relative', 'o10_day', 'o10_hour', 'o10_date',\n",
    "       'o10_basket_size', 'o10_reorder_prop', 'o10_target', 'user_total_shops',\n",
    "       'mean_days_bw_orders', 'mean_ATC_position', 'total_times_purchased',\n",
    "       'purchase_rate', 'user_avg_reorder_prop', 'user_overall_reorder_prop']"
   ]
  },
  {
   "cell_type": "code",
   "execution_count": 8,
   "metadata": {
    "ExecuteTime": {
     "end_time": "2018-01-12T20:57:57.911146Z",
     "start_time": "2018-01-12T20:57:57.795981Z"
    }
   },
   "outputs": [
    {
     "data": {
      "text/plain": [
       "(10132366, 80)"
      ]
     },
     "execution_count": 8,
     "metadata": {},
     "output_type": "execute_result"
    }
   ],
   "source": [
    "df.shape"
   ]
  },
  {
   "cell_type": "code",
   "execution_count": 9,
   "metadata": {
    "ExecuteTime": {
     "end_time": "2018-01-12T20:57:58.545040Z",
     "start_time": "2018-01-12T20:57:57.914940Z"
    }
   },
   "outputs": [
    {
     "data": {
      "text/html": [
       "<div>\n",
       "<style>\n",
       "    .dataframe thead tr:only-child th {\n",
       "        text-align: right;\n",
       "    }\n",
       "\n",
       "    .dataframe thead th {\n",
       "        text-align: left;\n",
       "    }\n",
       "\n",
       "    .dataframe tbody tr th {\n",
       "        vertical-align: top;\n",
       "    }\n",
       "</style>\n",
       "<table border=\"1\" class=\"dataframe\">\n",
       "  <thead>\n",
       "    <tr style=\"text-align: right;\">\n",
       "      <th></th>\n",
       "      <th>user_id</th>\n",
       "      <th>product_id</th>\n",
       "      <th>first_appearance</th>\n",
       "      <th>o1_atc_relative</th>\n",
       "      <th>o1_day</th>\n",
       "      <th>o1_hour</th>\n",
       "      <th>o1_date</th>\n",
       "      <th>o1_basket_size</th>\n",
       "      <th>o1_reorder_prop</th>\n",
       "      <th>o1_target</th>\n",
       "      <th>o2_atc_relative</th>\n",
       "      <th>o2_day</th>\n",
       "      <th>o2_hour</th>\n",
       "      <th>o2_date</th>\n",
       "      <th>o2_basket_size</th>\n",
       "      <th>o2_reorder_prop</th>\n",
       "      <th>o2_target</th>\n",
       "      <th>o3_atc_relative</th>\n",
       "      <th>o3_day</th>\n",
       "      <th>o3_hour</th>\n",
       "      <th>o3_date</th>\n",
       "      <th>o3_basket_size</th>\n",
       "      <th>o3_reorder_prop</th>\n",
       "      <th>o3_target</th>\n",
       "      <th>o4_atc_relative</th>\n",
       "      <th>o4_day</th>\n",
       "      <th>o4_hour</th>\n",
       "      <th>o4_date</th>\n",
       "      <th>o4_basket_size</th>\n",
       "      <th>o4_reorder_prop</th>\n",
       "      <th>o4_target</th>\n",
       "      <th>o5_atc_relative</th>\n",
       "      <th>o5_day</th>\n",
       "      <th>o5_hour</th>\n",
       "      <th>o5_date</th>\n",
       "      <th>o5_basket_size</th>\n",
       "      <th>o5_reorder_prop</th>\n",
       "      <th>o5_target</th>\n",
       "      <th>o6_atc_relative</th>\n",
       "      <th>o6_day</th>\n",
       "      <th>o6_hour</th>\n",
       "      <th>o6_date</th>\n",
       "      <th>o6_basket_size</th>\n",
       "      <th>o6_reorder_prop</th>\n",
       "      <th>o6_target</th>\n",
       "      <th>o7_atc_relative</th>\n",
       "      <th>o7_day</th>\n",
       "      <th>o7_hour</th>\n",
       "      <th>o7_date</th>\n",
       "      <th>o7_basket_size</th>\n",
       "      <th>o7_reorder_prop</th>\n",
       "      <th>o7_target</th>\n",
       "      <th>o8_atc_relative</th>\n",
       "      <th>o8_day</th>\n",
       "      <th>o8_hour</th>\n",
       "      <th>o8_date</th>\n",
       "      <th>o8_basket_size</th>\n",
       "      <th>o8_reorder_prop</th>\n",
       "      <th>o8_target</th>\n",
       "      <th>o9_atc_relative</th>\n",
       "      <th>o9_day</th>\n",
       "      <th>o9_hour</th>\n",
       "      <th>o9_date</th>\n",
       "      <th>o9_basket_size</th>\n",
       "      <th>o9_reorder_prop</th>\n",
       "      <th>o9_target</th>\n",
       "      <th>o10_atc_relative</th>\n",
       "      <th>o10_day</th>\n",
       "      <th>o10_hour</th>\n",
       "      <th>o10_date</th>\n",
       "      <th>o10_basket_size</th>\n",
       "      <th>o10_reorder_prop</th>\n",
       "      <th>o10_target</th>\n",
       "      <th>user_total_shops</th>\n",
       "      <th>mean_days_bw_orders</th>\n",
       "      <th>mean_ATC_position</th>\n",
       "      <th>total_times_purchased</th>\n",
       "      <th>purchase_rate</th>\n",
       "      <th>user_avg_reorder_prop</th>\n",
       "      <th>user_overall_reorder_prop</th>\n",
       "    </tr>\n",
       "  </thead>\n",
       "  <tbody>\n",
       "    <tr>\n",
       "      <th>0</th>\n",
       "      <td>1.0</td>\n",
       "      <td>196.0</td>\n",
       "      <td>1.0</td>\n",
       "      <td>0.2</td>\n",
       "      <td>2.0</td>\n",
       "      <td>8.0</td>\n",
       "      <td>NaN</td>\n",
       "      <td>5.0</td>\n",
       "      <td>0.0</td>\n",
       "      <td>1.0</td>\n",
       "      <td>0.166667</td>\n",
       "      <td>3.0</td>\n",
       "      <td>7.0</td>\n",
       "      <td>15.0</td>\n",
       "      <td>6.0</td>\n",
       "      <td>0.5</td>\n",
       "      <td>1.0</td>\n",
       "      <td>0.2</td>\n",
       "      <td>3.0</td>\n",
       "      <td>12.0</td>\n",
       "      <td>36.0</td>\n",
       "      <td>5.0</td>\n",
       "      <td>0.6</td>\n",
       "      <td>1.0</td>\n",
       "      <td>0.2</td>\n",
       "      <td>4.0</td>\n",
       "      <td>7.0</td>\n",
       "      <td>65.0</td>\n",
       "      <td>5.0</td>\n",
       "      <td>1.0</td>\n",
       "      <td>1.0</td>\n",
       "      <td>0.125</td>\n",
       "      <td>4.0</td>\n",
       "      <td>15.0</td>\n",
       "      <td>93.0</td>\n",
       "      <td>8.0</td>\n",
       "      <td>0.625</td>\n",
       "      <td>1.0</td>\n",
       "      <td>0.25</td>\n",
       "      <td>2.0</td>\n",
       "      <td>7.0</td>\n",
       "      <td>112.0</td>\n",
       "      <td>4.0</td>\n",
       "      <td>1.0</td>\n",
       "      <td>1.0</td>\n",
       "      <td>0.2</td>\n",
       "      <td>1.0</td>\n",
       "      <td>9.0</td>\n",
       "      <td>132.0</td>\n",
       "      <td>5.0</td>\n",
       "      <td>1.0</td>\n",
       "      <td>1.0</td>\n",
       "      <td>0.333333</td>\n",
       "      <td>1.0</td>\n",
       "      <td>14.0</td>\n",
       "      <td>146.0</td>\n",
       "      <td>6.0</td>\n",
       "      <td>0.666667</td>\n",
       "      <td>1.0</td>\n",
       "      <td>0.666667</td>\n",
       "      <td>1.0</td>\n",
       "      <td>16.0</td>\n",
       "      <td>146.0</td>\n",
       "      <td>6.0</td>\n",
       "      <td>1.0</td>\n",
       "      <td>1.0</td>\n",
       "      <td>0.111111</td>\n",
       "      <td>4.0</td>\n",
       "      <td>8.0</td>\n",
       "      <td>176.0</td>\n",
       "      <td>9.0</td>\n",
       "      <td>0.666667</td>\n",
       "      <td>1.0</td>\n",
       "      <td>11.0</td>\n",
       "      <td>18.714286</td>\n",
       "      <td>0.260185</td>\n",
       "      <td>9.0</td>\n",
       "      <td>1.000000</td>\n",
       "      <td>0.777843</td>\n",
       "      <td>0.724311</td>\n",
       "    </tr>\n",
       "    <tr>\n",
       "      <th>1</th>\n",
       "      <td>1.0</td>\n",
       "      <td>10258.0</td>\n",
       "      <td>2.0</td>\n",
       "      <td>NaN</td>\n",
       "      <td>NaN</td>\n",
       "      <td>NaN</td>\n",
       "      <td>NaN</td>\n",
       "      <td>NaN</td>\n",
       "      <td>NaN</td>\n",
       "      <td>NaN</td>\n",
       "      <td>0.333333</td>\n",
       "      <td>3.0</td>\n",
       "      <td>7.0</td>\n",
       "      <td>15.0</td>\n",
       "      <td>6.0</td>\n",
       "      <td>0.5</td>\n",
       "      <td>1.0</td>\n",
       "      <td>0.6</td>\n",
       "      <td>3.0</td>\n",
       "      <td>12.0</td>\n",
       "      <td>36.0</td>\n",
       "      <td>5.0</td>\n",
       "      <td>0.6</td>\n",
       "      <td>1.0</td>\n",
       "      <td>0.6</td>\n",
       "      <td>4.0</td>\n",
       "      <td>7.0</td>\n",
       "      <td>65.0</td>\n",
       "      <td>5.0</td>\n",
       "      <td>1.0</td>\n",
       "      <td>1.0</td>\n",
       "      <td>0.375</td>\n",
       "      <td>4.0</td>\n",
       "      <td>15.0</td>\n",
       "      <td>93.0</td>\n",
       "      <td>8.0</td>\n",
       "      <td>0.625</td>\n",
       "      <td>1.0</td>\n",
       "      <td>0.75</td>\n",
       "      <td>2.0</td>\n",
       "      <td>7.0</td>\n",
       "      <td>112.0</td>\n",
       "      <td>4.0</td>\n",
       "      <td>1.0</td>\n",
       "      <td>1.0</td>\n",
       "      <td>0.4</td>\n",
       "      <td>1.0</td>\n",
       "      <td>9.0</td>\n",
       "      <td>132.0</td>\n",
       "      <td>5.0</td>\n",
       "      <td>1.0</td>\n",
       "      <td>1.0</td>\n",
       "      <td>0.500000</td>\n",
       "      <td>1.0</td>\n",
       "      <td>14.0</td>\n",
       "      <td>146.0</td>\n",
       "      <td>6.0</td>\n",
       "      <td>0.666667</td>\n",
       "      <td>1.0</td>\n",
       "      <td>0.833333</td>\n",
       "      <td>1.0</td>\n",
       "      <td>16.0</td>\n",
       "      <td>146.0</td>\n",
       "      <td>6.0</td>\n",
       "      <td>1.0</td>\n",
       "      <td>1.0</td>\n",
       "      <td>0.666667</td>\n",
       "      <td>4.0</td>\n",
       "      <td>8.0</td>\n",
       "      <td>176.0</td>\n",
       "      <td>9.0</td>\n",
       "      <td>0.666667</td>\n",
       "      <td>1.0</td>\n",
       "      <td>11.0</td>\n",
       "      <td>18.714286</td>\n",
       "      <td>0.548958</td>\n",
       "      <td>8.0</td>\n",
       "      <td>0.888889</td>\n",
       "      <td>0.715610</td>\n",
       "      <td>0.724311</td>\n",
       "    </tr>\n",
       "    <tr>\n",
       "      <th>2</th>\n",
       "      <td>1.0</td>\n",
       "      <td>10326.0</td>\n",
       "      <td>5.0</td>\n",
       "      <td>NaN</td>\n",
       "      <td>NaN</td>\n",
       "      <td>NaN</td>\n",
       "      <td>NaN</td>\n",
       "      <td>NaN</td>\n",
       "      <td>NaN</td>\n",
       "      <td>NaN</td>\n",
       "      <td>NaN</td>\n",
       "      <td>NaN</td>\n",
       "      <td>NaN</td>\n",
       "      <td>NaN</td>\n",
       "      <td>NaN</td>\n",
       "      <td>NaN</td>\n",
       "      <td>NaN</td>\n",
       "      <td>NaN</td>\n",
       "      <td>NaN</td>\n",
       "      <td>NaN</td>\n",
       "      <td>NaN</td>\n",
       "      <td>NaN</td>\n",
       "      <td>NaN</td>\n",
       "      <td>NaN</td>\n",
       "      <td>NaN</td>\n",
       "      <td>NaN</td>\n",
       "      <td>NaN</td>\n",
       "      <td>NaN</td>\n",
       "      <td>NaN</td>\n",
       "      <td>NaN</td>\n",
       "      <td>NaN</td>\n",
       "      <td>0.625</td>\n",
       "      <td>4.0</td>\n",
       "      <td>15.0</td>\n",
       "      <td>93.0</td>\n",
       "      <td>8.0</td>\n",
       "      <td>0.625</td>\n",
       "      <td>1.0</td>\n",
       "      <td>NaN</td>\n",
       "      <td>NaN</td>\n",
       "      <td>NaN</td>\n",
       "      <td>NaN</td>\n",
       "      <td>NaN</td>\n",
       "      <td>NaN</td>\n",
       "      <td>NaN</td>\n",
       "      <td>NaN</td>\n",
       "      <td>NaN</td>\n",
       "      <td>NaN</td>\n",
       "      <td>NaN</td>\n",
       "      <td>NaN</td>\n",
       "      <td>NaN</td>\n",
       "      <td>NaN</td>\n",
       "      <td>NaN</td>\n",
       "      <td>NaN</td>\n",
       "      <td>NaN</td>\n",
       "      <td>NaN</td>\n",
       "      <td>NaN</td>\n",
       "      <td>NaN</td>\n",
       "      <td>NaN</td>\n",
       "      <td>NaN</td>\n",
       "      <td>NaN</td>\n",
       "      <td>NaN</td>\n",
       "      <td>NaN</td>\n",
       "      <td>NaN</td>\n",
       "      <td>NaN</td>\n",
       "      <td>NaN</td>\n",
       "      <td>NaN</td>\n",
       "      <td>NaN</td>\n",
       "      <td>NaN</td>\n",
       "      <td>NaN</td>\n",
       "      <td>NaN</td>\n",
       "      <td>NaN</td>\n",
       "      <td>NaN</td>\n",
       "      <td>11.0</td>\n",
       "      <td>93.000000</td>\n",
       "      <td>0.625000</td>\n",
       "      <td>1.0</td>\n",
       "      <td>0.111111</td>\n",
       "      <td>0.653439</td>\n",
       "      <td>0.724311</td>\n",
       "    </tr>\n",
       "    <tr>\n",
       "      <th>3</th>\n",
       "      <td>1.0</td>\n",
       "      <td>12427.0</td>\n",
       "      <td>1.0</td>\n",
       "      <td>0.6</td>\n",
       "      <td>2.0</td>\n",
       "      <td>8.0</td>\n",
       "      <td>NaN</td>\n",
       "      <td>5.0</td>\n",
       "      <td>0.0</td>\n",
       "      <td>1.0</td>\n",
       "      <td>0.500000</td>\n",
       "      <td>3.0</td>\n",
       "      <td>7.0</td>\n",
       "      <td>15.0</td>\n",
       "      <td>6.0</td>\n",
       "      <td>0.5</td>\n",
       "      <td>1.0</td>\n",
       "      <td>0.4</td>\n",
       "      <td>3.0</td>\n",
       "      <td>12.0</td>\n",
       "      <td>36.0</td>\n",
       "      <td>5.0</td>\n",
       "      <td>0.6</td>\n",
       "      <td>1.0</td>\n",
       "      <td>0.4</td>\n",
       "      <td>4.0</td>\n",
       "      <td>7.0</td>\n",
       "      <td>65.0</td>\n",
       "      <td>5.0</td>\n",
       "      <td>1.0</td>\n",
       "      <td>1.0</td>\n",
       "      <td>0.250</td>\n",
       "      <td>4.0</td>\n",
       "      <td>15.0</td>\n",
       "      <td>93.0</td>\n",
       "      <td>8.0</td>\n",
       "      <td>0.625</td>\n",
       "      <td>1.0</td>\n",
       "      <td>0.50</td>\n",
       "      <td>2.0</td>\n",
       "      <td>7.0</td>\n",
       "      <td>112.0</td>\n",
       "      <td>4.0</td>\n",
       "      <td>1.0</td>\n",
       "      <td>1.0</td>\n",
       "      <td>0.6</td>\n",
       "      <td>1.0</td>\n",
       "      <td>9.0</td>\n",
       "      <td>132.0</td>\n",
       "      <td>5.0</td>\n",
       "      <td>1.0</td>\n",
       "      <td>1.0</td>\n",
       "      <td>0.166667</td>\n",
       "      <td>1.0</td>\n",
       "      <td>14.0</td>\n",
       "      <td>146.0</td>\n",
       "      <td>6.0</td>\n",
       "      <td>0.666667</td>\n",
       "      <td>1.0</td>\n",
       "      <td>1.000000</td>\n",
       "      <td>1.0</td>\n",
       "      <td>16.0</td>\n",
       "      <td>146.0</td>\n",
       "      <td>6.0</td>\n",
       "      <td>1.0</td>\n",
       "      <td>1.0</td>\n",
       "      <td>1.000000</td>\n",
       "      <td>4.0</td>\n",
       "      <td>8.0</td>\n",
       "      <td>176.0</td>\n",
       "      <td>9.0</td>\n",
       "      <td>0.666667</td>\n",
       "      <td>1.0</td>\n",
       "      <td>11.0</td>\n",
       "      <td>18.714286</td>\n",
       "      <td>0.490741</td>\n",
       "      <td>9.0</td>\n",
       "      <td>1.000000</td>\n",
       "      <td>0.740182</td>\n",
       "      <td>0.724311</td>\n",
       "    </tr>\n",
       "    <tr>\n",
       "      <th>4</th>\n",
       "      <td>1.0</td>\n",
       "      <td>13032.0</td>\n",
       "      <td>2.0</td>\n",
       "      <td>NaN</td>\n",
       "      <td>NaN</td>\n",
       "      <td>NaN</td>\n",
       "      <td>NaN</td>\n",
       "      <td>NaN</td>\n",
       "      <td>NaN</td>\n",
       "      <td>NaN</td>\n",
       "      <td>1.000000</td>\n",
       "      <td>3.0</td>\n",
       "      <td>7.0</td>\n",
       "      <td>15.0</td>\n",
       "      <td>6.0</td>\n",
       "      <td>0.5</td>\n",
       "      <td>1.0</td>\n",
       "      <td>NaN</td>\n",
       "      <td>NaN</td>\n",
       "      <td>NaN</td>\n",
       "      <td>NaN</td>\n",
       "      <td>NaN</td>\n",
       "      <td>NaN</td>\n",
       "      <td>NaN</td>\n",
       "      <td>NaN</td>\n",
       "      <td>NaN</td>\n",
       "      <td>NaN</td>\n",
       "      <td>NaN</td>\n",
       "      <td>NaN</td>\n",
       "      <td>NaN</td>\n",
       "      <td>NaN</td>\n",
       "      <td>NaN</td>\n",
       "      <td>NaN</td>\n",
       "      <td>NaN</td>\n",
       "      <td>NaN</td>\n",
       "      <td>NaN</td>\n",
       "      <td>NaN</td>\n",
       "      <td>NaN</td>\n",
       "      <td>NaN</td>\n",
       "      <td>NaN</td>\n",
       "      <td>NaN</td>\n",
       "      <td>NaN</td>\n",
       "      <td>NaN</td>\n",
       "      <td>NaN</td>\n",
       "      <td>NaN</td>\n",
       "      <td>1.0</td>\n",
       "      <td>1.0</td>\n",
       "      <td>9.0</td>\n",
       "      <td>132.0</td>\n",
       "      <td>5.0</td>\n",
       "      <td>1.0</td>\n",
       "      <td>1.0</td>\n",
       "      <td>NaN</td>\n",
       "      <td>NaN</td>\n",
       "      <td>NaN</td>\n",
       "      <td>NaN</td>\n",
       "      <td>NaN</td>\n",
       "      <td>NaN</td>\n",
       "      <td>NaN</td>\n",
       "      <td>NaN</td>\n",
       "      <td>NaN</td>\n",
       "      <td>NaN</td>\n",
       "      <td>NaN</td>\n",
       "      <td>NaN</td>\n",
       "      <td>NaN</td>\n",
       "      <td>NaN</td>\n",
       "      <td>0.888889</td>\n",
       "      <td>4.0</td>\n",
       "      <td>8.0</td>\n",
       "      <td>176.0</td>\n",
       "      <td>9.0</td>\n",
       "      <td>0.666667</td>\n",
       "      <td>1.0</td>\n",
       "      <td>11.0</td>\n",
       "      <td>117.000000</td>\n",
       "      <td>1.000000</td>\n",
       "      <td>2.0</td>\n",
       "      <td>0.222222</td>\n",
       "      <td>0.661117</td>\n",
       "      <td>0.724311</td>\n",
       "    </tr>\n",
       "  </tbody>\n",
       "</table>\n",
       "</div>"
      ],
      "text/plain": [
       "   user_id  product_id  first_appearance  o1_atc_relative  o1_day  o1_hour  \\\n",
       "0      1.0       196.0               1.0              0.2     2.0      8.0   \n",
       "1      1.0     10258.0               2.0              NaN     NaN      NaN   \n",
       "2      1.0     10326.0               5.0              NaN     NaN      NaN   \n",
       "3      1.0     12427.0               1.0              0.6     2.0      8.0   \n",
       "4      1.0     13032.0               2.0              NaN     NaN      NaN   \n",
       "\n",
       "   o1_date  o1_basket_size  o1_reorder_prop  o1_target  o2_atc_relative  \\\n",
       "0      NaN             5.0              0.0        1.0         0.166667   \n",
       "1      NaN             NaN              NaN        NaN         0.333333   \n",
       "2      NaN             NaN              NaN        NaN              NaN   \n",
       "3      NaN             5.0              0.0        1.0         0.500000   \n",
       "4      NaN             NaN              NaN        NaN         1.000000   \n",
       "\n",
       "   o2_day  o2_hour  o2_date  o2_basket_size  o2_reorder_prop  o2_target  \\\n",
       "0     3.0      7.0     15.0             6.0              0.5        1.0   \n",
       "1     3.0      7.0     15.0             6.0              0.5        1.0   \n",
       "2     NaN      NaN      NaN             NaN              NaN        NaN   \n",
       "3     3.0      7.0     15.0             6.0              0.5        1.0   \n",
       "4     3.0      7.0     15.0             6.0              0.5        1.0   \n",
       "\n",
       "   o3_atc_relative  o3_day  o3_hour  o3_date  o3_basket_size  o3_reorder_prop  \\\n",
       "0              0.2     3.0     12.0     36.0             5.0              0.6   \n",
       "1              0.6     3.0     12.0     36.0             5.0              0.6   \n",
       "2              NaN     NaN      NaN      NaN             NaN              NaN   \n",
       "3              0.4     3.0     12.0     36.0             5.0              0.6   \n",
       "4              NaN     NaN      NaN      NaN             NaN              NaN   \n",
       "\n",
       "   o3_target  o4_atc_relative  o4_day  o4_hour  o4_date  o4_basket_size  \\\n",
       "0        1.0              0.2     4.0      7.0     65.0             5.0   \n",
       "1        1.0              0.6     4.0      7.0     65.0             5.0   \n",
       "2        NaN              NaN     NaN      NaN      NaN             NaN   \n",
       "3        1.0              0.4     4.0      7.0     65.0             5.0   \n",
       "4        NaN              NaN     NaN      NaN      NaN             NaN   \n",
       "\n",
       "   o4_reorder_prop  o4_target  o5_atc_relative  o5_day  o5_hour  o5_date  \\\n",
       "0              1.0        1.0            0.125     4.0     15.0     93.0   \n",
       "1              1.0        1.0            0.375     4.0     15.0     93.0   \n",
       "2              NaN        NaN            0.625     4.0     15.0     93.0   \n",
       "3              1.0        1.0            0.250     4.0     15.0     93.0   \n",
       "4              NaN        NaN              NaN     NaN      NaN      NaN   \n",
       "\n",
       "   o5_basket_size  o5_reorder_prop  o5_target  o6_atc_relative  o6_day  \\\n",
       "0             8.0            0.625        1.0             0.25     2.0   \n",
       "1             8.0            0.625        1.0             0.75     2.0   \n",
       "2             8.0            0.625        1.0              NaN     NaN   \n",
       "3             8.0            0.625        1.0             0.50     2.0   \n",
       "4             NaN              NaN        NaN              NaN     NaN   \n",
       "\n",
       "   o6_hour  o6_date  o6_basket_size  o6_reorder_prop  o6_target  \\\n",
       "0      7.0    112.0             4.0              1.0        1.0   \n",
       "1      7.0    112.0             4.0              1.0        1.0   \n",
       "2      NaN      NaN             NaN              NaN        NaN   \n",
       "3      7.0    112.0             4.0              1.0        1.0   \n",
       "4      NaN      NaN             NaN              NaN        NaN   \n",
       "\n",
       "   o7_atc_relative  o7_day  o7_hour  o7_date  o7_basket_size  o7_reorder_prop  \\\n",
       "0              0.2     1.0      9.0    132.0             5.0              1.0   \n",
       "1              0.4     1.0      9.0    132.0             5.0              1.0   \n",
       "2              NaN     NaN      NaN      NaN             NaN              NaN   \n",
       "3              0.6     1.0      9.0    132.0             5.0              1.0   \n",
       "4              1.0     1.0      9.0    132.0             5.0              1.0   \n",
       "\n",
       "   o7_target  o8_atc_relative  o8_day  o8_hour  o8_date  o8_basket_size  \\\n",
       "0        1.0         0.333333     1.0     14.0    146.0             6.0   \n",
       "1        1.0         0.500000     1.0     14.0    146.0             6.0   \n",
       "2        NaN              NaN     NaN      NaN      NaN             NaN   \n",
       "3        1.0         0.166667     1.0     14.0    146.0             6.0   \n",
       "4        1.0              NaN     NaN      NaN      NaN             NaN   \n",
       "\n",
       "   o8_reorder_prop  o8_target  o9_atc_relative  o9_day  o9_hour  o9_date  \\\n",
       "0         0.666667        1.0         0.666667     1.0     16.0    146.0   \n",
       "1         0.666667        1.0         0.833333     1.0     16.0    146.0   \n",
       "2              NaN        NaN              NaN     NaN      NaN      NaN   \n",
       "3         0.666667        1.0         1.000000     1.0     16.0    146.0   \n",
       "4              NaN        NaN              NaN     NaN      NaN      NaN   \n",
       "\n",
       "   o9_basket_size  o9_reorder_prop  o9_target  o10_atc_relative  o10_day  \\\n",
       "0             6.0              1.0        1.0          0.111111      4.0   \n",
       "1             6.0              1.0        1.0          0.666667      4.0   \n",
       "2             NaN              NaN        NaN               NaN      NaN   \n",
       "3             6.0              1.0        1.0          1.000000      4.0   \n",
       "4             NaN              NaN        NaN          0.888889      4.0   \n",
       "\n",
       "   o10_hour  o10_date  o10_basket_size  o10_reorder_prop  o10_target  \\\n",
       "0       8.0     176.0              9.0          0.666667         1.0   \n",
       "1       8.0     176.0              9.0          0.666667         1.0   \n",
       "2       NaN       NaN              NaN               NaN         NaN   \n",
       "3       8.0     176.0              9.0          0.666667         1.0   \n",
       "4       8.0     176.0              9.0          0.666667         1.0   \n",
       "\n",
       "   user_total_shops  mean_days_bw_orders  mean_ATC_position  \\\n",
       "0              11.0            18.714286           0.260185   \n",
       "1              11.0            18.714286           0.548958   \n",
       "2              11.0            93.000000           0.625000   \n",
       "3              11.0            18.714286           0.490741   \n",
       "4              11.0           117.000000           1.000000   \n",
       "\n",
       "   total_times_purchased  purchase_rate  user_avg_reorder_prop  \\\n",
       "0                    9.0       1.000000               0.777843   \n",
       "1                    8.0       0.888889               0.715610   \n",
       "2                    1.0       0.111111               0.653439   \n",
       "3                    9.0       1.000000               0.740182   \n",
       "4                    2.0       0.222222               0.661117   \n",
       "\n",
       "   user_overall_reorder_prop  \n",
       "0                   0.724311  \n",
       "1                   0.724311  \n",
       "2                   0.724311  \n",
       "3                   0.724311  \n",
       "4                   0.724311  "
      ]
     },
     "execution_count": 9,
     "metadata": {},
     "output_type": "execute_result"
    }
   ],
   "source": [
    "df.head()"
   ]
  },
  {
   "cell_type": "code",
   "execution_count": 10,
   "metadata": {
    "ExecuteTime": {
     "end_time": "2018-01-12T20:57:58.638185Z",
     "start_time": "2018-01-12T20:57:58.617344Z"
    },
    "collapsed": true
   },
   "outputs": [],
   "source": [
    "# not run:\n",
    "# dfSamples.drop(['total_times_purchased', 'times_purchased_of_9', 'first_appearance'], axis=1, inplace=True)"
   ]
  },
  {
   "cell_type": "code",
   "execution_count": 11,
   "metadata": {
    "ExecuteTime": {
     "end_time": "2018-01-12T20:58:15.268198Z",
     "start_time": "2018-01-12T20:57:58.647827Z"
    },
    "collapsed": true
   },
   "outputs": [],
   "source": [
    "(df[['o1_target', 'o2_target', 'o3_target', 'o4_target', 'o5_target','o6_target', 'o7_target', \n",
    "     'o8_target', 'o9_target', 'o10_target']]) = (\n",
    "    df[['o1_target', 'o2_target', 'o3_target', 'o4_target', 'o5_target','o6_target', 'o7_target', \n",
    "        'o8_target', 'o9_target', 'o10_target']].fillna(0))"
   ]
  },
  {
   "cell_type": "code",
   "execution_count": 12,
   "metadata": {
    "ExecuteTime": {
     "end_time": "2018-01-12T20:58:34.667640Z",
     "start_time": "2018-01-12T20:58:15.279587Z"
    }
   },
   "outputs": [
    {
     "data": {
      "text/plain": [
       "4998934"
      ]
     },
     "execution_count": 12,
     "metadata": {},
     "output_type": "execute_result"
    }
   ],
   "source": [
    "len(df[df.mean_days_bw_orders.isnull()])"
   ]
  },
  {
   "cell_type": "markdown",
   "metadata": {},
   "source": [
    "__If 'mean_days_bw_orders' == 0, this means that this particular user-prod pairing did not occur in the first 10 orders.  \n",
    "Hence, these rows can be dropped.__"
   ]
  },
  {
   "cell_type": "code",
   "execution_count": 13,
   "metadata": {
    "ExecuteTime": {
     "end_time": "2018-01-12T20:58:55.405672Z",
     "start_time": "2018-01-12T20:58:34.672559Z"
    },
    "collapsed": true
   },
   "outputs": [],
   "source": [
    "df = df.dropna(subset = ['mean_days_bw_orders'])"
   ]
  },
  {
   "cell_type": "code",
   "execution_count": 14,
   "metadata": {
    "ExecuteTime": {
     "end_time": "2018-01-12T20:58:55.430949Z",
     "start_time": "2018-01-12T20:58:55.416233Z"
    }
   },
   "outputs": [
    {
     "data": {
      "text/plain": [
       "(5133432, 80)"
      ]
     },
     "execution_count": 14,
     "metadata": {},
     "output_type": "execute_result"
    }
   ],
   "source": [
    "df.shape"
   ]
  },
  {
   "cell_type": "markdown",
   "metadata": {},
   "source": [
    "## Define X and y"
   ]
  },
  {
   "cell_type": "code",
   "execution_count": 15,
   "metadata": {
    "ExecuteTime": {
     "end_time": "2018-01-12T20:58:55.683834Z",
     "start_time": "2018-01-12T20:58:55.433434Z"
    }
   },
   "outputs": [
    {
     "data": {
      "text/html": [
       "<div>\n",
       "<style>\n",
       "    .dataframe thead tr:only-child th {\n",
       "        text-align: right;\n",
       "    }\n",
       "\n",
       "    .dataframe thead th {\n",
       "        text-align: left;\n",
       "    }\n",
       "\n",
       "    .dataframe tbody tr th {\n",
       "        vertical-align: top;\n",
       "    }\n",
       "</style>\n",
       "<table border=\"1\" class=\"dataframe\">\n",
       "  <thead>\n",
       "    <tr style=\"text-align: right;\">\n",
       "      <th></th>\n",
       "      <th>user_id</th>\n",
       "      <th>product_id</th>\n",
       "      <th>first_appearance</th>\n",
       "      <th>o1_atc_relative</th>\n",
       "      <th>o1_day</th>\n",
       "      <th>o1_hour</th>\n",
       "      <th>o1_date</th>\n",
       "      <th>o1_basket_size</th>\n",
       "      <th>o1_reorder_prop</th>\n",
       "      <th>o1_target</th>\n",
       "      <th>o2_atc_relative</th>\n",
       "      <th>o2_day</th>\n",
       "      <th>o2_hour</th>\n",
       "      <th>o2_date</th>\n",
       "      <th>o2_basket_size</th>\n",
       "      <th>o2_reorder_prop</th>\n",
       "      <th>o2_target</th>\n",
       "      <th>o3_atc_relative</th>\n",
       "      <th>o3_day</th>\n",
       "      <th>o3_hour</th>\n",
       "      <th>o3_date</th>\n",
       "      <th>o3_basket_size</th>\n",
       "      <th>o3_reorder_prop</th>\n",
       "      <th>o3_target</th>\n",
       "      <th>o4_atc_relative</th>\n",
       "      <th>o4_day</th>\n",
       "      <th>o4_hour</th>\n",
       "      <th>o4_date</th>\n",
       "      <th>o4_basket_size</th>\n",
       "      <th>o4_reorder_prop</th>\n",
       "      <th>o4_target</th>\n",
       "      <th>o5_atc_relative</th>\n",
       "      <th>o5_day</th>\n",
       "      <th>o5_hour</th>\n",
       "      <th>o5_date</th>\n",
       "      <th>o5_basket_size</th>\n",
       "      <th>o5_reorder_prop</th>\n",
       "      <th>o5_target</th>\n",
       "      <th>o6_atc_relative</th>\n",
       "      <th>o6_day</th>\n",
       "      <th>o6_hour</th>\n",
       "      <th>o6_date</th>\n",
       "      <th>o6_basket_size</th>\n",
       "      <th>o6_reorder_prop</th>\n",
       "      <th>o6_target</th>\n",
       "      <th>o7_atc_relative</th>\n",
       "      <th>o7_day</th>\n",
       "      <th>o7_hour</th>\n",
       "      <th>o7_date</th>\n",
       "      <th>o7_basket_size</th>\n",
       "      <th>o7_reorder_prop</th>\n",
       "      <th>o7_target</th>\n",
       "      <th>o8_atc_relative</th>\n",
       "      <th>o8_day</th>\n",
       "      <th>o8_hour</th>\n",
       "      <th>o8_date</th>\n",
       "      <th>o8_basket_size</th>\n",
       "      <th>o8_reorder_prop</th>\n",
       "      <th>o8_target</th>\n",
       "      <th>o9_atc_relative</th>\n",
       "      <th>o9_day</th>\n",
       "      <th>o9_hour</th>\n",
       "      <th>o9_date</th>\n",
       "      <th>o9_basket_size</th>\n",
       "      <th>o9_reorder_prop</th>\n",
       "      <th>o9_target</th>\n",
       "      <th>o10_atc_relative</th>\n",
       "      <th>o10_day</th>\n",
       "      <th>o10_hour</th>\n",
       "      <th>o10_date</th>\n",
       "      <th>o10_basket_size</th>\n",
       "      <th>o10_reorder_prop</th>\n",
       "      <th>o10_target</th>\n",
       "      <th>user_total_shops</th>\n",
       "      <th>mean_days_bw_orders</th>\n",
       "      <th>mean_ATC_position</th>\n",
       "      <th>total_times_purchased</th>\n",
       "      <th>purchase_rate</th>\n",
       "      <th>user_avg_reorder_prop</th>\n",
       "      <th>user_overall_reorder_prop</th>\n",
       "    </tr>\n",
       "  </thead>\n",
       "  <tbody>\n",
       "    <tr>\n",
       "      <th>0</th>\n",
       "      <td>1.0</td>\n",
       "      <td>196.0</td>\n",
       "      <td>1.0</td>\n",
       "      <td>0.2</td>\n",
       "      <td>2.0</td>\n",
       "      <td>8.0</td>\n",
       "      <td>NaN</td>\n",
       "      <td>5.0</td>\n",
       "      <td>0.0</td>\n",
       "      <td>1.0</td>\n",
       "      <td>0.166667</td>\n",
       "      <td>3.0</td>\n",
       "      <td>7.0</td>\n",
       "      <td>15.0</td>\n",
       "      <td>6.0</td>\n",
       "      <td>0.5</td>\n",
       "      <td>1.0</td>\n",
       "      <td>0.2</td>\n",
       "      <td>3.0</td>\n",
       "      <td>12.0</td>\n",
       "      <td>36.0</td>\n",
       "      <td>5.0</td>\n",
       "      <td>0.6</td>\n",
       "      <td>1.0</td>\n",
       "      <td>0.2</td>\n",
       "      <td>4.0</td>\n",
       "      <td>7.0</td>\n",
       "      <td>65.0</td>\n",
       "      <td>5.0</td>\n",
       "      <td>1.0</td>\n",
       "      <td>1.0</td>\n",
       "      <td>0.125</td>\n",
       "      <td>4.0</td>\n",
       "      <td>15.0</td>\n",
       "      <td>93.0</td>\n",
       "      <td>8.0</td>\n",
       "      <td>0.625</td>\n",
       "      <td>1.0</td>\n",
       "      <td>0.25</td>\n",
       "      <td>2.0</td>\n",
       "      <td>7.0</td>\n",
       "      <td>112.0</td>\n",
       "      <td>4.0</td>\n",
       "      <td>1.0</td>\n",
       "      <td>1.0</td>\n",
       "      <td>0.2</td>\n",
       "      <td>1.0</td>\n",
       "      <td>9.0</td>\n",
       "      <td>132.0</td>\n",
       "      <td>5.0</td>\n",
       "      <td>1.0</td>\n",
       "      <td>1.0</td>\n",
       "      <td>0.333333</td>\n",
       "      <td>1.0</td>\n",
       "      <td>14.0</td>\n",
       "      <td>146.0</td>\n",
       "      <td>6.0</td>\n",
       "      <td>0.666667</td>\n",
       "      <td>1.0</td>\n",
       "      <td>0.666667</td>\n",
       "      <td>1.0</td>\n",
       "      <td>16.0</td>\n",
       "      <td>146.0</td>\n",
       "      <td>6.0</td>\n",
       "      <td>1.0</td>\n",
       "      <td>1.0</td>\n",
       "      <td>0.111111</td>\n",
       "      <td>4.0</td>\n",
       "      <td>8.0</td>\n",
       "      <td>176.0</td>\n",
       "      <td>9.0</td>\n",
       "      <td>0.666667</td>\n",
       "      <td>1.0</td>\n",
       "      <td>11.0</td>\n",
       "      <td>18.714286</td>\n",
       "      <td>0.260185</td>\n",
       "      <td>9.0</td>\n",
       "      <td>1.000000</td>\n",
       "      <td>0.777843</td>\n",
       "      <td>0.724311</td>\n",
       "    </tr>\n",
       "    <tr>\n",
       "      <th>1</th>\n",
       "      <td>1.0</td>\n",
       "      <td>10258.0</td>\n",
       "      <td>2.0</td>\n",
       "      <td>NaN</td>\n",
       "      <td>NaN</td>\n",
       "      <td>NaN</td>\n",
       "      <td>NaN</td>\n",
       "      <td>NaN</td>\n",
       "      <td>NaN</td>\n",
       "      <td>0.0</td>\n",
       "      <td>0.333333</td>\n",
       "      <td>3.0</td>\n",
       "      <td>7.0</td>\n",
       "      <td>15.0</td>\n",
       "      <td>6.0</td>\n",
       "      <td>0.5</td>\n",
       "      <td>1.0</td>\n",
       "      <td>0.6</td>\n",
       "      <td>3.0</td>\n",
       "      <td>12.0</td>\n",
       "      <td>36.0</td>\n",
       "      <td>5.0</td>\n",
       "      <td>0.6</td>\n",
       "      <td>1.0</td>\n",
       "      <td>0.6</td>\n",
       "      <td>4.0</td>\n",
       "      <td>7.0</td>\n",
       "      <td>65.0</td>\n",
       "      <td>5.0</td>\n",
       "      <td>1.0</td>\n",
       "      <td>1.0</td>\n",
       "      <td>0.375</td>\n",
       "      <td>4.0</td>\n",
       "      <td>15.0</td>\n",
       "      <td>93.0</td>\n",
       "      <td>8.0</td>\n",
       "      <td>0.625</td>\n",
       "      <td>1.0</td>\n",
       "      <td>0.75</td>\n",
       "      <td>2.0</td>\n",
       "      <td>7.0</td>\n",
       "      <td>112.0</td>\n",
       "      <td>4.0</td>\n",
       "      <td>1.0</td>\n",
       "      <td>1.0</td>\n",
       "      <td>0.4</td>\n",
       "      <td>1.0</td>\n",
       "      <td>9.0</td>\n",
       "      <td>132.0</td>\n",
       "      <td>5.0</td>\n",
       "      <td>1.0</td>\n",
       "      <td>1.0</td>\n",
       "      <td>0.500000</td>\n",
       "      <td>1.0</td>\n",
       "      <td>14.0</td>\n",
       "      <td>146.0</td>\n",
       "      <td>6.0</td>\n",
       "      <td>0.666667</td>\n",
       "      <td>1.0</td>\n",
       "      <td>0.833333</td>\n",
       "      <td>1.0</td>\n",
       "      <td>16.0</td>\n",
       "      <td>146.0</td>\n",
       "      <td>6.0</td>\n",
       "      <td>1.0</td>\n",
       "      <td>1.0</td>\n",
       "      <td>0.666667</td>\n",
       "      <td>4.0</td>\n",
       "      <td>8.0</td>\n",
       "      <td>176.0</td>\n",
       "      <td>9.0</td>\n",
       "      <td>0.666667</td>\n",
       "      <td>1.0</td>\n",
       "      <td>11.0</td>\n",
       "      <td>18.714286</td>\n",
       "      <td>0.548958</td>\n",
       "      <td>8.0</td>\n",
       "      <td>0.888889</td>\n",
       "      <td>0.715610</td>\n",
       "      <td>0.724311</td>\n",
       "    </tr>\n",
       "    <tr>\n",
       "      <th>2</th>\n",
       "      <td>1.0</td>\n",
       "      <td>10326.0</td>\n",
       "      <td>5.0</td>\n",
       "      <td>NaN</td>\n",
       "      <td>NaN</td>\n",
       "      <td>NaN</td>\n",
       "      <td>NaN</td>\n",
       "      <td>NaN</td>\n",
       "      <td>NaN</td>\n",
       "      <td>0.0</td>\n",
       "      <td>NaN</td>\n",
       "      <td>NaN</td>\n",
       "      <td>NaN</td>\n",
       "      <td>NaN</td>\n",
       "      <td>NaN</td>\n",
       "      <td>NaN</td>\n",
       "      <td>0.0</td>\n",
       "      <td>NaN</td>\n",
       "      <td>NaN</td>\n",
       "      <td>NaN</td>\n",
       "      <td>NaN</td>\n",
       "      <td>NaN</td>\n",
       "      <td>NaN</td>\n",
       "      <td>0.0</td>\n",
       "      <td>NaN</td>\n",
       "      <td>NaN</td>\n",
       "      <td>NaN</td>\n",
       "      <td>NaN</td>\n",
       "      <td>NaN</td>\n",
       "      <td>NaN</td>\n",
       "      <td>0.0</td>\n",
       "      <td>0.625</td>\n",
       "      <td>4.0</td>\n",
       "      <td>15.0</td>\n",
       "      <td>93.0</td>\n",
       "      <td>8.0</td>\n",
       "      <td>0.625</td>\n",
       "      <td>1.0</td>\n",
       "      <td>NaN</td>\n",
       "      <td>NaN</td>\n",
       "      <td>NaN</td>\n",
       "      <td>NaN</td>\n",
       "      <td>NaN</td>\n",
       "      <td>NaN</td>\n",
       "      <td>0.0</td>\n",
       "      <td>NaN</td>\n",
       "      <td>NaN</td>\n",
       "      <td>NaN</td>\n",
       "      <td>NaN</td>\n",
       "      <td>NaN</td>\n",
       "      <td>NaN</td>\n",
       "      <td>0.0</td>\n",
       "      <td>NaN</td>\n",
       "      <td>NaN</td>\n",
       "      <td>NaN</td>\n",
       "      <td>NaN</td>\n",
       "      <td>NaN</td>\n",
       "      <td>NaN</td>\n",
       "      <td>0.0</td>\n",
       "      <td>NaN</td>\n",
       "      <td>NaN</td>\n",
       "      <td>NaN</td>\n",
       "      <td>NaN</td>\n",
       "      <td>NaN</td>\n",
       "      <td>NaN</td>\n",
       "      <td>0.0</td>\n",
       "      <td>NaN</td>\n",
       "      <td>NaN</td>\n",
       "      <td>NaN</td>\n",
       "      <td>NaN</td>\n",
       "      <td>NaN</td>\n",
       "      <td>NaN</td>\n",
       "      <td>0.0</td>\n",
       "      <td>11.0</td>\n",
       "      <td>93.000000</td>\n",
       "      <td>0.625000</td>\n",
       "      <td>1.0</td>\n",
       "      <td>0.111111</td>\n",
       "      <td>0.653439</td>\n",
       "      <td>0.724311</td>\n",
       "    </tr>\n",
       "    <tr>\n",
       "      <th>3</th>\n",
       "      <td>1.0</td>\n",
       "      <td>12427.0</td>\n",
       "      <td>1.0</td>\n",
       "      <td>0.6</td>\n",
       "      <td>2.0</td>\n",
       "      <td>8.0</td>\n",
       "      <td>NaN</td>\n",
       "      <td>5.0</td>\n",
       "      <td>0.0</td>\n",
       "      <td>1.0</td>\n",
       "      <td>0.500000</td>\n",
       "      <td>3.0</td>\n",
       "      <td>7.0</td>\n",
       "      <td>15.0</td>\n",
       "      <td>6.0</td>\n",
       "      <td>0.5</td>\n",
       "      <td>1.0</td>\n",
       "      <td>0.4</td>\n",
       "      <td>3.0</td>\n",
       "      <td>12.0</td>\n",
       "      <td>36.0</td>\n",
       "      <td>5.0</td>\n",
       "      <td>0.6</td>\n",
       "      <td>1.0</td>\n",
       "      <td>0.4</td>\n",
       "      <td>4.0</td>\n",
       "      <td>7.0</td>\n",
       "      <td>65.0</td>\n",
       "      <td>5.0</td>\n",
       "      <td>1.0</td>\n",
       "      <td>1.0</td>\n",
       "      <td>0.250</td>\n",
       "      <td>4.0</td>\n",
       "      <td>15.0</td>\n",
       "      <td>93.0</td>\n",
       "      <td>8.0</td>\n",
       "      <td>0.625</td>\n",
       "      <td>1.0</td>\n",
       "      <td>0.50</td>\n",
       "      <td>2.0</td>\n",
       "      <td>7.0</td>\n",
       "      <td>112.0</td>\n",
       "      <td>4.0</td>\n",
       "      <td>1.0</td>\n",
       "      <td>1.0</td>\n",
       "      <td>0.6</td>\n",
       "      <td>1.0</td>\n",
       "      <td>9.0</td>\n",
       "      <td>132.0</td>\n",
       "      <td>5.0</td>\n",
       "      <td>1.0</td>\n",
       "      <td>1.0</td>\n",
       "      <td>0.166667</td>\n",
       "      <td>1.0</td>\n",
       "      <td>14.0</td>\n",
       "      <td>146.0</td>\n",
       "      <td>6.0</td>\n",
       "      <td>0.666667</td>\n",
       "      <td>1.0</td>\n",
       "      <td>1.000000</td>\n",
       "      <td>1.0</td>\n",
       "      <td>16.0</td>\n",
       "      <td>146.0</td>\n",
       "      <td>6.0</td>\n",
       "      <td>1.0</td>\n",
       "      <td>1.0</td>\n",
       "      <td>1.000000</td>\n",
       "      <td>4.0</td>\n",
       "      <td>8.0</td>\n",
       "      <td>176.0</td>\n",
       "      <td>9.0</td>\n",
       "      <td>0.666667</td>\n",
       "      <td>1.0</td>\n",
       "      <td>11.0</td>\n",
       "      <td>18.714286</td>\n",
       "      <td>0.490741</td>\n",
       "      <td>9.0</td>\n",
       "      <td>1.000000</td>\n",
       "      <td>0.740182</td>\n",
       "      <td>0.724311</td>\n",
       "    </tr>\n",
       "    <tr>\n",
       "      <th>4</th>\n",
       "      <td>1.0</td>\n",
       "      <td>13032.0</td>\n",
       "      <td>2.0</td>\n",
       "      <td>NaN</td>\n",
       "      <td>NaN</td>\n",
       "      <td>NaN</td>\n",
       "      <td>NaN</td>\n",
       "      <td>NaN</td>\n",
       "      <td>NaN</td>\n",
       "      <td>0.0</td>\n",
       "      <td>1.000000</td>\n",
       "      <td>3.0</td>\n",
       "      <td>7.0</td>\n",
       "      <td>15.0</td>\n",
       "      <td>6.0</td>\n",
       "      <td>0.5</td>\n",
       "      <td>1.0</td>\n",
       "      <td>NaN</td>\n",
       "      <td>NaN</td>\n",
       "      <td>NaN</td>\n",
       "      <td>NaN</td>\n",
       "      <td>NaN</td>\n",
       "      <td>NaN</td>\n",
       "      <td>0.0</td>\n",
       "      <td>NaN</td>\n",
       "      <td>NaN</td>\n",
       "      <td>NaN</td>\n",
       "      <td>NaN</td>\n",
       "      <td>NaN</td>\n",
       "      <td>NaN</td>\n",
       "      <td>0.0</td>\n",
       "      <td>NaN</td>\n",
       "      <td>NaN</td>\n",
       "      <td>NaN</td>\n",
       "      <td>NaN</td>\n",
       "      <td>NaN</td>\n",
       "      <td>NaN</td>\n",
       "      <td>0.0</td>\n",
       "      <td>NaN</td>\n",
       "      <td>NaN</td>\n",
       "      <td>NaN</td>\n",
       "      <td>NaN</td>\n",
       "      <td>NaN</td>\n",
       "      <td>NaN</td>\n",
       "      <td>0.0</td>\n",
       "      <td>1.0</td>\n",
       "      <td>1.0</td>\n",
       "      <td>9.0</td>\n",
       "      <td>132.0</td>\n",
       "      <td>5.0</td>\n",
       "      <td>1.0</td>\n",
       "      <td>1.0</td>\n",
       "      <td>NaN</td>\n",
       "      <td>NaN</td>\n",
       "      <td>NaN</td>\n",
       "      <td>NaN</td>\n",
       "      <td>NaN</td>\n",
       "      <td>NaN</td>\n",
       "      <td>0.0</td>\n",
       "      <td>NaN</td>\n",
       "      <td>NaN</td>\n",
       "      <td>NaN</td>\n",
       "      <td>NaN</td>\n",
       "      <td>NaN</td>\n",
       "      <td>NaN</td>\n",
       "      <td>0.0</td>\n",
       "      <td>0.888889</td>\n",
       "      <td>4.0</td>\n",
       "      <td>8.0</td>\n",
       "      <td>176.0</td>\n",
       "      <td>9.0</td>\n",
       "      <td>0.666667</td>\n",
       "      <td>1.0</td>\n",
       "      <td>11.0</td>\n",
       "      <td>117.000000</td>\n",
       "      <td>1.000000</td>\n",
       "      <td>2.0</td>\n",
       "      <td>0.222222</td>\n",
       "      <td>0.661117</td>\n",
       "      <td>0.724311</td>\n",
       "    </tr>\n",
       "  </tbody>\n",
       "</table>\n",
       "</div>"
      ],
      "text/plain": [
       "   user_id  product_id  first_appearance  o1_atc_relative  o1_day  o1_hour  \\\n",
       "0      1.0       196.0               1.0              0.2     2.0      8.0   \n",
       "1      1.0     10258.0               2.0              NaN     NaN      NaN   \n",
       "2      1.0     10326.0               5.0              NaN     NaN      NaN   \n",
       "3      1.0     12427.0               1.0              0.6     2.0      8.0   \n",
       "4      1.0     13032.0               2.0              NaN     NaN      NaN   \n",
       "\n",
       "   o1_date  o1_basket_size  o1_reorder_prop  o1_target  o2_atc_relative  \\\n",
       "0      NaN             5.0              0.0        1.0         0.166667   \n",
       "1      NaN             NaN              NaN        0.0         0.333333   \n",
       "2      NaN             NaN              NaN        0.0              NaN   \n",
       "3      NaN             5.0              0.0        1.0         0.500000   \n",
       "4      NaN             NaN              NaN        0.0         1.000000   \n",
       "\n",
       "   o2_day  o2_hour  o2_date  o2_basket_size  o2_reorder_prop  o2_target  \\\n",
       "0     3.0      7.0     15.0             6.0              0.5        1.0   \n",
       "1     3.0      7.0     15.0             6.0              0.5        1.0   \n",
       "2     NaN      NaN      NaN             NaN              NaN        0.0   \n",
       "3     3.0      7.0     15.0             6.0              0.5        1.0   \n",
       "4     3.0      7.0     15.0             6.0              0.5        1.0   \n",
       "\n",
       "   o3_atc_relative  o3_day  o3_hour  o3_date  o3_basket_size  o3_reorder_prop  \\\n",
       "0              0.2     3.0     12.0     36.0             5.0              0.6   \n",
       "1              0.6     3.0     12.0     36.0             5.0              0.6   \n",
       "2              NaN     NaN      NaN      NaN             NaN              NaN   \n",
       "3              0.4     3.0     12.0     36.0             5.0              0.6   \n",
       "4              NaN     NaN      NaN      NaN             NaN              NaN   \n",
       "\n",
       "   o3_target  o4_atc_relative  o4_day  o4_hour  o4_date  o4_basket_size  \\\n",
       "0        1.0              0.2     4.0      7.0     65.0             5.0   \n",
       "1        1.0              0.6     4.0      7.0     65.0             5.0   \n",
       "2        0.0              NaN     NaN      NaN      NaN             NaN   \n",
       "3        1.0              0.4     4.0      7.0     65.0             5.0   \n",
       "4        0.0              NaN     NaN      NaN      NaN             NaN   \n",
       "\n",
       "   o4_reorder_prop  o4_target  o5_atc_relative  o5_day  o5_hour  o5_date  \\\n",
       "0              1.0        1.0            0.125     4.0     15.0     93.0   \n",
       "1              1.0        1.0            0.375     4.0     15.0     93.0   \n",
       "2              NaN        0.0            0.625     4.0     15.0     93.0   \n",
       "3              1.0        1.0            0.250     4.0     15.0     93.0   \n",
       "4              NaN        0.0              NaN     NaN      NaN      NaN   \n",
       "\n",
       "   o5_basket_size  o5_reorder_prop  o5_target  o6_atc_relative  o6_day  \\\n",
       "0             8.0            0.625        1.0             0.25     2.0   \n",
       "1             8.0            0.625        1.0             0.75     2.0   \n",
       "2             8.0            0.625        1.0              NaN     NaN   \n",
       "3             8.0            0.625        1.0             0.50     2.0   \n",
       "4             NaN              NaN        0.0              NaN     NaN   \n",
       "\n",
       "   o6_hour  o6_date  o6_basket_size  o6_reorder_prop  o6_target  \\\n",
       "0      7.0    112.0             4.0              1.0        1.0   \n",
       "1      7.0    112.0             4.0              1.0        1.0   \n",
       "2      NaN      NaN             NaN              NaN        0.0   \n",
       "3      7.0    112.0             4.0              1.0        1.0   \n",
       "4      NaN      NaN             NaN              NaN        0.0   \n",
       "\n",
       "   o7_atc_relative  o7_day  o7_hour  o7_date  o7_basket_size  o7_reorder_prop  \\\n",
       "0              0.2     1.0      9.0    132.0             5.0              1.0   \n",
       "1              0.4     1.0      9.0    132.0             5.0              1.0   \n",
       "2              NaN     NaN      NaN      NaN             NaN              NaN   \n",
       "3              0.6     1.0      9.0    132.0             5.0              1.0   \n",
       "4              1.0     1.0      9.0    132.0             5.0              1.0   \n",
       "\n",
       "   o7_target  o8_atc_relative  o8_day  o8_hour  o8_date  o8_basket_size  \\\n",
       "0        1.0         0.333333     1.0     14.0    146.0             6.0   \n",
       "1        1.0         0.500000     1.0     14.0    146.0             6.0   \n",
       "2        0.0              NaN     NaN      NaN      NaN             NaN   \n",
       "3        1.0         0.166667     1.0     14.0    146.0             6.0   \n",
       "4        1.0              NaN     NaN      NaN      NaN             NaN   \n",
       "\n",
       "   o8_reorder_prop  o8_target  o9_atc_relative  o9_day  o9_hour  o9_date  \\\n",
       "0         0.666667        1.0         0.666667     1.0     16.0    146.0   \n",
       "1         0.666667        1.0         0.833333     1.0     16.0    146.0   \n",
       "2              NaN        0.0              NaN     NaN      NaN      NaN   \n",
       "3         0.666667        1.0         1.000000     1.0     16.0    146.0   \n",
       "4              NaN        0.0              NaN     NaN      NaN      NaN   \n",
       "\n",
       "   o9_basket_size  o9_reorder_prop  o9_target  o10_atc_relative  o10_day  \\\n",
       "0             6.0              1.0        1.0          0.111111      4.0   \n",
       "1             6.0              1.0        1.0          0.666667      4.0   \n",
       "2             NaN              NaN        0.0               NaN      NaN   \n",
       "3             6.0              1.0        1.0          1.000000      4.0   \n",
       "4             NaN              NaN        0.0          0.888889      4.0   \n",
       "\n",
       "   o10_hour  o10_date  o10_basket_size  o10_reorder_prop  o10_target  \\\n",
       "0       8.0     176.0              9.0          0.666667         1.0   \n",
       "1       8.0     176.0              9.0          0.666667         1.0   \n",
       "2       NaN       NaN              NaN               NaN         0.0   \n",
       "3       8.0     176.0              9.0          0.666667         1.0   \n",
       "4       8.0     176.0              9.0          0.666667         1.0   \n",
       "\n",
       "   user_total_shops  mean_days_bw_orders  mean_ATC_position  \\\n",
       "0              11.0            18.714286           0.260185   \n",
       "1              11.0            18.714286           0.548958   \n",
       "2              11.0            93.000000           0.625000   \n",
       "3              11.0            18.714286           0.490741   \n",
       "4              11.0           117.000000           1.000000   \n",
       "\n",
       "   total_times_purchased  purchase_rate  user_avg_reorder_prop  \\\n",
       "0                    9.0       1.000000               0.777843   \n",
       "1                    8.0       0.888889               0.715610   \n",
       "2                    1.0       0.111111               0.653439   \n",
       "3                    9.0       1.000000               0.740182   \n",
       "4                    2.0       0.222222               0.661117   \n",
       "\n",
       "   user_overall_reorder_prop  \n",
       "0                   0.724311  \n",
       "1                   0.724311  \n",
       "2                   0.724311  \n",
       "3                   0.724311  \n",
       "4                   0.724311  "
      ]
     },
     "execution_count": 15,
     "metadata": {},
     "output_type": "execute_result"
    }
   ],
   "source": [
    "df.head()"
   ]
  },
  {
   "cell_type": "code",
   "execution_count": 16,
   "metadata": {
    "ExecuteTime": {
     "end_time": "2018-01-12T20:58:58.523571Z",
     "start_time": "2018-01-12T20:58:55.687561Z"
    },
    "collapsed": true
   },
   "outputs": [],
   "source": [
    "X = df[['first_appearance', 'o1_target', 'o2_target', 'o3_target', 'o4_target', 'o5_target',\n",
    "        'o6_target', 'o7_target', 'o8_target', 'o9_target', 'mean_days_bw_orders', 'mean_ATC_position', \n",
    "        'purchase_rate', 'user_avg_reorder_prop', 'user_overall_reorder_prop']]\n",
    "\n",
    "y = df.o10_target"
   ]
  },
  {
   "cell_type": "markdown",
   "metadata": {},
   "source": [
    "__Double check there aren't any NaN values in variables__"
   ]
  },
  {
   "cell_type": "code",
   "execution_count": 17,
   "metadata": {
    "ExecuteTime": {
     "end_time": "2018-01-12T20:59:00.575277Z",
     "start_time": "2018-01-12T20:58:58.533252Z"
    }
   },
   "outputs": [
    {
     "data": {
      "text/plain": [
       "False"
      ]
     },
     "execution_count": 17,
     "metadata": {},
     "output_type": "execute_result"
    }
   ],
   "source": [
    "X.isnull().values.any()"
   ]
  },
  {
   "cell_type": "markdown",
   "metadata": {},
   "source": [
    "# Test/Train Split"
   ]
  },
  {
   "cell_type": "code",
   "execution_count": 18,
   "metadata": {
    "ExecuteTime": {
     "end_time": "2018-01-12T20:59:04.417432Z",
     "start_time": "2018-01-12T20:59:00.579591Z"
    },
    "collapsed": true
   },
   "outputs": [],
   "source": [
    "X_train, X_test, y_train, y_test = train_test_split(X, y, test_size=0.3, random_state=4444)"
   ]
  },
  {
   "cell_type": "code",
   "execution_count": 19,
   "metadata": {
    "ExecuteTime": {
     "end_time": "2018-01-12T20:59:08.751021Z",
     "start_time": "2018-01-12T20:59:04.426460Z"
    }
   },
   "outputs": [],
   "source": [
    "dfTrain = X_train.join(y_train)"
   ]
  },
  {
   "cell_type": "code",
   "execution_count": 20,
   "metadata": {
    "ExecuteTime": {
     "end_time": "2018-01-12T20:59:08.815947Z",
     "start_time": "2018-01-12T20:59:08.753646Z"
    }
   },
   "outputs": [
    {
     "data": {
      "text/html": [
       "<div>\n",
       "<style>\n",
       "    .dataframe thead tr:only-child th {\n",
       "        text-align: right;\n",
       "    }\n",
       "\n",
       "    .dataframe thead th {\n",
       "        text-align: left;\n",
       "    }\n",
       "\n",
       "    .dataframe tbody tr th {\n",
       "        vertical-align: top;\n",
       "    }\n",
       "</style>\n",
       "<table border=\"1\" class=\"dataframe\">\n",
       "  <thead>\n",
       "    <tr style=\"text-align: right;\">\n",
       "      <th></th>\n",
       "      <th>first_appearance</th>\n",
       "      <th>o1_target</th>\n",
       "      <th>o2_target</th>\n",
       "      <th>o3_target</th>\n",
       "      <th>o4_target</th>\n",
       "      <th>o5_target</th>\n",
       "      <th>o6_target</th>\n",
       "      <th>o7_target</th>\n",
       "      <th>o8_target</th>\n",
       "      <th>o9_target</th>\n",
       "      <th>mean_days_bw_orders</th>\n",
       "      <th>mean_ATC_position</th>\n",
       "      <th>purchase_rate</th>\n",
       "      <th>user_avg_reorder_prop</th>\n",
       "      <th>user_overall_reorder_prop</th>\n",
       "      <th>o10_target</th>\n",
       "    </tr>\n",
       "  </thead>\n",
       "  <tbody>\n",
       "    <tr>\n",
       "      <th>9914904</th>\n",
       "      <td>2.0</td>\n",
       "      <td>0.0</td>\n",
       "      <td>1.0</td>\n",
       "      <td>0.0</td>\n",
       "      <td>1.0</td>\n",
       "      <td>1.0</td>\n",
       "      <td>0.0</td>\n",
       "      <td>0.0</td>\n",
       "      <td>0.0</td>\n",
       "      <td>0.0</td>\n",
       "      <td>16.0</td>\n",
       "      <td>0.856048</td>\n",
       "      <td>0.333333</td>\n",
       "      <td>0.526998</td>\n",
       "      <td>0.603817</td>\n",
       "      <td>0.0</td>\n",
       "    </tr>\n",
       "    <tr>\n",
       "      <th>1492887</th>\n",
       "      <td>3.0</td>\n",
       "      <td>0.0</td>\n",
       "      <td>0.0</td>\n",
       "      <td>1.0</td>\n",
       "      <td>0.0</td>\n",
       "      <td>1.0</td>\n",
       "      <td>0.0</td>\n",
       "      <td>0.0</td>\n",
       "      <td>0.0</td>\n",
       "      <td>0.0</td>\n",
       "      <td>40.0</td>\n",
       "      <td>0.219697</td>\n",
       "      <td>0.222222</td>\n",
       "      <td>0.619217</td>\n",
       "      <td>0.355670</td>\n",
       "      <td>0.0</td>\n",
       "    </tr>\n",
       "    <tr>\n",
       "      <th>10082665</th>\n",
       "      <td>6.0</td>\n",
       "      <td>0.0</td>\n",
       "      <td>0.0</td>\n",
       "      <td>0.0</td>\n",
       "      <td>0.0</td>\n",
       "      <td>0.0</td>\n",
       "      <td>1.0</td>\n",
       "      <td>0.0</td>\n",
       "      <td>0.0</td>\n",
       "      <td>0.0</td>\n",
       "      <td>44.0</td>\n",
       "      <td>0.166667</td>\n",
       "      <td>0.111111</td>\n",
       "      <td>0.658091</td>\n",
       "      <td>0.368127</td>\n",
       "      <td>0.0</td>\n",
       "    </tr>\n",
       "    <tr>\n",
       "      <th>3374410</th>\n",
       "      <td>3.0</td>\n",
       "      <td>0.0</td>\n",
       "      <td>0.0</td>\n",
       "      <td>1.0</td>\n",
       "      <td>1.0</td>\n",
       "      <td>0.0</td>\n",
       "      <td>0.0</td>\n",
       "      <td>0.0</td>\n",
       "      <td>0.0</td>\n",
       "      <td>0.0</td>\n",
       "      <td>1.0</td>\n",
       "      <td>0.761111</td>\n",
       "      <td>0.222222</td>\n",
       "      <td>0.482692</td>\n",
       "      <td>0.702355</td>\n",
       "      <td>0.0</td>\n",
       "    </tr>\n",
       "    <tr>\n",
       "      <th>6677738</th>\n",
       "      <td>3.0</td>\n",
       "      <td>0.0</td>\n",
       "      <td>0.0</td>\n",
       "      <td>1.0</td>\n",
       "      <td>1.0</td>\n",
       "      <td>0.0</td>\n",
       "      <td>0.0</td>\n",
       "      <td>0.0</td>\n",
       "      <td>1.0</td>\n",
       "      <td>0.0</td>\n",
       "      <td>6.5</td>\n",
       "      <td>0.521528</td>\n",
       "      <td>0.333333</td>\n",
       "      <td>0.545517</td>\n",
       "      <td>0.780439</td>\n",
       "      <td>0.0</td>\n",
       "    </tr>\n",
       "  </tbody>\n",
       "</table>\n",
       "</div>"
      ],
      "text/plain": [
       "          first_appearance  o1_target  o2_target  o3_target  o4_target  \\\n",
       "9914904                2.0        0.0        1.0        0.0        1.0   \n",
       "1492887                3.0        0.0        0.0        1.0        0.0   \n",
       "10082665               6.0        0.0        0.0        0.0        0.0   \n",
       "3374410                3.0        0.0        0.0        1.0        1.0   \n",
       "6677738                3.0        0.0        0.0        1.0        1.0   \n",
       "\n",
       "          o5_target  o6_target  o7_target  o8_target  o9_target  \\\n",
       "9914904         1.0        0.0        0.0        0.0        0.0   \n",
       "1492887         1.0        0.0        0.0        0.0        0.0   \n",
       "10082665        0.0        1.0        0.0        0.0        0.0   \n",
       "3374410         0.0        0.0        0.0        0.0        0.0   \n",
       "6677738         0.0        0.0        0.0        1.0        0.0   \n",
       "\n",
       "          mean_days_bw_orders  mean_ATC_position  purchase_rate  \\\n",
       "9914904                  16.0           0.856048       0.333333   \n",
       "1492887                  40.0           0.219697       0.222222   \n",
       "10082665                 44.0           0.166667       0.111111   \n",
       "3374410                   1.0           0.761111       0.222222   \n",
       "6677738                   6.5           0.521528       0.333333   \n",
       "\n",
       "          user_avg_reorder_prop  user_overall_reorder_prop  o10_target  \n",
       "9914904                0.526998                   0.603817         0.0  \n",
       "1492887                0.619217                   0.355670         0.0  \n",
       "10082665               0.658091                   0.368127         0.0  \n",
       "3374410                0.482692                   0.702355         0.0  \n",
       "6677738                0.545517                   0.780439         0.0  "
      ]
     },
     "execution_count": 20,
     "metadata": {},
     "output_type": "execute_result"
    }
   ],
   "source": [
    "dfTrain.head()"
   ]
  },
  {
   "cell_type": "markdown",
   "metadata": {},
   "source": [
    "# Resampling to Manage Class Imbalance\n",
    "Check class balance for target variable ['o10_target']"
   ]
  },
  {
   "cell_type": "code",
   "execution_count": 21,
   "metadata": {
    "ExecuteTime": {
     "end_time": "2018-01-12T20:59:09.043152Z",
     "start_time": "2018-01-12T20:59:08.818675Z"
    }
   },
   "outputs": [
    {
     "data": {
      "text/plain": [
       "0.0    3120570\n",
       "1.0     472832\n",
       "Name: o10_target, dtype: int64"
      ]
     },
     "execution_count": 21,
     "metadata": {},
     "output_type": "execute_result"
    }
   ],
   "source": [
    "dfTrain.o10_target.value_counts()"
   ]
  },
  {
   "cell_type": "markdown",
   "metadata": {},
   "source": [
    "Need to down-sample majority (negative) class.\n",
    "\n",
    "Separate majority and minority classes:"
   ]
  },
  {
   "cell_type": "code",
   "execution_count": 22,
   "metadata": {
    "ExecuteTime": {
     "end_time": "2018-01-12T20:59:13.830457Z",
     "start_time": "2018-01-12T20:59:09.047893Z"
    },
    "collapsed": true
   },
   "outputs": [],
   "source": [
    "df_majority = dfTrain[dfTrain.o10_target == 0]\n",
    "df_minority = dfTrain[dfTrain.o10_target == 1]"
   ]
  },
  {
   "cell_type": "code",
   "execution_count": 23,
   "metadata": {
    "ExecuteTime": {
     "end_time": "2018-01-12T20:59:13.870032Z",
     "start_time": "2018-01-12T20:59:13.836565Z"
    }
   },
   "outputs": [
    {
     "name": "stdout",
     "output_type": "stream",
     "text": [
      "3120570\n",
      "472832\n"
     ]
    }
   ],
   "source": [
    "print(len(df_majority))\n",
    "print(len(df_minority))"
   ]
  },
  {
   "cell_type": "markdown",
   "metadata": {},
   "source": [
    "Downsample majority class:"
   ]
  },
  {
   "cell_type": "code",
   "execution_count": 24,
   "metadata": {
    "ExecuteTime": {
     "end_time": "2018-01-12T21:02:29.548036Z",
     "start_time": "2018-01-12T21:02:28.078261Z"
    },
    "collapsed": true
   },
   "outputs": [],
   "source": [
    "df_majority_downsampled = resample(df_majority, \n",
    "                                 replace=False,         # sample without replacement\n",
    "                                 n_samples=472832,     # to match minority class\n",
    "                                 random_state=123)      # reproducible results"
   ]
  },
  {
   "cell_type": "markdown",
   "metadata": {},
   "source": [
    "Combine minority class with downsampled majority class:"
   ]
  },
  {
   "cell_type": "code",
   "execution_count": 25,
   "metadata": {
    "ExecuteTime": {
     "end_time": "2018-01-12T21:02:30.210333Z",
     "start_time": "2018-01-12T21:02:29.552223Z"
    },
    "collapsed": true
   },
   "outputs": [],
   "source": [
    "dfTrainDown = pd.concat([df_majority_downsampled, df_minority])"
   ]
  },
  {
   "cell_type": "code",
   "execution_count": 26,
   "metadata": {
    "ExecuteTime": {
     "end_time": "2018-01-12T21:02:30.264597Z",
     "start_time": "2018-01-12T21:02:30.213075Z"
    }
   },
   "outputs": [
    {
     "data": {
      "text/plain": [
       "1.0    472832\n",
       "0.0    472832\n",
       "Name: o10_target, dtype: int64"
      ]
     },
     "execution_count": 26,
     "metadata": {},
     "output_type": "execute_result"
    }
   ],
   "source": [
    "dfTrainDown.o10_target.value_counts()"
   ]
  },
  {
   "cell_type": "code",
   "execution_count": 27,
   "metadata": {
    "ExecuteTime": {
     "end_time": "2018-01-12T21:02:32.915318Z",
     "start_time": "2018-01-12T21:02:32.907156Z"
    }
   },
   "outputs": [
    {
     "data": {
      "text/plain": [
       "Index(['first_appearance', 'o1_target', 'o2_target', 'o3_target', 'o4_target',\n",
       "       'o5_target', 'o6_target', 'o7_target', 'o8_target', 'o9_target',\n",
       "       'mean_days_bw_orders', 'mean_ATC_position', 'purchase_rate',\n",
       "       'user_avg_reorder_prop', 'user_overall_reorder_prop'],\n",
       "      dtype='object')"
      ]
     },
     "execution_count": 27,
     "metadata": {},
     "output_type": "execute_result"
    }
   ],
   "source": [
    "X.columns"
   ]
  },
  {
   "cell_type": "code",
   "execution_count": 28,
   "metadata": {
    "ExecuteTime": {
     "end_time": "2018-01-12T21:02:33.969180Z",
     "start_time": "2018-01-12T21:02:33.511160Z"
    },
    "collapsed": true
   },
   "outputs": [],
   "source": [
    "X_train = dfTrainDown[['first_appearance', 'o1_target', 'o2_target', 'o3_target', 'o4_target', 'o5_target',\n",
    "        'o6_target', 'o7_target', 'o8_target', 'o9_target', 'mean_days_bw_orders', 'mean_ATC_position', \n",
    "        'purchase_rate', 'user_avg_reorder_prop', 'user_overall_reorder_prop']]\n",
    "\n",
    "y_train = dfTrainDown.o10_target"
   ]
  },
  {
   "cell_type": "code",
   "execution_count": 29,
   "metadata": {
    "ExecuteTime": {
     "end_time": "2018-01-12T21:02:34.386530Z",
     "start_time": "2018-01-12T21:02:34.379559Z"
    }
   },
   "outputs": [
    {
     "name": "stdout",
     "output_type": "stream",
     "text": [
      "(945664, 15)\n",
      "(945664,)\n"
     ]
    }
   ],
   "source": [
    "print(X_train.shape)\n",
    "print(y_train.shape)"
   ]
  },
  {
   "cell_type": "markdown",
   "metadata": {},
   "source": [
    "# Classification Modeling"
   ]
  },
  {
   "cell_type": "code",
   "execution_count": 30,
   "metadata": {
    "ExecuteTime": {
     "end_time": "2018-01-12T21:02:37.634677Z",
     "start_time": "2018-01-12T21:02:37.612509Z"
    },
    "collapsed": true
   },
   "outputs": [],
   "source": [
    "def plot_confusion_matrix(cm,title='Confusion matrix', cmap=plt.cm.Reds):\n",
    "    plt.imshow(cm, interpolation='nearest',cmap=cmap)\n",
    "    plt.title(title)\n",
    "    plt.colorbar()\n",
    "    plt.tight_layout()\n",
    "    plt.ylabel('True label')\n",
    "    plt.xlabel('Predicted label')"
   ]
  },
  {
   "cell_type": "code",
   "execution_count": 31,
   "metadata": {
    "ExecuteTime": {
     "end_time": "2018-01-12T21:02:38.242826Z",
     "start_time": "2018-01-12T21:02:38.213557Z"
    },
    "collapsed": true
   },
   "outputs": [],
   "source": [
    "def run_tree_model(classifier, X_train, y_train, X_test, y_test):\n",
    "    model = classifier\n",
    "    model.fit(X_train, y_train)\n",
    "    y_pred = model.predict(X_test)\n",
    "    y_train_pred = model.predict(X_train)\n",
    "    fi = model.feature_importances_\n",
    "    dict_features = sorted(list(zip(X_train.columns, fi)), key=lambda x: x[1], reverse=True)\n",
    "    print(\"\\n Training scores:\")\n",
    "    print(classification_report(y_train, y_train_pred))\n",
    "    plot_confusion_matrix(confusion_matrix(y_test, y_pred))\n",
    "    print(\"Test scores:\")\n",
    "    print(classification_report(y_test, y_pred))\n",
    "    print(\"Accuracy: \", accuracy_score(y_test, y_pred))\n",
    "    print(\"Cohen Kappa Score: \", metrics.cohen_kappa_score(y_test, y_pred))\n",
    "    print(\"Features importance:\")\n",
    "    print(dict_features)"
   ]
  },
  {
   "cell_type": "code",
   "execution_count": 56,
   "metadata": {
    "collapsed": true
   },
   "outputs": [],
   "source": [
    "def plot_auc(classifier, X_train, y_train, X_test, y_test):\n",
    "    model = classifier\n",
    "    model.fit(X_train, np.ravel(y_train))\n",
    "    y_score=model.predict_proba(X_test)[:,1]\n",
    "\n",
    "    fpr, tpr,_ = roc_curve(y_test, y_score)\n",
    "    roc_auc = auc(fpr, tpr)\n",
    "    print(roc_auc_score(y_test, y_score))\n",
    "    \n",
    "    plt.figure()\n",
    "    plt.plot([0,1],[0,1])\n",
    "    plt.plot(fpr,tpr)\n",
    "    plt.xlabel('FPR')\n",
    "    plt.ylabel('TPR')"
   ]
  },
  {
   "cell_type": "markdown",
   "metadata": {},
   "source": [
    "## Random Forest Classifier"
   ]
  },
  {
   "cell_type": "markdown",
   "metadata": {},
   "source": [
    "### Initial Model"
   ]
  },
  {
   "cell_type": "code",
   "execution_count": 33,
   "metadata": {
    "ExecuteTime": {
     "end_time": "2018-01-12T22:38:12.932112Z",
     "start_time": "2018-01-12T22:36:54.492521Z"
    }
   },
   "outputs": [
    {
     "name": "stdout",
     "output_type": "stream",
     "text": [
      "\n",
      " Training scores:\n",
      "             precision    recall  f1-score   support\n",
      "\n",
      "        0.0       0.97      0.99      0.98    472832\n",
      "        1.0       0.99      0.97      0.98    472832\n",
      "\n",
      "avg / total       0.98      0.98      0.98    945664\n",
      "\n",
      "Test scores:\n",
      "             precision    recall  f1-score   support\n",
      "\n",
      "        0.0       0.93      0.75      0.83   1338236\n",
      "        1.0       0.27      0.62      0.38    201794\n",
      "\n",
      "avg / total       0.84      0.73      0.77   1540030\n",
      "\n",
      "Accuracy:  0.732957799523\n",
      "Cohen Kappa Score:  0.241505983988\n",
      "Features importance:\n",
      "[('user_avg_reorder_prop', 0.23006518789558505), ('user_overall_reorder_prop', 0.21818701918125596), ('mean_ATC_position', 0.17426166001675292), ('mean_days_bw_orders', 0.15728836789572526), ('purchase_rate', 0.078301686507541213), ('o9_target', 0.042507655221266774), ('o8_target', 0.025610849295303311), ('o7_target', 0.019910726930168123), ('o6_target', 0.016622478294408376), ('first_appearance', 0.015313637624035282), ('o5_target', 0.0076560864343470387), ('o4_target', 0.0041776161094250388), ('o2_target', 0.0037512443544221704), ('o3_target', 0.0034715603364278542), ('o1_target', 0.0028742239033356415)]\n"
     ]
    },
    {
     "data": {
      "image/png": "[encoded data removed]",
      "text/plain": [
       "<matplotlib.figure.Figure at 0x119eb5a90>"
      ]
     },
     "metadata": {},
     "output_type": "display_data"
    }
   ],
   "source": [
    "run_tree_model(RandomForestClassifier(), X_train, y_train, X_test, y_test)"
   ]
  },
  {
   "cell_type": "markdown",
   "metadata": {},
   "source": [
    "__^^ This model is clearly overfit (training accuracy 100%)__"
   ]
  },
  {
   "cell_type": "markdown",
   "metadata": {},
   "source": [
    "### Tuned Model\n",
    "Parameters obtained in Section 4.3."
   ]
  },
  {
   "cell_type": "code",
   "execution_count": 32,
   "metadata": {
    "ExecuteTime": {
     "end_time": "2018-01-12T21:03:26.347570Z",
     "start_time": "2018-01-12T21:02:45.625755Z"
    }
   },
   "outputs": [
    {
     "name": "stdout",
     "output_type": "stream",
     "text": [
      "\n",
      " Training scores:\n",
      "             precision    recall  f1-score   support\n",
      "\n",
      "        0.0       0.71      0.74      0.73    472832\n",
      "        1.0       0.73      0.69      0.71    472832\n",
      "\n",
      "avg / total       0.72      0.72      0.72    945664\n",
      "\n",
      "Test scores:\n",
      "             precision    recall  f1-score   support\n",
      "\n",
      "        0.0       0.94      0.74      0.83   1338236\n",
      "        1.0       0.29      0.69      0.41    201794\n",
      "\n",
      "avg / total       0.86      0.74      0.77   1540030\n",
      "\n",
      "Accuracy:  0.735809042681\n",
      "Cohen Kappa Score:  0.273590174945\n",
      "Features importance:\n",
      "[('purchase_rate', 0.28222797621366447), ('o9_target', 0.13659239769677728), ('o8_target', 0.11603412571625149), ('user_avg_reorder_prop', 0.099942956859837853), ('o7_target', 0.095747513501715786), ('first_appearance', 0.065434019153160633), ('mean_days_bw_orders', 0.048375608831796327), ('o6_target', 0.040087592261851962), ('o5_target', 0.027642131742376813), ('user_overall_reorder_prop', 0.024447476537913539), ('o1_target', 0.021607189377478225), ('o4_target', 0.013155813307035965), ('o3_target', 0.012809117186093861), ('o2_target', 0.0092770223275322767), ('mean_ATC_position', 0.0066190592865135404)]\n"
     ]
    },
    {
     "data": {
      "image/png": "[encoded data removed]",
      "text/plain": [
       "<matplotlib.figure.Figure at 0x119c4b940>"
      ]
     },
     "metadata": {},
     "output_type": "display_data"
    }
   ],
   "source": [
    "run_tree_model(RandomForestClassifier(min_samples_split=150, min_impurity_decrease=1e-5), X_train, y_train, X_test, y_test)"
   ]
  },
  {
   "cell_type": "markdown",
   "metadata": {},
   "source": [
    "## XG Boost Classifier\n",
    "__Extreme gradient boosted decision tree classifier__"
   ]
  },
  {
   "cell_type": "markdown",
   "metadata": {},
   "source": [
    "### Inital Model"
   ]
  },
  {
   "cell_type": "code",
   "execution_count": 80,
   "metadata": {},
   "outputs": [
    {
     "name": "stdout",
     "output_type": "stream",
     "text": [
      "\n",
      " Training scores:\n",
      "             precision    recall  f1-score   support\n",
      "\n",
      "        0.0       0.71      0.75      0.73    472832\n",
      "        1.0       0.74      0.69      0.71    472832\n",
      "\n",
      "avg / total       0.72      0.72      0.72    945664\n",
      "\n",
      "Test scores:\n",
      "             precision    recall  f1-score   support\n",
      "\n",
      "        0.0       0.94      0.75      0.84   1338236\n",
      "        1.0       0.30      0.69      0.41    201794\n",
      "\n",
      "avg / total       0.86      0.74      0.78   1540030\n",
      "\n",
      "Accuracy:  0.744455627488\n",
      "Cohen Kappa Score:  0.28122204224\n",
      "Features importance:\n",
      "[('user_avg_reorder_prop', 0.21173105), ('user_overall_reorder_prop', 0.20886981), ('purchase_rate', 0.13447782), ('mean_days_bw_orders', 0.12160229), ('first_appearance', 0.072961375), ('mean_ATC_position', 0.061516453), ('o9_target', 0.045779686), ('o8_target', 0.041487839), ('o7_target', 0.03576538), ('o6_target', 0.027181689), ('o2_target', 0.020028612), ('o5_target', 0.008583691), ('o3_target', 0.0057224608), ('o4_target', 0.0042918455), ('o1_target', 0.0)]\n"
     ]
    },
    {
     "data": {
      "image/png": "[encoded data removed]",
      "text/plain": [
       "<matplotlib.figure.Figure at 0x2bb925160>"
      ]
     },
     "metadata": {},
     "output_type": "display_data"
    }
   ],
   "source": [
    "run_tree_model(XGBClassifier(), X_train, y_train, X_test, y_test)"
   ]
  },
  {
   "cell_type": "markdown",
   "metadata": {},
   "source": [
    "### Tuned Model"
   ]
  },
  {
   "cell_type": "code",
   "execution_count": 81,
   "metadata": {},
   "outputs": [
    {
     "name": "stdout",
     "output_type": "stream",
     "text": [
      "\n",
      " Training scores:\n",
      "             precision    recall  f1-score   support\n",
      "\n",
      "        0.0       0.70      0.76      0.73    472832\n",
      "        1.0       0.74      0.68      0.71    472832\n",
      "\n",
      "avg / total       0.72      0.72      0.72    945664\n",
      "\n",
      "Test scores:\n",
      "             precision    recall  f1-score   support\n",
      "\n",
      "        0.0       0.94      0.76      0.84   1338236\n",
      "        1.0       0.30      0.68      0.41    201794\n",
      "\n",
      "avg / total       0.86      0.75      0.78   1540030\n",
      "\n",
      "Accuracy:  0.748175684889\n",
      "Cohen Kappa Score:  0.283088979019\n",
      "Features importance:\n",
      "[('user_avg_reorder_prop', 0.25), ('user_overall_reorder_prop', 0.20714286), ('purchase_rate', 0.17928572), ('o9_target', 0.092857145), ('o8_target', 0.069285713), ('first_appearance', 0.058571428), ('mean_days_bw_orders', 0.047857143), ('o7_target', 0.038571429), ('mean_ATC_position', 0.027142856), ('o6_target', 0.022142857), ('o2_target', 0.0071428572), ('o1_target', 0.0), ('o3_target', 0.0), ('o4_target', 0.0), ('o5_target', 0.0)]\n"
     ]
    },
    {
     "data": {
      "image/png": "[encoded data removed]",
      "text/plain": [
       "<matplotlib.figure.Figure at 0x29ab64438>"
      ]
     },
     "metadata": {},
     "output_type": "display_data"
    }
   ],
   "source": [
    "run_tree_model(XGBClassifier(learning_rate=0.025, n_estimators=200), X_train, y_train, X_test, y_test)"
   ]
  },
  {
   "cell_type": "markdown",
   "metadata": {},
   "source": [
    "## Tune Classifiers"
   ]
  },
  {
   "cell_type": "code",
   "execution_count": 76,
   "metadata": {
    "collapsed": true
   },
   "outputs": [],
   "source": [
    "def gridsearchcv(classifier, X_train, y_train, parameters):\n",
    "    model = classifier\n",
    "    grid = GridSearchCV(model, parameters, scoring='accuracy')\n",
    "    grid.fit(X_train, y_train)\n",
    "    print(\"Best score: \", grid.best_score_)\n",
    "    print(\"Best parameter: \", grid.best_params_)\n",
    "    return grid.grid_scores_"
   ]
  },
  {
   "cell_type": "code",
   "execution_count": 78,
   "metadata": {},
   "outputs": [
    {
     "name": "stdout",
     "output_type": "stream",
     "text": [
      "Best score:  0.718520531605\n",
      "Best parameter:  {'min_impurity_decrease': 1e-05, 'min_samples_split': 150}\n"
     ]
    },
    {
     "data": {
      "text/plain": [
       "[mean: 0.70920, std: 0.00047, params: {'min_impurity_decrease': 1e-07, 'min_samples_split': 25},\n",
       " mean: 0.71407, std: 0.00035, params: {'min_impurity_decrease': 1e-07, 'min_samples_split': 50},\n",
       " mean: 0.71583, std: 0.00035, params: {'min_impurity_decrease': 1e-07, 'min_samples_split': 75},\n",
       " mean: 0.71741, std: 0.00026, params: {'min_impurity_decrease': 1e-07, 'min_samples_split': 125},\n",
       " mean: 0.71764, std: 0.00044, params: {'min_impurity_decrease': 1e-07, 'min_samples_split': 150},\n",
       " mean: 0.71261, std: 0.00051, params: {'min_impurity_decrease': 1e-06, 'min_samples_split': 25},\n",
       " mean: 0.71535, std: 0.00061, params: {'min_impurity_decrease': 1e-06, 'min_samples_split': 50},\n",
       " mean: 0.71707, std: 0.00051, params: {'min_impurity_decrease': 1e-06, 'min_samples_split': 75},\n",
       " mean: 0.71780, std: 0.00057, params: {'min_impurity_decrease': 1e-06, 'min_samples_split': 125},\n",
       " mean: 0.71798, std: 0.00025, params: {'min_impurity_decrease': 1e-06, 'min_samples_split': 150},\n",
       " mean: 0.71837, std: 0.00026, params: {'min_impurity_decrease': 1e-05, 'min_samples_split': 25},\n",
       " mean: 0.71808, std: 0.00058, params: {'min_impurity_decrease': 1e-05, 'min_samples_split': 50},\n",
       " mean: 0.71818, std: 0.00040, params: {'min_impurity_decrease': 1e-05, 'min_samples_split': 75},\n",
       " mean: 0.71843, std: 0.00027, params: {'min_impurity_decrease': 1e-05, 'min_samples_split': 125},\n",
       " mean: 0.71852, std: 0.00015, params: {'min_impurity_decrease': 1e-05, 'min_samples_split': 150},\n",
       " mean: 0.71518, std: 0.00068, params: {'min_impurity_decrease': 0.0001, 'min_samples_split': 25},\n",
       " mean: 0.71444, std: 0.00112, params: {'min_impurity_decrease': 0.0001, 'min_samples_split': 50},\n",
       " mean: 0.71530, std: 0.00046, params: {'min_impurity_decrease': 0.0001, 'min_samples_split': 75},\n",
       " mean: 0.71507, std: 0.00075, params: {'min_impurity_decrease': 0.0001, 'min_samples_split': 125},\n",
       " mean: 0.71498, std: 0.00044, params: {'min_impurity_decrease': 0.0001, 'min_samples_split': 150},\n",
       " mean: 0.70812, std: 0.00193, params: {'min_impurity_decrease': 0.001, 'min_samples_split': 25},\n",
       " mean: 0.71021, std: 0.00223, params: {'min_impurity_decrease': 0.001, 'min_samples_split': 50},\n",
       " mean: 0.70761, std: 0.00353, params: {'min_impurity_decrease': 0.001, 'min_samples_split': 75},\n",
       " mean: 0.70684, std: 0.00151, params: {'min_impurity_decrease': 0.001, 'min_samples_split': 125},\n",
       " mean: 0.70552, std: 0.00562, params: {'min_impurity_decrease': 0.001, 'min_samples_split': 150}]"
      ]
     },
     "execution_count": 78,
     "metadata": {},
     "output_type": "execute_result"
    }
   ],
   "source": [
    "gridsearchcv(RandomForestClassifier(), X_train, y_train, {'min_samples_split': [25, 50, 75, 125, 150],\n",
    "                                                         'min_impurity_decrease': [1e-7, 1e-6, 1e-5, 1e-4, 1e-3]})"
   ]
  },
  {
   "cell_type": "code",
   "execution_count": null,
   "metadata": {
    "collapsed": true
   },
   "outputs": [],
   "source": [
    "# gridsearchcv(XGBClassifier(), X_train, y_train, {'n_estimators': [200, 500, 1000]})"
   ]
  },
  {
   "cell_type": "markdown",
   "metadata": {},
   "source": [
    "# Model Performance"
   ]
  },
  {
   "cell_type": "code",
   "execution_count": 36,
   "metadata": {
    "ExecuteTime": {
     "end_time": "2018-01-12T23:19:02.008577Z",
     "start_time": "2018-01-12T23:18:31.621536Z"
    }
   },
   "outputs": [
    {
     "data": {
      "text/plain": [
       "RandomForestClassifier(bootstrap=True, class_weight=None, criterion='gini',\n",
       "            max_depth=None, max_features='auto', max_leaf_nodes=None,\n",
       "            min_impurity_decrease=1e-05, min_impurity_split=None,\n",
       "            min_samples_leaf=1, min_samples_split=150,\n",
       "            min_weight_fraction_leaf=0.0, n_estimators=10, n_jobs=1,\n",
       "            oob_score=False, random_state=None, verbose=0,\n",
       "            warm_start=False)"
      ]
     },
     "execution_count": 36,
     "metadata": {},
     "output_type": "execute_result"
    }
   ],
   "source": [
    "model = RandomForestClassifier(min_samples_split=150, min_impurity_decrease=1e-5)\n",
    "model.fit(X_train, y_train)"
   ]
  },
  {
   "cell_type": "code",
   "execution_count": 82,
   "metadata": {},
   "outputs": [
    {
     "data": {
      "text/plain": [
       "XGBClassifier(base_score=0.5, colsample_bylevel=1, colsample_bytree=1,\n",
       "       gamma=0, learning_rate=0.025, max_delta_step=0, max_depth=3,\n",
       "       min_child_weight=1, missing=None, n_estimators=200, nthread=-1,\n",
       "       objective='binary:logistic', reg_alpha=0, reg_lambda=1,\n",
       "       scale_pos_weight=1, seed=0, silent=True, subsample=1)"
      ]
     },
     "execution_count": 82,
     "metadata": {},
     "output_type": "execute_result"
    }
   ],
   "source": [
    "model_xgb = XGBClassifier(learning_rate=0.025, n_estimators=200)\n",
    "model_xgb.fit(X_train, y_train)"
   ]
  },
  {
   "cell_type": "code",
   "execution_count": 37,
   "metadata": {
    "ExecuteTime": {
     "end_time": "2018-01-12T23:22:50.407340Z",
     "start_time": "2018-01-12T23:22:50.403378Z"
    }
   },
   "outputs": [],
   "source": [
    "# print(cross_val_score(model_xgb, X, y, cv=5, scoring='accuracy').mean())"
   ]
  },
  {
   "cell_type": "code",
   "execution_count": 45,
   "metadata": {
    "ExecuteTime": {
     "end_time": "2018-01-12T23:48:10.710096Z",
     "start_time": "2018-01-12T23:48:10.703201Z"
    }
   },
   "outputs": [],
   "source": [
    "# model.predict_proba(X_test)"
   ]
  },
  {
   "cell_type": "markdown",
   "metadata": {},
   "source": [
    "## Learning Curve"
   ]
  },
  {
   "cell_type": "code",
   "execution_count": 34,
   "metadata": {
    "ExecuteTime": {
     "end_time": "2018-01-12T23:16:53.175990Z",
     "start_time": "2018-01-12T23:16:52.936173Z"
    },
    "collapsed": true
   },
   "outputs": [],
   "source": [
    "from sklearn.learning_curve import learning_curve"
   ]
  },
  {
   "cell_type": "code",
   "execution_count": 46,
   "metadata": {
    "ExecuteTime": {
     "end_time": "2018-01-13T00:06:49.289107Z",
     "start_time": "2018-01-12T23:48:45.971460Z"
    }
   },
   "outputs": [],
   "source": [
    "m, train_err, ts_err = learning_curve(model, X, y)"
   ]
  },
  {
   "cell_type": "code",
   "execution_count": 47,
   "metadata": {
    "ExecuteTime": {
     "end_time": "2018-01-13T00:20:36.501719Z",
     "start_time": "2018-01-13T00:20:36.437744Z"
    },
    "collapsed": true
   },
   "outputs": [],
   "source": [
    "train_cv_err = np.mean(train_err, axis=1)"
   ]
  },
  {
   "cell_type": "code",
   "execution_count": 48,
   "metadata": {
    "ExecuteTime": {
     "end_time": "2018-01-13T00:20:38.209064Z",
     "start_time": "2018-01-13T00:20:38.190432Z"
    },
    "collapsed": true
   },
   "outputs": [],
   "source": [
    "test_cv_err = np.mean(ts_err, axis=1)"
   ]
  },
  {
   "cell_type": "code",
   "execution_count": 49,
   "metadata": {
    "ExecuteTime": {
     "end_time": "2018-01-13T00:20:40.239909Z",
     "start_time": "2018-01-13T00:20:39.386097Z"
    }
   },
   "outputs": [
    {
     "data": {
      "image/png": "[encoded data removed]",
      "text/plain": [
       "<matplotlib.figure.Figure at 0x119ed7128>"
      ]
     },
     "metadata": {},
     "output_type": "display_data"
    }
   ],
   "source": [
    "plt.plot(m, train_cv_err, label='training')\n",
    "plt.plot(m, test_cv_err, label='testing')\n",
    "\n",
    "plt.xlabel('training size, m')\n",
    "plt.ylabel('score')\n",
    "plt.title('Learning Curve for Random Forest Classifier Model')\n",
    "plt.legend(loc='best');"
   ]
  },
  {
   "cell_type": "markdown",
   "metadata": {},
   "source": [
    "# Visualizations"
   ]
  },
  {
   "cell_type": "markdown",
   "metadata": {},
   "source": [
    "## Features Importance"
   ]
  },
  {
   "cell_type": "code",
   "execution_count": 40,
   "metadata": {
    "ExecuteTime": {
     "end_time": "2018-01-12T23:40:38.155384Z",
     "start_time": "2018-01-12T23:40:34.986702Z"
    }
   },
   "outputs": [
    {
     "data": {
      "image/png": "[encoded data removed]",
      "text/plain": [
       "<matplotlib.figure.Figure at 0x11a06c198>"
      ]
     },
     "metadata": {},
     "output_type": "display_data"
    }
   ],
   "source": [
    "figsize(10,8)\n",
    "imp = model.feature_importances_\n",
    "names = X.columns\n",
    "imp, names = zip(*sorted(zip(imp, names)))\n",
    "plt.barh(range(len(names)), imp, align='center', color='orange')\n",
    "plt.yticks(range(len(names)), names, fontsize=20)\n",
    "plt.xlabel('Importance', fontsize=20)\n",
    "plt.ylabel('Features', fontsize=20)\n",
    "plt.title('Importance of Each Feature', fontsize=24)\n",
    "plt.show();"
   ]
  },
  {
   "cell_type": "markdown",
   "metadata": {},
   "source": [
    "## Confusion Matrix"
   ]
  },
  {
   "cell_type": "code",
   "execution_count": 41,
   "metadata": {
    "ExecuteTime": {
     "end_time": "2018-01-12T23:41:36.752806Z",
     "start_time": "2018-01-12T23:41:00.780257Z"
    },
    "collapsed": true
   },
   "outputs": [],
   "source": [
    "y_pred = model.fit(X_train, y_train).predict(X_test)"
   ]
  },
  {
   "cell_type": "code",
   "execution_count": 42,
   "metadata": {
    "ExecuteTime": {
     "end_time": "2018-01-12T23:42:13.308418Z",
     "start_time": "2018-01-12T23:42:13.248226Z"
    },
    "collapsed": true
   },
   "outputs": [],
   "source": [
    "import itertools\n",
    "\n",
    "def plot_confusion_matrix(cm, classes,\n",
    "                          normalize=False,\n",
    "                          title='Confusion matrix',\n",
    "                          cmap=plt.cm.Greys):\n",
    "    \"\"\"\n",
    "    This function prints and plots the confusion matrix.\n",
    "    Normalization can be applied by setting `normalize=True`.\n",
    "    \"\"\"\n",
    "    if normalize:\n",
    "        cm = cm.astype('float') / cm.sum(axis=1)[:, np.newaxis]\n",
    "        print(\"Normalized confusion matrix\")\n",
    "    else:\n",
    "        print('Confusion matrix, without normalization')\n",
    "\n",
    "    print(cm)\n",
    "\n",
    "    plt.imshow(cm, interpolation='nearest', cmap=cmap)\n",
    "#     plt.title(title, fontsize=20)\n",
    "#     plt.colorbar()\n",
    "    tick_marks = np.arange(len(classes))\n",
    "    plt.xticks(tick_marks, classes, rotation=45, fontsize=20)\n",
    "    plt.yticks(tick_marks, classes, fontsize=20)\n",
    "\n",
    "    fmt = '.2f' if normalize else 'd'\n",
    "    thresh = cm.max() / 2.\n",
    "    for i, j in itertools.product(range(cm.shape[0]), range(cm.shape[1])):\n",
    "        plt.text(j, i, format(cm[i, j], fmt),\n",
    "                 horizontalalignment=\"center\",\n",
    "                 color=\"white\" if cm[i, j] > thresh else \"black\", fontsize=20)\n",
    "\n",
    "    plt.tight_layout()\n",
    "    plt.ylabel('True label', fontsize=20)\n",
    "    plt.xlabel('Predicted label', fontsize=20)"
   ]
  },
  {
   "cell_type": "code",
   "execution_count": 43,
   "metadata": {
    "ExecuteTime": {
     "end_time": "2018-01-12T23:42:21.962519Z",
     "start_time": "2018-01-12T23:42:19.599704Z"
    },
    "collapsed": true
   },
   "outputs": [],
   "source": [
    "cnf_matrix = confusion_matrix(y_test, y_pred)\n",
    "np.set_printoptions(precision=2)"
   ]
  },
  {
   "cell_type": "code",
   "execution_count": 44,
   "metadata": {
    "ExecuteTime": {
     "end_time": "2018-01-12T23:42:25.135806Z",
     "start_time": "2018-01-12T23:42:24.655202Z"
    }
   },
   "outputs": [
    {
     "name": "stdout",
     "output_type": "stream",
     "text": [
      "Confusion matrix, without normalization\n",
      "[[1005308  332928]\n",
      " [  63387  138407]]\n"
     ]
    },
    {
     "data": {
      "image/png": "[encoded data removed]",
      "text/plain": [
       "<matplotlib.figure.Figure at 0x11a340438>"
      ]
     },
     "metadata": {},
     "output_type": "display_data"
    }
   ],
   "source": [
    "# Plot non-normalized confusion matrix\n",
    "figsize(8,8)\n",
    "plt.figure()\n",
    "plot_confusion_matrix(cnf_matrix, classes=['did not purchase', 'purchased'], title='Confusion matrix, without normalization')\n",
    "plt.show()"
   ]
  }
 ],
 "metadata": {
  "kernelspec": {
   "display_name": "Python 3",
   "language": "python",
   "name": "python3"
  },
  "language_info": {
   "codemirror_mode": {
    "name": "ipython",
    "version": 3
   },
   "file_extension": ".py",
   "mimetype": "text/x-python",
   "name": "python",
   "nbconvert_exporter": "python",
   "pygments_lexer": "ipython3",
   "version": "3.6.1"
  },
  "toc": {
   "nav_menu": {},
   "number_sections": true,
   "sideBar": true,
   "skip_h1_title": false,
   "toc_cell": true,
   "toc_position": {},
   "toc_section_display": "block",
   "toc_window_display": true
  }
 },
 "nbformat": 4,
 "nbformat_minor": 2
}
