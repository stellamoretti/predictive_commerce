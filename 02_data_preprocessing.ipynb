{
 "cells": [
  {
   "cell_type": "markdown",
   "metadata": {
    "toc": "true"
   },
   "source": [
    " # Table of Contents\n",
    "<div class=\"toc\" style=\"margin-top: 1em;\"><ul class=\"toc-item\" id=\"toc-level0\"><li><span><a href=\"http://localhost:8888/notebooks/project_submissions/predictive_shopping_instacart/data_preprocessing.ipynb#Imports\" data-toc-modified-id=\"Imports-1\"><span class=\"toc-item-num\">1&nbsp;&nbsp;</span>Imports</a></span><ul class=\"toc-item\"><li><span><a href=\"http://localhost:8888/notebooks/project_submissions/predictive_shopping_instacart/data_preprocessing.ipynb#Library-Imports\" data-toc-modified-id=\"Library-Imports-1.1\"><span class=\"toc-item-num\">1.1&nbsp;&nbsp;</span>Library Imports</a></span></li><li><span><a href=\"http://localhost:8888/notebooks/project_submissions/predictive_shopping_instacart/data_preprocessing.ipynb#Data-Imports\" data-toc-modified-id=\"Data-Imports-1.2\"><span class=\"toc-item-num\">1.2&nbsp;&nbsp;</span>Data Imports</a></span></li><li><span><a href=\"http://localhost:8888/notebooks/project_submissions/predictive_shopping_instacart/data_preprocessing.ipynb#Inspect-Dataframes\" data-toc-modified-id=\"Inspect-Dataframes-1.3\"><span class=\"toc-item-num\">1.3&nbsp;&nbsp;</span>Inspect Dataframes</a></span></li><li><span><a href=\"http://localhost:8888/notebooks/project_submissions/predictive_shopping_instacart/data_preprocessing.ipynb#Merge-Product-Data\" data-toc-modified-id=\"Merge-Product-Data-1.4\"><span class=\"toc-item-num\">1.4&nbsp;&nbsp;</span>Merge Product Data</a></span></li></ul></li><li><span><a href=\"http://localhost:8888/notebooks/project_submissions/predictive_shopping_instacart/data_preprocessing.ipynb#Feature-Engineering\" data-toc-modified-id=\"Feature-Engineering-2\"><span class=\"toc-item-num\">2&nbsp;&nbsp;</span>Feature Engineering</a></span><ul class=\"toc-item\"><li><span><a href=\"http://localhost:8888/notebooks/project_submissions/predictive_shopping_instacart/data_preprocessing.ipynb#Date\" data-toc-modified-id=\"Date-2.1\"><span class=\"toc-item-num\">2.1&nbsp;&nbsp;</span>Date</a></span></li><li><span><a href=\"http://localhost:8888/notebooks/project_submissions/predictive_shopping_instacart/data_preprocessing.ipynb#Basket-Size\" data-toc-modified-id=\"Basket-Size-2.2\"><span class=\"toc-item-num\">2.2&nbsp;&nbsp;</span>Basket Size</a></span></li><li><span><a href=\"http://localhost:8888/notebooks/project_submissions/predictive_shopping_instacart/data_preprocessing.ipynb#Proportion-of-Reorders\" data-toc-modified-id=\"Proportion-of-Reorders-2.3\"><span class=\"toc-item-num\">2.3&nbsp;&nbsp;</span>Proportion of Reorders</a></span></li><li><span><a href=\"http://localhost:8888/notebooks/project_submissions/predictive_shopping_instacart/data_preprocessing.ipynb#Users'-Shop-Count\" data-toc-modified-id=\"Users'-Shop-Count-2.4\"><span class=\"toc-item-num\">2.4&nbsp;&nbsp;</span>Users' Shop Count</a></span></li><li><span><a href=\"http://localhost:8888/notebooks/project_submissions/predictive_shopping_instacart/data_preprocessing.ipynb#Merge-Users-and-Orders\" data-toc-modified-id=\"Merge-Users-and-Orders-2.5\"><span class=\"toc-item-num\">2.5&nbsp;&nbsp;</span>Merge Users and Orders</a></span></li><li><span><a href=\"http://localhost:8888/notebooks/project_submissions/predictive_shopping_instacart/data_preprocessing.ipynb#User-Product-Pairs---First-Appearance\" data-toc-modified-id=\"User-Product-Pairs---First-Appearance-2.6\"><span class=\"toc-item-num\">2.6&nbsp;&nbsp;</span>User-Product Pairs - First Appearance</a></span></li><li><span><a href=\"http://localhost:8888/notebooks/project_submissions/predictive_shopping_instacart/data_preprocessing.ipynb#Merge-Order-Details\" data-toc-modified-id=\"Merge-Order-Details-2.7\"><span class=\"toc-item-num\">2.7&nbsp;&nbsp;</span>Merge Order Details</a></span></li><li><span><a href=\"http://localhost:8888/notebooks/project_submissions/predictive_shopping_instacart/data_preprocessing.ipynb#Add-to-Cart-(Relative-Position)\" data-toc-modified-id=\"Add-to-Cart-(Relative-Position)-2.8\"><span class=\"toc-item-num\">2.8&nbsp;&nbsp;</span>Add to Cart (Relative Position)</a></span></li></ul></li><li><span><a href=\"http://localhost:8888/notebooks/project_submissions/predictive_shopping_instacart/data_preprocessing.ipynb#Build-User-Product-Order-History\" data-toc-modified-id=\"Build-User-Product-Order-History-3\"><span class=\"toc-item-num\">3&nbsp;&nbsp;</span>Build User-Product Order History</a></span><ul class=\"toc-item\"><li><span><a href=\"http://localhost:8888/notebooks/project_submissions/predictive_shopping_instacart/data_preprocessing.ipynb#User-Total-Shops\" data-toc-modified-id=\"User-Total-Shops-3.1\"><span class=\"toc-item-num\">3.1&nbsp;&nbsp;</span>User Total Shops</a></span></li><li><span><a href=\"http://localhost:8888/notebooks/project_submissions/predictive_shopping_instacart/data_preprocessing.ipynb#Mean-Days-Between-Orders\" data-toc-modified-id=\"Mean-Days-Between-Orders-3.2\"><span class=\"toc-item-num\">3.2&nbsp;&nbsp;</span>Mean Days Between Orders</a></span></li><li><span><a href=\"http://localhost:8888/notebooks/project_submissions/predictive_shopping_instacart/data_preprocessing.ipynb#Mean-Add-to-Cart-Position\" data-toc-modified-id=\"Mean-Add-to-Cart-Position-3.3\"><span class=\"toc-item-num\">3.3&nbsp;&nbsp;</span>Mean Add to Cart Position</a></span></li><li><span><a href=\"http://localhost:8888/notebooks/project_submissions/predictive_shopping_instacart/data_preprocessing.ipynb#Total-Times-Product-Purchased\" data-toc-modified-id=\"Total-Times-Product-Purchased-3.4\"><span class=\"toc-item-num\">3.4&nbsp;&nbsp;</span>Total Times Product Purchased</a></span></li><li><span><a href=\"http://localhost:8888/notebooks/project_submissions/predictive_shopping_instacart/data_preprocessing.ipynb#Product-Purchase-Rate\" data-toc-modified-id=\"Product-Purchase-Rate-3.5\"><span class=\"toc-item-num\">3.5&nbsp;&nbsp;</span>Product Purchase Rate</a></span></li><li><span><a href=\"http://localhost:8888/notebooks/project_submissions/predictive_shopping_instacart/data_preprocessing.ipynb#Most-Frequent-Purchase-Day,-Hour\" data-toc-modified-id=\"Most-Frequent-Purchase-Day,-Hour-3.6\"><span class=\"toc-item-num\">3.6&nbsp;&nbsp;</span>Most Frequent Purchase Day, Hour</a></span></li><li><span><a href=\"http://localhost:8888/notebooks/project_submissions/predictive_shopping_instacart/data_preprocessing.ipynb#Product-Reorders\" data-toc-modified-id=\"Product-Reorders-3.7\"><span class=\"toc-item-num\">3.7&nbsp;&nbsp;</span>Product Reorders</a></span></li><li><span><a href=\"http://localhost:8888/notebooks/project_submissions/predictive_shopping_instacart/data_preprocessing.ipynb#User-Reorders\" data-toc-modified-id=\"User-Reorders-3.8\"><span class=\"toc-item-num\">3.8&nbsp;&nbsp;</span>User Reorders</a></span></li></ul></li><li><span><a href=\"http://localhost:8888/notebooks/project_submissions/predictive_shopping_instacart/data_preprocessing.ipynb#Sample-Dataframe\" data-toc-modified-id=\"Sample-Dataframe-4\"><span class=\"toc-item-num\">4&nbsp;&nbsp;</span>Sample Dataframe</a></span></li><li><span><a href=\"http://localhost:8888/notebooks/project_submissions/predictive_shopping_instacart/data_preprocessing.ipynb#Pickle\" data-toc-modified-id=\"Pickle-5\"><span class=\"toc-item-num\">5&nbsp;&nbsp;</span>Pickle</a></span></li></ul></div>"
   ]
  },
  {
   "cell_type": "markdown",
   "metadata": {},
   "source": [
    "__Predictive Shopping with Instacart__"
   ]
  },
  {
   "cell_type": "markdown",
   "metadata": {},
   "source": [
    "__Data Source:__\n",
    "\n",
    "“The Instacart Online Grocery Shopping Dataset 2017”, accessed on October 11, 2017 from  \n",
    "https://www.instacart.com/datasets/grocery-shopping-2017"
   ]
  },
  {
   "cell_type": "markdown",
   "metadata": {},
   "source": [
    "# Imports"
   ]
  },
  {
   "cell_type": "markdown",
   "metadata": {},
   "source": [
    "## Library Imports"
   ]
  },
  {
   "cell_type": "code",
   "execution_count": 1,
   "metadata": {
    "ExecuteTime": {
     "end_time": "2018-01-12T07:01:57.443313Z",
     "start_time": "2018-01-12T07:01:55.062779Z"
    }
   },
   "outputs": [
    {
     "name": "stdout",
     "output_type": "stream",
     "text": [
      "Populating the interactive namespace from numpy and matplotlib\n"
     ]
    },
    {
     "name": "stderr",
     "output_type": "stream",
     "text": [
      "/anaconda/envs/py36/lib/python3.6/site-packages/IPython/core/magics/pylab.py:161: UserWarning: pylab import has clobbered these variables: ['plt']\n",
      "`%matplotlib` prevents importing * from pylab and numpy\n",
      "  \"\\n`%matplotlib` prevents importing * from pylab and numpy\"\n"
     ]
    }
   ],
   "source": [
    "from __future__ import print_function, division\n",
    "import pandas as pd\n",
    "import numpy as np\n",
    "import matplotlib as plt\n",
    "import seaborn as sns\n",
    "%pylab inline\n",
    "from scipy.stats import mode"
   ]
  },
  {
   "cell_type": "code",
   "execution_count": 2,
   "metadata": {
    "ExecuteTime": {
     "end_time": "2018-01-12T07:01:57.450263Z",
     "start_time": "2018-01-12T07:01:57.446266Z"
    },
    "collapsed": true
   },
   "outputs": [],
   "source": [
    "pd.set_option('display.max_columns', None)"
   ]
  },
  {
   "cell_type": "markdown",
   "metadata": {},
   "source": [
    "## Data Imports\n",
    "- Orders\n",
    "- Products\n",
    "- Orders Prior\n",
    "- Orders Train\n",
    "- Departments\n",
    "- Aisles\n",
    "\n",
    "A description of the data fields can be found on https://gist.github.com/jeremystan/c3b39d947d9b88b3ccff3147dbcf6c6b."
   ]
  },
  {
   "cell_type": "code",
   "execution_count": 3,
   "metadata": {
    "ExecuteTime": {
     "end_time": "2018-01-12T07:02:24.969372Z",
     "start_time": "2018-01-12T07:01:57.452987Z"
    },
    "collapsed": true
   },
   "outputs": [],
   "source": [
    "dfOrders = pd.read_csv('raw_data/orders.csv')\n",
    "dfProducts = pd.read_csv('raw_data/products.csv')\n",
    "dfOrdersPrior = pd.read_csv('raw_data/order_products__prior.csv')\n",
    "dfOrdersTrain = pd.read_csv('raw_data/order_products__train.csv')\n",
    "dfDepartments = pd.read_csv('raw_data/departments.csv')\n",
    "dfAisles = pd.read_csv('raw_data/aisles.csv')"
   ]
  },
  {
   "cell_type": "markdown",
   "metadata": {},
   "source": [
    "## Inspect Dataframes"
   ]
  },
  {
   "cell_type": "code",
   "execution_count": 4,
   "metadata": {
    "ExecuteTime": {
     "end_time": "2018-01-12T07:02:24.979732Z",
     "start_time": "2018-01-12T07:02:24.971946Z"
    }
   },
   "outputs": [
    {
     "name": "stdout",
     "output_type": "stream",
     "text": [
      "Orders: 3421083 rows\n",
      "Products: 49688 rows\n",
      "Orders prior: 32434489 rows\n",
      "Orders train: 1384617 rows\n",
      "Departments: 21 rows\n",
      "Aisles: 134 rows \n"
     ]
    }
   ],
   "source": [
    "print(\"Orders: %d rows\" % len(dfOrders))\n",
    "print(\"Products: %d rows\" % len(dfProducts))\n",
    "print(\"Orders prior: %d rows\" % len(dfOrdersPrior))\n",
    "print(\"Orders train: %d rows\" % len(dfOrdersTrain))\n",
    "print(\"Departments: %d rows\" % len(dfDepartments))\n",
    "print(\"Aisles: %d rows \"% len(dfAisles))"
   ]
  },
  {
   "cell_type": "code",
   "execution_count": 5,
   "metadata": {
    "ExecuteTime": {
     "end_time": "2018-01-12T07:02:25.009949Z",
     "start_time": "2018-01-12T07:02:24.982992Z"
    }
   },
   "outputs": [
    {
     "data": {
      "text/html": [
       "<div>\n",
       "<style>\n",
       "    .dataframe thead tr:only-child th {\n",
       "        text-align: right;\n",
       "    }\n",
       "\n",
       "    .dataframe thead th {\n",
       "        text-align: left;\n",
       "    }\n",
       "\n",
       "    .dataframe tbody tr th {\n",
       "        vertical-align: top;\n",
       "    }\n",
       "</style>\n",
       "<table border=\"1\" class=\"dataframe\">\n",
       "  <thead>\n",
       "    <tr style=\"text-align: right;\">\n",
       "      <th></th>\n",
       "      <th>order_id</th>\n",
       "      <th>user_id</th>\n",
       "      <th>eval_set</th>\n",
       "      <th>order_number</th>\n",
       "      <th>order_dow</th>\n",
       "      <th>order_hour_of_day</th>\n",
       "      <th>days_since_prior_order</th>\n",
       "    </tr>\n",
       "  </thead>\n",
       "  <tbody>\n",
       "    <tr>\n",
       "      <th>0</th>\n",
       "      <td>2539329</td>\n",
       "      <td>1</td>\n",
       "      <td>prior</td>\n",
       "      <td>1</td>\n",
       "      <td>2</td>\n",
       "      <td>8</td>\n",
       "      <td>NaN</td>\n",
       "    </tr>\n",
       "    <tr>\n",
       "      <th>1</th>\n",
       "      <td>2398795</td>\n",
       "      <td>1</td>\n",
       "      <td>prior</td>\n",
       "      <td>2</td>\n",
       "      <td>3</td>\n",
       "      <td>7</td>\n",
       "      <td>15.0</td>\n",
       "    </tr>\n",
       "    <tr>\n",
       "      <th>2</th>\n",
       "      <td>473747</td>\n",
       "      <td>1</td>\n",
       "      <td>prior</td>\n",
       "      <td>3</td>\n",
       "      <td>3</td>\n",
       "      <td>12</td>\n",
       "      <td>21.0</td>\n",
       "    </tr>\n",
       "    <tr>\n",
       "      <th>3</th>\n",
       "      <td>2254736</td>\n",
       "      <td>1</td>\n",
       "      <td>prior</td>\n",
       "      <td>4</td>\n",
       "      <td>4</td>\n",
       "      <td>7</td>\n",
       "      <td>29.0</td>\n",
       "    </tr>\n",
       "    <tr>\n",
       "      <th>4</th>\n",
       "      <td>431534</td>\n",
       "      <td>1</td>\n",
       "      <td>prior</td>\n",
       "      <td>5</td>\n",
       "      <td>4</td>\n",
       "      <td>15</td>\n",
       "      <td>28.0</td>\n",
       "    </tr>\n",
       "  </tbody>\n",
       "</table>\n",
       "</div>"
      ],
      "text/plain": [
       "   order_id  user_id eval_set  order_number  order_dow  order_hour_of_day  \\\n",
       "0   2539329        1    prior             1          2                  8   \n",
       "1   2398795        1    prior             2          3                  7   \n",
       "2    473747        1    prior             3          3                 12   \n",
       "3   2254736        1    prior             4          4                  7   \n",
       "4    431534        1    prior             5          4                 15   \n",
       "\n",
       "   days_since_prior_order  \n",
       "0                     NaN  \n",
       "1                    15.0  \n",
       "2                    21.0  \n",
       "3                    29.0  \n",
       "4                    28.0  "
      ]
     },
     "execution_count": 5,
     "metadata": {},
     "output_type": "execute_result"
    }
   ],
   "source": [
    "dfOrders.head()"
   ]
  },
  {
   "cell_type": "code",
   "execution_count": 6,
   "metadata": {
    "ExecuteTime": {
     "end_time": "2018-01-12T07:02:25.046907Z",
     "start_time": "2018-01-12T07:02:25.012538Z"
    }
   },
   "outputs": [
    {
     "data": {
      "text/html": [
       "<div>\n",
       "<style>\n",
       "    .dataframe thead tr:only-child th {\n",
       "        text-align: right;\n",
       "    }\n",
       "\n",
       "    .dataframe thead th {\n",
       "        text-align: left;\n",
       "    }\n",
       "\n",
       "    .dataframe tbody tr th {\n",
       "        vertical-align: top;\n",
       "    }\n",
       "</style>\n",
       "<table border=\"1\" class=\"dataframe\">\n",
       "  <thead>\n",
       "    <tr style=\"text-align: right;\">\n",
       "      <th></th>\n",
       "      <th>order_id</th>\n",
       "      <th>product_id</th>\n",
       "      <th>add_to_cart_order</th>\n",
       "      <th>reordered</th>\n",
       "    </tr>\n",
       "  </thead>\n",
       "  <tbody>\n",
       "    <tr>\n",
       "      <th>0</th>\n",
       "      <td>2</td>\n",
       "      <td>33120</td>\n",
       "      <td>1</td>\n",
       "      <td>1</td>\n",
       "    </tr>\n",
       "    <tr>\n",
       "      <th>1</th>\n",
       "      <td>2</td>\n",
       "      <td>28985</td>\n",
       "      <td>2</td>\n",
       "      <td>1</td>\n",
       "    </tr>\n",
       "    <tr>\n",
       "      <th>2</th>\n",
       "      <td>2</td>\n",
       "      <td>9327</td>\n",
       "      <td>3</td>\n",
       "      <td>0</td>\n",
       "    </tr>\n",
       "    <tr>\n",
       "      <th>3</th>\n",
       "      <td>2</td>\n",
       "      <td>45918</td>\n",
       "      <td>4</td>\n",
       "      <td>1</td>\n",
       "    </tr>\n",
       "    <tr>\n",
       "      <th>4</th>\n",
       "      <td>2</td>\n",
       "      <td>30035</td>\n",
       "      <td>5</td>\n",
       "      <td>0</td>\n",
       "    </tr>\n",
       "  </tbody>\n",
       "</table>\n",
       "</div>"
      ],
      "text/plain": [
       "   order_id  product_id  add_to_cart_order  reordered\n",
       "0         2       33120                  1          1\n",
       "1         2       28985                  2          1\n",
       "2         2        9327                  3          0\n",
       "3         2       45918                  4          1\n",
       "4         2       30035                  5          0"
      ]
     },
     "execution_count": 6,
     "metadata": {},
     "output_type": "execute_result"
    }
   ],
   "source": [
    "dfOrdersPrior.head()"
   ]
  },
  {
   "cell_type": "code",
   "execution_count": 7,
   "metadata": {
    "ExecuteTime": {
     "end_time": "2018-01-12T07:02:25.069017Z",
     "start_time": "2018-01-12T07:02:25.049851Z"
    }
   },
   "outputs": [
    {
     "data": {
      "text/html": [
       "<div>\n",
       "<style>\n",
       "    .dataframe thead tr:only-child th {\n",
       "        text-align: right;\n",
       "    }\n",
       "\n",
       "    .dataframe thead th {\n",
       "        text-align: left;\n",
       "    }\n",
       "\n",
       "    .dataframe tbody tr th {\n",
       "        vertical-align: top;\n",
       "    }\n",
       "</style>\n",
       "<table border=\"1\" class=\"dataframe\">\n",
       "  <thead>\n",
       "    <tr style=\"text-align: right;\">\n",
       "      <th></th>\n",
       "      <th>order_id</th>\n",
       "      <th>product_id</th>\n",
       "      <th>add_to_cart_order</th>\n",
       "      <th>reordered</th>\n",
       "    </tr>\n",
       "  </thead>\n",
       "  <tbody>\n",
       "    <tr>\n",
       "      <th>0</th>\n",
       "      <td>1</td>\n",
       "      <td>49302</td>\n",
       "      <td>1</td>\n",
       "      <td>1</td>\n",
       "    </tr>\n",
       "    <tr>\n",
       "      <th>1</th>\n",
       "      <td>1</td>\n",
       "      <td>11109</td>\n",
       "      <td>2</td>\n",
       "      <td>1</td>\n",
       "    </tr>\n",
       "    <tr>\n",
       "      <th>2</th>\n",
       "      <td>1</td>\n",
       "      <td>10246</td>\n",
       "      <td>3</td>\n",
       "      <td>0</td>\n",
       "    </tr>\n",
       "    <tr>\n",
       "      <th>3</th>\n",
       "      <td>1</td>\n",
       "      <td>49683</td>\n",
       "      <td>4</td>\n",
       "      <td>0</td>\n",
       "    </tr>\n",
       "    <tr>\n",
       "      <th>4</th>\n",
       "      <td>1</td>\n",
       "      <td>43633</td>\n",
       "      <td>5</td>\n",
       "      <td>1</td>\n",
       "    </tr>\n",
       "  </tbody>\n",
       "</table>\n",
       "</div>"
      ],
      "text/plain": [
       "   order_id  product_id  add_to_cart_order  reordered\n",
       "0         1       49302                  1          1\n",
       "1         1       11109                  2          1\n",
       "2         1       10246                  3          0\n",
       "3         1       49683                  4          0\n",
       "4         1       43633                  5          1"
      ]
     },
     "execution_count": 7,
     "metadata": {},
     "output_type": "execute_result"
    }
   ],
   "source": [
    "dfOrdersTrain.head()"
   ]
  },
  {
   "cell_type": "code",
   "execution_count": 8,
   "metadata": {
    "ExecuteTime": {
     "end_time": "2018-01-12T07:02:25.096309Z",
     "start_time": "2018-01-12T07:02:25.072036Z"
    }
   },
   "outputs": [
    {
     "data": {
      "text/html": [
       "<div>\n",
       "<style>\n",
       "    .dataframe thead tr:only-child th {\n",
       "        text-align: right;\n",
       "    }\n",
       "\n",
       "    .dataframe thead th {\n",
       "        text-align: left;\n",
       "    }\n",
       "\n",
       "    .dataframe tbody tr th {\n",
       "        vertical-align: top;\n",
       "    }\n",
       "</style>\n",
       "<table border=\"1\" class=\"dataframe\">\n",
       "  <thead>\n",
       "    <tr style=\"text-align: right;\">\n",
       "      <th></th>\n",
       "      <th>product_id</th>\n",
       "      <th>product_name</th>\n",
       "      <th>aisle_id</th>\n",
       "      <th>department_id</th>\n",
       "    </tr>\n",
       "  </thead>\n",
       "  <tbody>\n",
       "    <tr>\n",
       "      <th>0</th>\n",
       "      <td>1</td>\n",
       "      <td>Chocolate Sandwich Cookies</td>\n",
       "      <td>61</td>\n",
       "      <td>19</td>\n",
       "    </tr>\n",
       "    <tr>\n",
       "      <th>1</th>\n",
       "      <td>2</td>\n",
       "      <td>All-Seasons Salt</td>\n",
       "      <td>104</td>\n",
       "      <td>13</td>\n",
       "    </tr>\n",
       "    <tr>\n",
       "      <th>2</th>\n",
       "      <td>3</td>\n",
       "      <td>Robust Golden Unsweetened Oolong Tea</td>\n",
       "      <td>94</td>\n",
       "      <td>7</td>\n",
       "    </tr>\n",
       "    <tr>\n",
       "      <th>3</th>\n",
       "      <td>4</td>\n",
       "      <td>Smart Ones Classic Favorites Mini Rigatoni Wit...</td>\n",
       "      <td>38</td>\n",
       "      <td>1</td>\n",
       "    </tr>\n",
       "    <tr>\n",
       "      <th>4</th>\n",
       "      <td>5</td>\n",
       "      <td>Green Chile Anytime Sauce</td>\n",
       "      <td>5</td>\n",
       "      <td>13</td>\n",
       "    </tr>\n",
       "  </tbody>\n",
       "</table>\n",
       "</div>"
      ],
      "text/plain": [
       "   product_id                                       product_name  aisle_id  \\\n",
       "0           1                         Chocolate Sandwich Cookies        61   \n",
       "1           2                                   All-Seasons Salt       104   \n",
       "2           3               Robust Golden Unsweetened Oolong Tea        94   \n",
       "3           4  Smart Ones Classic Favorites Mini Rigatoni Wit...        38   \n",
       "4           5                          Green Chile Anytime Sauce         5   \n",
       "\n",
       "   department_id  \n",
       "0             19  \n",
       "1             13  \n",
       "2              7  \n",
       "3              1  \n",
       "4             13  "
      ]
     },
     "execution_count": 8,
     "metadata": {},
     "output_type": "execute_result"
    }
   ],
   "source": [
    "dfProducts.head()"
   ]
  },
  {
   "cell_type": "code",
   "execution_count": 9,
   "metadata": {
    "ExecuteTime": {
     "end_time": "2018-01-12T07:02:25.117140Z",
     "start_time": "2018-01-12T07:02:25.100357Z"
    }
   },
   "outputs": [
    {
     "data": {
      "text/html": [
       "<div>\n",
       "<style>\n",
       "    .dataframe thead tr:only-child th {\n",
       "        text-align: right;\n",
       "    }\n",
       "\n",
       "    .dataframe thead th {\n",
       "        text-align: left;\n",
       "    }\n",
       "\n",
       "    .dataframe tbody tr th {\n",
       "        vertical-align: top;\n",
       "    }\n",
       "</style>\n",
       "<table border=\"1\" class=\"dataframe\">\n",
       "  <thead>\n",
       "    <tr style=\"text-align: right;\">\n",
       "      <th></th>\n",
       "      <th>department_id</th>\n",
       "      <th>department</th>\n",
       "    </tr>\n",
       "  </thead>\n",
       "  <tbody>\n",
       "    <tr>\n",
       "      <th>0</th>\n",
       "      <td>1</td>\n",
       "      <td>frozen</td>\n",
       "    </tr>\n",
       "    <tr>\n",
       "      <th>1</th>\n",
       "      <td>2</td>\n",
       "      <td>other</td>\n",
       "    </tr>\n",
       "    <tr>\n",
       "      <th>2</th>\n",
       "      <td>3</td>\n",
       "      <td>bakery</td>\n",
       "    </tr>\n",
       "    <tr>\n",
       "      <th>3</th>\n",
       "      <td>4</td>\n",
       "      <td>produce</td>\n",
       "    </tr>\n",
       "    <tr>\n",
       "      <th>4</th>\n",
       "      <td>5</td>\n",
       "      <td>alcohol</td>\n",
       "    </tr>\n",
       "  </tbody>\n",
       "</table>\n",
       "</div>"
      ],
      "text/plain": [
       "   department_id department\n",
       "0              1     frozen\n",
       "1              2      other\n",
       "2              3     bakery\n",
       "3              4    produce\n",
       "4              5    alcohol"
      ]
     },
     "execution_count": 9,
     "metadata": {},
     "output_type": "execute_result"
    }
   ],
   "source": [
    "dfDepartments.head()"
   ]
  },
  {
   "cell_type": "code",
   "execution_count": 10,
   "metadata": {
    "ExecuteTime": {
     "end_time": "2018-01-12T07:02:25.135525Z",
     "start_time": "2018-01-12T07:02:25.120606Z"
    }
   },
   "outputs": [
    {
     "data": {
      "text/html": [
       "<div>\n",
       "<style>\n",
       "    .dataframe thead tr:only-child th {\n",
       "        text-align: right;\n",
       "    }\n",
       "\n",
       "    .dataframe thead th {\n",
       "        text-align: left;\n",
       "    }\n",
       "\n",
       "    .dataframe tbody tr th {\n",
       "        vertical-align: top;\n",
       "    }\n",
       "</style>\n",
       "<table border=\"1\" class=\"dataframe\">\n",
       "  <thead>\n",
       "    <tr style=\"text-align: right;\">\n",
       "      <th></th>\n",
       "      <th>aisle_id</th>\n",
       "      <th>aisle</th>\n",
       "    </tr>\n",
       "  </thead>\n",
       "  <tbody>\n",
       "    <tr>\n",
       "      <th>0</th>\n",
       "      <td>1</td>\n",
       "      <td>prepared soups salads</td>\n",
       "    </tr>\n",
       "    <tr>\n",
       "      <th>1</th>\n",
       "      <td>2</td>\n",
       "      <td>specialty cheeses</td>\n",
       "    </tr>\n",
       "    <tr>\n",
       "      <th>2</th>\n",
       "      <td>3</td>\n",
       "      <td>energy granola bars</td>\n",
       "    </tr>\n",
       "    <tr>\n",
       "      <th>3</th>\n",
       "      <td>4</td>\n",
       "      <td>instant foods</td>\n",
       "    </tr>\n",
       "    <tr>\n",
       "      <th>4</th>\n",
       "      <td>5</td>\n",
       "      <td>marinades meat preparation</td>\n",
       "    </tr>\n",
       "  </tbody>\n",
       "</table>\n",
       "</div>"
      ],
      "text/plain": [
       "   aisle_id                       aisle\n",
       "0         1       prepared soups salads\n",
       "1         2           specialty cheeses\n",
       "2         3         energy granola bars\n",
       "3         4               instant foods\n",
       "4         5  marinades meat preparation"
      ]
     },
     "execution_count": 10,
     "metadata": {},
     "output_type": "execute_result"
    }
   ],
   "source": [
    "dfAisles.head()"
   ]
  },
  {
   "cell_type": "markdown",
   "metadata": {},
   "source": [
    "## Merge Product Data\n",
    "\n",
    "Create a new dataframe \"dfProdDetails\" which merges all data from Products, Departments, Aisles."
   ]
  },
  {
   "cell_type": "code",
   "execution_count": 11,
   "metadata": {
    "ExecuteTime": {
     "end_time": "2018-01-12T07:02:25.185525Z",
     "start_time": "2018-01-12T07:02:25.138581Z"
    },
    "collapsed": true
   },
   "outputs": [],
   "source": [
    "dfProdDetails = pd.merge(dfProducts, dfAisles[['aisle_id', 'aisle']], on='aisle_id', how='left')"
   ]
  },
  {
   "cell_type": "code",
   "execution_count": 12,
   "metadata": {
    "ExecuteTime": {
     "end_time": "2018-01-12T07:02:25.234037Z",
     "start_time": "2018-01-12T07:02:25.208403Z"
    },
    "collapsed": true
   },
   "outputs": [],
   "source": [
    "dfProdDetails = pd.merge(dfProdDetails, dfDepartments[['department_id', 'department']], on='department_id', how='left')"
   ]
  },
  {
   "cell_type": "code",
   "execution_count": 13,
   "metadata": {
    "ExecuteTime": {
     "end_time": "2018-01-12T07:02:25.262248Z",
     "start_time": "2018-01-12T07:02:25.240624Z"
    }
   },
   "outputs": [
    {
     "data": {
      "text/html": [
       "<div>\n",
       "<style>\n",
       "    .dataframe thead tr:only-child th {\n",
       "        text-align: right;\n",
       "    }\n",
       "\n",
       "    .dataframe thead th {\n",
       "        text-align: left;\n",
       "    }\n",
       "\n",
       "    .dataframe tbody tr th {\n",
       "        vertical-align: top;\n",
       "    }\n",
       "</style>\n",
       "<table border=\"1\" class=\"dataframe\">\n",
       "  <thead>\n",
       "    <tr style=\"text-align: right;\">\n",
       "      <th></th>\n",
       "      <th>product_id</th>\n",
       "      <th>product_name</th>\n",
       "      <th>aisle_id</th>\n",
       "      <th>department_id</th>\n",
       "      <th>aisle</th>\n",
       "      <th>department</th>\n",
       "    </tr>\n",
       "  </thead>\n",
       "  <tbody>\n",
       "    <tr>\n",
       "      <th>0</th>\n",
       "      <td>1</td>\n",
       "      <td>Chocolate Sandwich Cookies</td>\n",
       "      <td>61</td>\n",
       "      <td>19</td>\n",
       "      <td>cookies cakes</td>\n",
       "      <td>snacks</td>\n",
       "    </tr>\n",
       "    <tr>\n",
       "      <th>1</th>\n",
       "      <td>2</td>\n",
       "      <td>All-Seasons Salt</td>\n",
       "      <td>104</td>\n",
       "      <td>13</td>\n",
       "      <td>spices seasonings</td>\n",
       "      <td>pantry</td>\n",
       "    </tr>\n",
       "    <tr>\n",
       "      <th>2</th>\n",
       "      <td>3</td>\n",
       "      <td>Robust Golden Unsweetened Oolong Tea</td>\n",
       "      <td>94</td>\n",
       "      <td>7</td>\n",
       "      <td>tea</td>\n",
       "      <td>beverages</td>\n",
       "    </tr>\n",
       "    <tr>\n",
       "      <th>3</th>\n",
       "      <td>4</td>\n",
       "      <td>Smart Ones Classic Favorites Mini Rigatoni Wit...</td>\n",
       "      <td>38</td>\n",
       "      <td>1</td>\n",
       "      <td>frozen meals</td>\n",
       "      <td>frozen</td>\n",
       "    </tr>\n",
       "    <tr>\n",
       "      <th>4</th>\n",
       "      <td>5</td>\n",
       "      <td>Green Chile Anytime Sauce</td>\n",
       "      <td>5</td>\n",
       "      <td>13</td>\n",
       "      <td>marinades meat preparation</td>\n",
       "      <td>pantry</td>\n",
       "    </tr>\n",
       "  </tbody>\n",
       "</table>\n",
       "</div>"
      ],
      "text/plain": [
       "   product_id                                       product_name  aisle_id  \\\n",
       "0           1                         Chocolate Sandwich Cookies        61   \n",
       "1           2                                   All-Seasons Salt       104   \n",
       "2           3               Robust Golden Unsweetened Oolong Tea        94   \n",
       "3           4  Smart Ones Classic Favorites Mini Rigatoni Wit...        38   \n",
       "4           5                          Green Chile Anytime Sauce         5   \n",
       "\n",
       "   department_id                       aisle department  \n",
       "0             19               cookies cakes     snacks  \n",
       "1             13           spices seasonings     pantry  \n",
       "2              7                         tea  beverages  \n",
       "3              1                frozen meals     frozen  \n",
       "4             13  marinades meat preparation     pantry  "
      ]
     },
     "execution_count": 13,
     "metadata": {},
     "output_type": "execute_result"
    }
   ],
   "source": [
    "dfProdDetails.head()"
   ]
  },
  {
   "cell_type": "markdown",
   "metadata": {},
   "source": [
    "# Feature Engineering"
   ]
  },
  {
   "cell_type": "markdown",
   "metadata": {},
   "source": [
    "## Date\n",
    "__Convert \"days since prior order\" to relative date.__  \n",
    "e.g. For each user, their first order will be \"NaN\" but their 2nd/3rd/4th/... orders will be represented by the cumulative days since their first order."
   ]
  },
  {
   "cell_type": "code",
   "execution_count": 14,
   "metadata": {
    "ExecuteTime": {
     "end_time": "2018-01-12T07:02:28.377587Z",
     "start_time": "2018-01-12T07:02:25.274213Z"
    },
    "collapsed": true
   },
   "outputs": [],
   "source": [
    "dfDates = (dfOrders[['user_id','order_number', 'days_since_prior_order']]\n",
    "              .groupby(by=['user_id','order_number'])\n",
    "              .sum().groupby(level=[0]).cumsum()\n",
    "              .rename(columns= {'days_since_prior_order': 'date'})\n",
    "              .reset_index())"
   ]
  },
  {
   "cell_type": "code",
   "execution_count": 15,
   "metadata": {
    "ExecuteTime": {
     "end_time": "2018-01-12T07:02:28.383719Z",
     "start_time": "2018-01-12T07:02:28.379932Z"
    },
    "collapsed": true
   },
   "outputs": [],
   "source": [
    "# dfDates.head()"
   ]
  },
  {
   "cell_type": "code",
   "execution_count": 16,
   "metadata": {
    "ExecuteTime": {
     "end_time": "2018-01-12T07:02:31.439898Z",
     "start_time": "2018-01-12T07:02:28.386826Z"
    },
    "collapsed": true
   },
   "outputs": [],
   "source": [
    "dfOrders = (pd.merge(dfOrders, \n",
    "                      dfDates[['user_id', 'order_number', 'date']], \n",
    "                      how='left', \n",
    "                      on=['user_id', 'order_number']))"
   ]
  },
  {
   "cell_type": "code",
   "execution_count": 17,
   "metadata": {
    "ExecuteTime": {
     "end_time": "2018-01-12T07:02:31.468514Z",
     "start_time": "2018-01-12T07:02:31.443256Z"
    }
   },
   "outputs": [
    {
     "data": {
      "text/html": [
       "<div>\n",
       "<style>\n",
       "    .dataframe thead tr:only-child th {\n",
       "        text-align: right;\n",
       "    }\n",
       "\n",
       "    .dataframe thead th {\n",
       "        text-align: left;\n",
       "    }\n",
       "\n",
       "    .dataframe tbody tr th {\n",
       "        vertical-align: top;\n",
       "    }\n",
       "</style>\n",
       "<table border=\"1\" class=\"dataframe\">\n",
       "  <thead>\n",
       "    <tr style=\"text-align: right;\">\n",
       "      <th></th>\n",
       "      <th>order_id</th>\n",
       "      <th>user_id</th>\n",
       "      <th>eval_set</th>\n",
       "      <th>order_number</th>\n",
       "      <th>order_dow</th>\n",
       "      <th>order_hour_of_day</th>\n",
       "      <th>days_since_prior_order</th>\n",
       "      <th>date</th>\n",
       "    </tr>\n",
       "  </thead>\n",
       "  <tbody>\n",
       "    <tr>\n",
       "      <th>0</th>\n",
       "      <td>2539329</td>\n",
       "      <td>1</td>\n",
       "      <td>prior</td>\n",
       "      <td>1</td>\n",
       "      <td>2</td>\n",
       "      <td>8</td>\n",
       "      <td>NaN</td>\n",
       "      <td>NaN</td>\n",
       "    </tr>\n",
       "    <tr>\n",
       "      <th>1</th>\n",
       "      <td>2398795</td>\n",
       "      <td>1</td>\n",
       "      <td>prior</td>\n",
       "      <td>2</td>\n",
       "      <td>3</td>\n",
       "      <td>7</td>\n",
       "      <td>15.0</td>\n",
       "      <td>15.0</td>\n",
       "    </tr>\n",
       "    <tr>\n",
       "      <th>2</th>\n",
       "      <td>473747</td>\n",
       "      <td>1</td>\n",
       "      <td>prior</td>\n",
       "      <td>3</td>\n",
       "      <td>3</td>\n",
       "      <td>12</td>\n",
       "      <td>21.0</td>\n",
       "      <td>36.0</td>\n",
       "    </tr>\n",
       "    <tr>\n",
       "      <th>3</th>\n",
       "      <td>2254736</td>\n",
       "      <td>1</td>\n",
       "      <td>prior</td>\n",
       "      <td>4</td>\n",
       "      <td>4</td>\n",
       "      <td>7</td>\n",
       "      <td>29.0</td>\n",
       "      <td>65.0</td>\n",
       "    </tr>\n",
       "    <tr>\n",
       "      <th>4</th>\n",
       "      <td>431534</td>\n",
       "      <td>1</td>\n",
       "      <td>prior</td>\n",
       "      <td>5</td>\n",
       "      <td>4</td>\n",
       "      <td>15</td>\n",
       "      <td>28.0</td>\n",
       "      <td>93.0</td>\n",
       "    </tr>\n",
       "  </tbody>\n",
       "</table>\n",
       "</div>"
      ],
      "text/plain": [
       "   order_id  user_id eval_set  order_number  order_dow  order_hour_of_day  \\\n",
       "0   2539329        1    prior             1          2                  8   \n",
       "1   2398795        1    prior             2          3                  7   \n",
       "2    473747        1    prior             3          3                 12   \n",
       "3   2254736        1    prior             4          4                  7   \n",
       "4    431534        1    prior             5          4                 15   \n",
       "\n",
       "   days_since_prior_order  date  \n",
       "0                     NaN   NaN  \n",
       "1                    15.0  15.0  \n",
       "2                    21.0  36.0  \n",
       "3                    29.0  65.0  \n",
       "4                    28.0  93.0  "
      ]
     },
     "execution_count": 17,
     "metadata": {},
     "output_type": "execute_result"
    }
   ],
   "source": [
    "dfOrders.head()"
   ]
  },
  {
   "cell_type": "markdown",
   "metadata": {},
   "source": [
    "## Basket Size\n",
    "__Add column \"basket size\".__"
   ]
  },
  {
   "cell_type": "code",
   "execution_count": 18,
   "metadata": {
    "ExecuteTime": {
     "end_time": "2018-01-12T07:02:36.437106Z",
     "start_time": "2018-01-12T07:02:31.471164Z"
    },
    "collapsed": true
   },
   "outputs": [],
   "source": [
    "basket_size_prior = dfOrdersPrior['order_id'].value_counts().to_dict()\n",
    "basket_size_train = dfOrdersTrain['order_id'].value_counts().to_dict()"
   ]
  },
  {
   "cell_type": "code",
   "execution_count": 19,
   "metadata": {
    "ExecuteTime": {
     "end_time": "2018-01-12T07:02:36.471572Z",
     "start_time": "2018-01-12T07:02:36.439483Z"
    },
    "collapsed": true
   },
   "outputs": [],
   "source": [
    "basket_size_prior.update(basket_size_train)"
   ]
  },
  {
   "cell_type": "code",
   "execution_count": 20,
   "metadata": {
    "ExecuteTime": {
     "end_time": "2018-01-12T07:02:41.216345Z",
     "start_time": "2018-01-12T07:02:36.475029Z"
    },
    "collapsed": true
   },
   "outputs": [],
   "source": [
    "dfOrders['basket_size'] = dfOrders['order_id'].map(basket_size_prior)"
   ]
  },
  {
   "cell_type": "markdown",
   "metadata": {},
   "source": [
    "## Proportion of Reorders\n",
    "__Add column \"proportion basket reorder\".__"
   ]
  },
  {
   "cell_type": "code",
   "execution_count": 21,
   "metadata": {
    "ExecuteTime": {
     "end_time": "2018-01-12T07:02:46.263193Z",
     "start_time": "2018-01-12T07:02:41.218484Z"
    },
    "collapsed": true
   },
   "outputs": [],
   "source": [
    "reordered_items_prior = dfOrdersPrior.groupby(['order_id']).reordered.sum().to_dict()\n",
    "reordered_items_train = dfOrdersTrain.groupby(['order_id']).reordered.sum().to_dict()"
   ]
  },
  {
   "cell_type": "code",
   "execution_count": 22,
   "metadata": {
    "ExecuteTime": {
     "end_time": "2018-01-12T07:02:46.277552Z",
     "start_time": "2018-01-12T07:02:46.265371Z"
    },
    "collapsed": true
   },
   "outputs": [],
   "source": [
    "reordered_items_prior.update(reordered_items_train)"
   ]
  },
  {
   "cell_type": "code",
   "execution_count": 23,
   "metadata": {
    "ExecuteTime": {
     "end_time": "2018-01-12T07:02:51.179217Z",
     "start_time": "2018-01-12T07:02:46.280223Z"
    },
    "collapsed": true
   },
   "outputs": [],
   "source": [
    "dfOrders['basket_reorder_count'] = dfOrders['order_id'].map(reordered_items_prior)"
   ]
  },
  {
   "cell_type": "code",
   "execution_count": 24,
   "metadata": {
    "ExecuteTime": {
     "end_time": "2018-01-12T07:02:51.324043Z",
     "start_time": "2018-01-12T07:02:51.181904Z"
    },
    "collapsed": true
   },
   "outputs": [],
   "source": [
    "dfOrders['proportion_basket_reorder'] = dfOrders['basket_reorder_count'] / dfOrders['basket_size']"
   ]
  },
  {
   "cell_type": "markdown",
   "metadata": {},
   "source": [
    "## Users' Shop Count\n",
    "__Add column \"user total shops\".__"
   ]
  },
  {
   "cell_type": "code",
   "execution_count": 25,
   "metadata": {
    "ExecuteTime": {
     "end_time": "2018-01-12T07:02:52.772906Z",
     "start_time": "2018-01-12T07:02:51.328791Z"
    },
    "collapsed": true
   },
   "outputs": [],
   "source": [
    "user_total_shops = dfOrders.groupby(['user_id']).order_id.count().to_dict()"
   ]
  },
  {
   "cell_type": "code",
   "execution_count": 26,
   "metadata": {
    "ExecuteTime": {
     "end_time": "2018-01-12T07:02:53.686918Z",
     "start_time": "2018-01-12T07:02:52.775722Z"
    },
    "collapsed": true
   },
   "outputs": [],
   "source": [
    "dfOrders['user_total_shops'] = dfOrders['user_id'].map(user_total_shops)"
   ]
  },
  {
   "cell_type": "markdown",
   "metadata": {},
   "source": [
    "## Merge Users and Orders"
   ]
  },
  {
   "cell_type": "markdown",
   "metadata": {},
   "source": [
    "__Merge the columns \"user id\" and \"order number\" from the _Orders_ dataframe.__"
   ]
  },
  {
   "cell_type": "code",
   "execution_count": 27,
   "metadata": {
    "ExecuteTime": {
     "end_time": "2018-01-12T07:03:12.211646Z",
     "start_time": "2018-01-12T07:02:53.689197Z"
    },
    "collapsed": true
   },
   "outputs": [],
   "source": [
    "dfOrdersPrior = pd.merge(dfOrdersPrior, dfOrders[['order_id', 'user_id', 'order_number']], on='order_id', how='left')\n",
    "dfOrdersTrain = pd.merge(dfOrdersTrain, dfOrders[['order_id', 'user_id', 'order_number']], on='order_id', how='left')"
   ]
  },
  {
   "cell_type": "markdown",
   "metadata": {},
   "source": [
    "__Sort and reorder columns__"
   ]
  },
  {
   "cell_type": "code",
   "execution_count": 28,
   "metadata": {
    "ExecuteTime": {
     "end_time": "2018-01-12T07:04:20.004198Z",
     "start_time": "2018-01-12T07:03:12.217761Z"
    },
    "collapsed": true
   },
   "outputs": [],
   "source": [
    "dfOrdersPrior = dfOrdersPrior.sort_values(['user_id', 'product_id', 'order_number'])\n",
    "dfOrdersTrain = dfOrdersTrain.sort_values(['user_id', 'product_id', 'order_number'])"
   ]
  },
  {
   "cell_type": "code",
   "execution_count": 29,
   "metadata": {
    "ExecuteTime": {
     "end_time": "2018-01-12T07:04:20.090356Z",
     "start_time": "2018-01-12T07:04:20.016768Z"
    },
    "collapsed": true
   },
   "outputs": [],
   "source": [
    "dfOrdersPrior.reset_index(drop=True, inplace=True)\n",
    "dfOrdersTrain.reset_index(drop=True, inplace=True)"
   ]
  },
  {
   "cell_type": "code",
   "execution_count": 30,
   "metadata": {
    "ExecuteTime": {
     "end_time": "2018-01-12T07:04:22.573720Z",
     "start_time": "2018-01-12T07:04:20.094035Z"
    },
    "collapsed": true
   },
   "outputs": [],
   "source": [
    "dfOrdersPrior = dfOrdersPrior[['user_id', 'product_id', 'order_number', 'order_id', 'add_to_cart_order', 'reordered']]\n",
    "dfOrdersTrain = dfOrdersTrain[['user_id', 'product_id', 'order_number', 'order_id', 'add_to_cart_order', 'reordered']]"
   ]
  },
  {
   "cell_type": "code",
   "execution_count": 31,
   "metadata": {
    "ExecuteTime": {
     "end_time": "2018-01-12T07:04:22.723603Z",
     "start_time": "2018-01-12T07:04:22.581881Z"
    },
    "scrolled": true
   },
   "outputs": [
    {
     "data": {
      "text/html": [
       "<div>\n",
       "<style>\n",
       "    .dataframe thead tr:only-child th {\n",
       "        text-align: right;\n",
       "    }\n",
       "\n",
       "    .dataframe thead th {\n",
       "        text-align: left;\n",
       "    }\n",
       "\n",
       "    .dataframe tbody tr th {\n",
       "        vertical-align: top;\n",
       "    }\n",
       "</style>\n",
       "<table border=\"1\" class=\"dataframe\">\n",
       "  <thead>\n",
       "    <tr style=\"text-align: right;\">\n",
       "      <th></th>\n",
       "      <th>user_id</th>\n",
       "      <th>product_id</th>\n",
       "      <th>order_number</th>\n",
       "      <th>order_id</th>\n",
       "      <th>add_to_cart_order</th>\n",
       "      <th>reordered</th>\n",
       "    </tr>\n",
       "  </thead>\n",
       "  <tbody>\n",
       "    <tr>\n",
       "      <th>0</th>\n",
       "      <td>1</td>\n",
       "      <td>196</td>\n",
       "      <td>1</td>\n",
       "      <td>2539329</td>\n",
       "      <td>1</td>\n",
       "      <td>0</td>\n",
       "    </tr>\n",
       "    <tr>\n",
       "      <th>1</th>\n",
       "      <td>1</td>\n",
       "      <td>196</td>\n",
       "      <td>2</td>\n",
       "      <td>2398795</td>\n",
       "      <td>1</td>\n",
       "      <td>1</td>\n",
       "    </tr>\n",
       "    <tr>\n",
       "      <th>2</th>\n",
       "      <td>1</td>\n",
       "      <td>196</td>\n",
       "      <td>3</td>\n",
       "      <td>473747</td>\n",
       "      <td>1</td>\n",
       "      <td>1</td>\n",
       "    </tr>\n",
       "    <tr>\n",
       "      <th>3</th>\n",
       "      <td>1</td>\n",
       "      <td>196</td>\n",
       "      <td>4</td>\n",
       "      <td>2254736</td>\n",
       "      <td>1</td>\n",
       "      <td>1</td>\n",
       "    </tr>\n",
       "    <tr>\n",
       "      <th>4</th>\n",
       "      <td>1</td>\n",
       "      <td>196</td>\n",
       "      <td>5</td>\n",
       "      <td>431534</td>\n",
       "      <td>1</td>\n",
       "      <td>1</td>\n",
       "    </tr>\n",
       "  </tbody>\n",
       "</table>\n",
       "</div>"
      ],
      "text/plain": [
       "   user_id  product_id  order_number  order_id  add_to_cart_order  reordered\n",
       "0        1         196             1   2539329                  1          0\n",
       "1        1         196             2   2398795                  1          1\n",
       "2        1         196             3    473747                  1          1\n",
       "3        1         196             4   2254736                  1          1\n",
       "4        1         196             5    431534                  1          1"
      ]
     },
     "execution_count": 31,
     "metadata": {},
     "output_type": "execute_result"
    }
   ],
   "source": [
    "dfOrdersPrior.head()"
   ]
  },
  {
   "cell_type": "markdown",
   "metadata": {},
   "source": [
    "## User-Product Pairs - First Appearance\n",
    "Create a new dataframe to track orders placed for each user-product pair."
   ]
  },
  {
   "cell_type": "code",
   "execution_count": 32,
   "metadata": {
    "ExecuteTime": {
     "end_time": "2018-01-12T07:04:40.804207Z",
     "start_time": "2018-01-12T07:04:22.735367Z"
    },
    "collapsed": true
   },
   "outputs": [],
   "source": [
    "dfUPprior = dfOrdersPrior.groupby(['user_id', 'product_id']).order_number.first().reset_index()\n",
    "dfUPprior.rename(columns={'order_number': 'first_appearance'}, inplace=True)"
   ]
  },
  {
   "cell_type": "code",
   "execution_count": 33,
   "metadata": {
    "ExecuteTime": {
     "end_time": "2018-01-12T07:04:40.841444Z",
     "start_time": "2018-01-12T07:04:40.807253Z"
    },
    "scrolled": true
   },
   "outputs": [
    {
     "data": {
      "text/html": [
       "<div>\n",
       "<style>\n",
       "    .dataframe thead tr:only-child th {\n",
       "        text-align: right;\n",
       "    }\n",
       "\n",
       "    .dataframe thead th {\n",
       "        text-align: left;\n",
       "    }\n",
       "\n",
       "    .dataframe tbody tr th {\n",
       "        vertical-align: top;\n",
       "    }\n",
       "</style>\n",
       "<table border=\"1\" class=\"dataframe\">\n",
       "  <thead>\n",
       "    <tr style=\"text-align: right;\">\n",
       "      <th></th>\n",
       "      <th>user_id</th>\n",
       "      <th>product_id</th>\n",
       "      <th>first_appearance</th>\n",
       "    </tr>\n",
       "  </thead>\n",
       "  <tbody>\n",
       "    <tr>\n",
       "      <th>0</th>\n",
       "      <td>1</td>\n",
       "      <td>196</td>\n",
       "      <td>1</td>\n",
       "    </tr>\n",
       "    <tr>\n",
       "      <th>1</th>\n",
       "      <td>1</td>\n",
       "      <td>10258</td>\n",
       "      <td>2</td>\n",
       "    </tr>\n",
       "    <tr>\n",
       "      <th>2</th>\n",
       "      <td>1</td>\n",
       "      <td>10326</td>\n",
       "      <td>5</td>\n",
       "    </tr>\n",
       "    <tr>\n",
       "      <th>3</th>\n",
       "      <td>1</td>\n",
       "      <td>12427</td>\n",
       "      <td>1</td>\n",
       "    </tr>\n",
       "    <tr>\n",
       "      <th>4</th>\n",
       "      <td>1</td>\n",
       "      <td>13032</td>\n",
       "      <td>2</td>\n",
       "    </tr>\n",
       "  </tbody>\n",
       "</table>\n",
       "</div>"
      ],
      "text/plain": [
       "   user_id  product_id  first_appearance\n",
       "0        1         196                 1\n",
       "1        1       10258                 2\n",
       "2        1       10326                 5\n",
       "3        1       12427                 1\n",
       "4        1       13032                 2"
      ]
     },
     "execution_count": 33,
     "metadata": {},
     "output_type": "execute_result"
    }
   ],
   "source": [
    "dfUPprior.head()"
   ]
  },
  {
   "cell_type": "markdown",
   "metadata": {},
   "source": [
    "## Merge Order Details\n",
    "\n",
    "Concatenate all prior orders into a single dataframe."
   ]
  },
  {
   "cell_type": "code",
   "execution_count": 34,
   "metadata": {
    "ExecuteTime": {
     "end_time": "2018-01-12T07:04:45.051720Z",
     "start_time": "2018-01-12T07:04:40.845487Z"
    },
    "collapsed": true
   },
   "outputs": [],
   "source": [
    "dfOrdersAll = pd.concat([dfOrdersPrior, dfOrdersTrain])"
   ]
  },
  {
   "cell_type": "code",
   "execution_count": 35,
   "metadata": {
    "ExecuteTime": {
     "end_time": "2018-01-12T07:05:30.113128Z",
     "start_time": "2018-01-12T07:04:45.059768Z"
    },
    "collapsed": true
   },
   "outputs": [],
   "source": [
    "dfOrdersAll = dfOrdersAll.sort_values(['user_id', 'product_id', 'order_number'])\n",
    "dfOrdersAll.reset_index(drop=True, inplace=True)"
   ]
  },
  {
   "cell_type": "markdown",
   "metadata": {},
   "source": [
    "Create a new dataframe \"dfOrderDetails\" which merges data contained within dfOrders and dfOrdersPrior.\n",
    "\n",
    "This will be used to filter by order number and get information (e.g. delta T, day, hour), in order to build up dfUPprior."
   ]
  },
  {
   "cell_type": "code",
   "execution_count": 36,
   "metadata": {
    "ExecuteTime": {
     "end_time": "2018-01-12T07:05:55.152369Z",
     "start_time": "2018-01-12T07:05:30.187421Z"
    },
    "collapsed": true
   },
   "outputs": [],
   "source": [
    "dfOrderDetails = (pd.merge(dfOrdersAll, \n",
    "                           dfOrders[['order_id', 'order_dow', 'order_hour_of_day', 'date', 'basket_size', 'proportion_basket_reorder', 'user_total_shops']], \n",
    "                           on='order_id', how='left')\n",
    "                 )"
   ]
  },
  {
   "cell_type": "code",
   "execution_count": 37,
   "metadata": {
    "ExecuteTime": {
     "end_time": "2018-01-12T07:05:55.310222Z",
     "start_time": "2018-01-12T07:05:55.164761Z"
    }
   },
   "outputs": [
    {
     "data": {
      "text/plain": [
       "(33819106, 12)"
      ]
     },
     "execution_count": 37,
     "metadata": {},
     "output_type": "execute_result"
    }
   ],
   "source": [
    "dfOrderDetails.shape"
   ]
  },
  {
   "cell_type": "markdown",
   "metadata": {},
   "source": [
    "__Create new column of ones (to help create target features: one indicates a purchase was made).__"
   ]
  },
  {
   "cell_type": "code",
   "execution_count": 38,
   "metadata": {
    "ExecuteTime": {
     "end_time": "2018-01-12T07:05:56.280626Z",
     "start_time": "2018-01-12T07:05:55.318175Z"
    },
    "collapsed": true
   },
   "outputs": [],
   "source": [
    "dfOrderDetails['ones'] = 1"
   ]
  },
  {
   "cell_type": "markdown",
   "metadata": {},
   "source": [
    "## Add to Cart (Relative Position)"
   ]
  },
  {
   "cell_type": "code",
   "execution_count": 39,
   "metadata": {
    "ExecuteTime": {
     "end_time": "2018-01-12T07:05:57.628738Z",
     "start_time": "2018-01-12T07:05:56.283006Z"
    },
    "collapsed": true
   },
   "outputs": [],
   "source": [
    "dfOrderDetails['atc_relative'] = dfOrderDetails['add_to_cart_order'] / dfOrderDetails['basket_size']"
   ]
  },
  {
   "cell_type": "markdown",
   "metadata": {},
   "source": [
    "# Build User-Product Order History\n",
    "\n",
    "Start building dfUPprior dataframe, first by creating columns for user-product stats for each order."
   ]
  },
  {
   "cell_type": "markdown",
   "metadata": {},
   "source": [
    "__Create subsets for each order number 1-10__"
   ]
  },
  {
   "cell_type": "code",
   "execution_count": 40,
   "metadata": {
    "ExecuteTime": {
     "end_time": "2018-01-12T07:09:41.863857Z",
     "start_time": "2018-01-12T07:08:11.588036Z"
    },
    "collapsed": true
   },
   "outputs": [],
   "source": [
    "dfOrder1 = (dfOrderDetails[dfOrderDetails['order_number'] == 1]\n",
    "                .rename(columns={'ones': 'o1_target', 'add_to_cart_order':'o1_add_order', 'order_dow': 'o1_day', \n",
    "                                'order_hour_of_day': 'o1_hour', 'date': 'o1_date',\n",
    "                                'basket_size': 'o1_basket_size', 'proportion_basket_reorder':'o1_reorder_prop', \n",
    "                                 'atc_relative': 'o1_atc_relative'}))\n",
    "\n",
    "dfOrder2 = (dfOrderDetails[dfOrderDetails['order_number'] == 2]\n",
    "                .rename(columns={'ones': 'o2_target', 'add_to_cart_order':'o2_add_order', 'order_dow': 'o2_day', \n",
    "                                'order_hour_of_day': 'o2_hour', 'date': 'o2_date',\n",
    "                                'basket_size': 'o2_basket_size', 'proportion_basket_reorder':'o2_reorder_prop',\n",
    "                                'atc_relative': 'o2_atc_relative'}))\n",
    "\n",
    "dfOrder3 = (dfOrderDetails[dfOrderDetails['order_number'] == 3]\n",
    "                .rename(columns={'ones': 'o3_target', 'add_to_cart_order':'o3_add_order', 'order_dow': 'o3_day', \n",
    "                                'order_hour_of_day': 'o3_hour', 'date': 'o3_date',\n",
    "                                'basket_size': 'o3_basket_size', 'proportion_basket_reorder':'o3_reorder_prop',\n",
    "                                'atc_relative': 'o3_atc_relative'}))\n",
    "\n",
    "dfOrder4 = (dfOrderDetails[dfOrderDetails['order_number'] == 4]\n",
    "                .rename(columns={'ones': 'o4_target', 'add_to_cart_order':'o4_add_order', 'order_dow': 'o4_day', \n",
    "                                'order_hour_of_day': 'o4_hour', 'date': 'o4_date',\n",
    "                                'basket_size': 'o4_basket_size', 'proportion_basket_reorder':'o4_reorder_prop',\n",
    "                                'atc_relative': 'o4_atc_relative'}))\n",
    "\n",
    "dfOrder5 = (dfOrderDetails[dfOrderDetails['order_number'] == 5]\n",
    "                .rename(columns={'ones': 'o5_target', 'add_to_cart_order':'o5_add_order', 'order_dow': 'o5_day', \n",
    "                                'order_hour_of_day': 'o5_hour', 'date': 'o5_date',\n",
    "                                'basket_size': 'o5_basket_size', 'proportion_basket_reorder':'o5_reorder_prop',\n",
    "                                'atc_relative': 'o5_atc_relative'}))\n",
    "\n",
    "dfOrder6 = (dfOrderDetails[dfOrderDetails['order_number'] == 6]\n",
    "                .rename(columns={'ones': 'o6_target', 'add_to_cart_order':'o6_add_order', 'order_dow': 'o6_day', \n",
    "                                'order_hour_of_day': 'o6_hour', 'date': 'o6_date',\n",
    "                                'basket_size': 'o6_basket_size', 'proportion_basket_reorder':'o6_reorder_prop',\n",
    "                                'atc_relative': 'o6_atc_relative'}))\n",
    "\n",
    "dfOrder7 = (dfOrderDetails[dfOrderDetails['order_number'] == 7]\n",
    "                .rename(columns={'ones': 'o7_target', 'add_to_cart_order':'o7_add_order', 'order_dow': 'o7_day', \n",
    "                                'order_hour_of_day': 'o7_hour', 'date': 'o7_date',\n",
    "                                'basket_size': 'o7_basket_size', 'proportion_basket_reorder':'o7_reorder_prop',\n",
    "                                'atc_relative': 'o7_atc_relative'}))\n",
    "\n",
    "dfOrder8 = (dfOrderDetails[dfOrderDetails['order_number'] == 8]\n",
    "                .rename(columns={'ones': 'o8_target', 'add_to_cart_order':'o8_add_order', 'order_dow': 'o8_day', \n",
    "                                'order_hour_of_day': 'o8_hour', 'date': 'o8_date',\n",
    "                                'basket_size': 'o8_basket_size', 'proportion_basket_reorder':'o8_reorder_prop',\n",
    "                                'atc_relative': 'o8_atc_relative'}))\n",
    "\n",
    "dfOrder9 = (dfOrderDetails[dfOrderDetails['order_number'] == 9]\n",
    "                .rename(columns={'ones': 'o9_target', 'add_to_cart_order':'o9_add_order', 'order_dow': 'o9_day', \n",
    "                                'order_hour_of_day': 'o9_hour', 'date': 'o9_date',\n",
    "                                'basket_size': 'o9_basket_size', 'proportion_basket_reorder':'o9_reorder_prop',\n",
    "                                'atc_relative': 'o9_atc_relative'}))\n",
    "\n",
    "dfOrder10 = (dfOrderDetails[dfOrderDetails['order_number'] == 10]\n",
    "                .rename(columns={'ones': 'o10_target', 'add_to_cart_order':'o10_add_order', 'order_dow': 'o10_day', \n",
    "                                'order_hour_of_day': 'o10_hour', 'date': 'o10_date',\n",
    "                                'basket_size': 'o10_basket_size', 'proportion_basket_reorder':'o10_reorder_prop',\n",
    "                                'atc_relative': 'o10_atc_relative'}))"
   ]
  },
  {
   "cell_type": "markdown",
   "metadata": {},
   "source": [
    "__Merge 10 subsets into dfUPprior__"
   ]
  },
  {
   "cell_type": "code",
   "execution_count": 41,
   "metadata": {
    "ExecuteTime": {
     "end_time": "2018-01-12T07:17:11.365953Z",
     "start_time": "2018-01-12T07:11:41.373759Z"
    },
    "collapsed": true
   },
   "outputs": [],
   "source": [
    "dfUPprior = (dfUPprior\n",
    "             .merge(dfOrder1[['user_id', 'product_id', 'o1_atc_relative','o1_day', 'o1_hour', 'o1_date', 'o1_basket_size','o1_reorder_prop','o1_target']],\n",
    "                    how='left', on=['user_id', 'product_id'])\n",
    "             .merge(dfOrder2[['user_id', 'product_id', 'o2_atc_relative','o2_day', 'o2_hour', 'o2_date', 'o2_basket_size','o2_reorder_prop','o2_target']],\n",
    "                    how='left', on=['user_id', 'product_id'])\n",
    "             .merge(dfOrder3[['user_id', 'product_id', 'o3_atc_relative','o3_day', 'o3_hour', 'o3_date', 'o3_basket_size','o3_reorder_prop','o3_target']],\n",
    "                    how='left', on=['user_id', 'product_id'])\n",
    "             .merge(dfOrder4[['user_id', 'product_id', 'o4_atc_relative','o4_day', 'o4_hour', 'o4_date', 'o4_basket_size','o4_reorder_prop','o4_target']],\n",
    "                    how='left', on=['user_id', 'product_id'])\n",
    "             .merge(dfOrder5[['user_id', 'product_id', 'o5_atc_relative','o5_day', 'o5_hour', 'o5_date', 'o5_basket_size','o5_reorder_prop','o5_target']],\n",
    "                    how='left', on=['user_id', 'product_id'])\n",
    "             .merge(dfOrder6[['user_id', 'product_id', 'o6_atc_relative','o6_day', 'o6_hour', 'o6_date', 'o6_basket_size','o6_reorder_prop','o6_target']],\n",
    "                    how='left', on=['user_id', 'product_id'])\n",
    "             .merge(dfOrder7[['user_id', 'product_id', 'o7_atc_relative','o7_day', 'o7_hour', 'o7_date', 'o7_basket_size','o7_reorder_prop','o7_target']],\n",
    "                    how='left', on=['user_id', 'product_id'])\n",
    "             .merge(dfOrder8[['user_id', 'product_id', 'o8_atc_relative','o8_day', 'o8_hour', 'o8_date', 'o8_basket_size','o8_reorder_prop','o8_target']],\n",
    "                    how='left', on=['user_id', 'product_id'])\n",
    "             .merge(dfOrder9[['user_id', 'product_id', 'o9_atc_relative','o9_day', 'o9_hour', 'o9_date', 'o9_basket_size','o9_reorder_prop','o9_target']],\n",
    "                    how='left', on=['user_id', 'product_id'])\n",
    "             .merge(dfOrder10[['user_id', 'product_id', 'o10_atc_relative','o10_day', 'o10_hour', 'o10_date', 'o10_basket_size','o10_reorder_prop','o10_target']],\n",
    "                    how='left', on=['user_id', 'product_id'])\n",
    "            )"
   ]
  },
  {
   "cell_type": "markdown",
   "metadata": {},
   "source": [
    "## User Total Shops \n",
    "To enable further filtering."
   ]
  },
  {
   "cell_type": "code",
   "execution_count": 42,
   "metadata": {
    "ExecuteTime": {
     "end_time": "2018-01-12T07:17:12.893905Z",
     "start_time": "2018-01-12T07:17:11.387129Z"
    },
    "collapsed": true
   },
   "outputs": [],
   "source": [
    "user_total_shops = dict(zip(dfOrders.user_id.values, dfOrders.user_total_shops.values))"
   ]
  },
  {
   "cell_type": "code",
   "execution_count": 43,
   "metadata": {
    "ExecuteTime": {
     "end_time": "2018-01-12T07:18:38.311734Z",
     "start_time": "2018-01-12T07:18:34.897348Z"
    },
    "collapsed": true
   },
   "outputs": [],
   "source": [
    "dfUPprior['user_total_shops'] = dfUPprior['user_id'].map(user_total_shops)"
   ]
  },
  {
   "cell_type": "markdown",
   "metadata": {},
   "source": [
    "## Mean Days Between Orders"
   ]
  },
  {
   "cell_type": "code",
   "execution_count": 44,
   "metadata": {
    "ExecuteTime": {
     "end_time": "2018-01-12T07:20:40.446498Z",
     "start_time": "2018-01-12T07:18:44.477332Z"
    },
    "collapsed": true
   },
   "outputs": [],
   "source": [
    "dfDates = dfUPprior.filter(regex='date', axis=1)"
   ]
  },
  {
   "cell_type": "code",
   "execution_count": 45,
   "metadata": {
    "ExecuteTime": {
     "end_time": "2018-01-12T07:26:09.023999Z",
     "start_time": "2018-01-12T07:26:05.297514Z"
    },
    "collapsed": true
   },
   "outputs": [],
   "source": [
    "dfDates.drop('o10_date', axis=1, inplace=True)"
   ]
  },
  {
   "cell_type": "code",
   "execution_count": 46,
   "metadata": {
    "ExecuteTime": {
     "end_time": "2018-01-12T07:26:10.596605Z",
     "start_time": "2018-01-12T07:26:10.559463Z"
    },
    "collapsed": true
   },
   "outputs": [],
   "source": [
    "def get_mean(dates):\n",
    "    nonzero_dates = [i[~numpy.isnan(i)] for i in dates]\n",
    "    mean_dates = []\n",
    "    for i in nonzero_dates:\n",
    "        if len(i) == 1:\n",
    "            mean_dates.append(i[0])\n",
    "        else:\n",
    "            mean_dates.append(np.mean(np.diff(i)))\n",
    "    return np.array(mean_dates)"
   ]
  },
  {
   "cell_type": "code",
   "execution_count": 47,
   "metadata": {
    "ExecuteTime": {
     "end_time": "2018-01-12T07:30:48.887967Z",
     "start_time": "2018-01-12T07:26:11.558854Z"
    }
   },
   "outputs": [
    {
     "name": "stderr",
     "output_type": "stream",
     "text": [
      "/anaconda/envs/py36/lib/python3.6/site-packages/numpy/core/fromnumeric.py:2909: RuntimeWarning: Mean of empty slice.\n",
      "  out=out, **kwargs)\n",
      "/anaconda/envs/py36/lib/python3.6/site-packages/numpy/core/_methods.py:80: RuntimeWarning: invalid value encountered in double_scalars\n",
      "  ret = ret.dtype.type(ret / rcount)\n"
     ]
    }
   ],
   "source": [
    "dfDates['mean_days_bw_orders'] = get_mean(dfDates.values)"
   ]
  },
  {
   "cell_type": "markdown",
   "metadata": {},
   "source": [
    "__Merge back into user-prod dataframe__"
   ]
  },
  {
   "cell_type": "code",
   "execution_count": 48,
   "metadata": {
    "ExecuteTime": {
     "end_time": "2018-01-12T07:33:01.832637Z",
     "start_time": "2018-01-12T07:31:53.564351Z"
    },
    "collapsed": true
   },
   "outputs": [],
   "source": [
    "dfUPprior = dfUPprior.join(dfDates['mean_days_bw_orders'])"
   ]
  },
  {
   "cell_type": "markdown",
   "metadata": {},
   "source": [
    "## Mean Add to Cart Position"
   ]
  },
  {
   "cell_type": "code",
   "execution_count": 49,
   "metadata": {
    "ExecuteTime": {
     "end_time": "2018-01-12T07:35:43.572473Z",
     "start_time": "2018-01-12T07:33:59.475421Z"
    },
    "collapsed": true
   },
   "outputs": [],
   "source": [
    "dfTemp = dfUPprior.filter(regex='atc_relative', axis=1)"
   ]
  },
  {
   "cell_type": "code",
   "execution_count": 50,
   "metadata": {
    "ExecuteTime": {
     "end_time": "2018-01-12T07:39:06.807867Z",
     "start_time": "2018-01-12T07:39:04.113870Z"
    },
    "collapsed": true
   },
   "outputs": [],
   "source": [
    "dfTemp.drop('o10_atc_relative', axis=1, inplace=True)"
   ]
  },
  {
   "cell_type": "code",
   "execution_count": 51,
   "metadata": {
    "ExecuteTime": {
     "end_time": "2018-01-12T07:39:09.262900Z",
     "start_time": "2018-01-12T07:39:09.075741Z"
    }
   },
   "outputs": [
    {
     "data": {
      "text/html": [
       "<div>\n",
       "<style>\n",
       "    .dataframe thead tr:only-child th {\n",
       "        text-align: right;\n",
       "    }\n",
       "\n",
       "    .dataframe thead th {\n",
       "        text-align: left;\n",
       "    }\n",
       "\n",
       "    .dataframe tbody tr th {\n",
       "        vertical-align: top;\n",
       "    }\n",
       "</style>\n",
       "<table border=\"1\" class=\"dataframe\">\n",
       "  <thead>\n",
       "    <tr style=\"text-align: right;\">\n",
       "      <th></th>\n",
       "      <th>o1_atc_relative</th>\n",
       "      <th>o2_atc_relative</th>\n",
       "      <th>o3_atc_relative</th>\n",
       "      <th>o4_atc_relative</th>\n",
       "      <th>o5_atc_relative</th>\n",
       "      <th>o6_atc_relative</th>\n",
       "      <th>o7_atc_relative</th>\n",
       "      <th>o8_atc_relative</th>\n",
       "      <th>o9_atc_relative</th>\n",
       "    </tr>\n",
       "  </thead>\n",
       "  <tbody>\n",
       "    <tr>\n",
       "      <th>0</th>\n",
       "      <td>0.2</td>\n",
       "      <td>0.166667</td>\n",
       "      <td>0.2</td>\n",
       "      <td>0.2</td>\n",
       "      <td>0.125</td>\n",
       "      <td>0.25</td>\n",
       "      <td>0.2</td>\n",
       "      <td>0.333333</td>\n",
       "      <td>0.666667</td>\n",
       "    </tr>\n",
       "    <tr>\n",
       "      <th>1</th>\n",
       "      <td>NaN</td>\n",
       "      <td>0.333333</td>\n",
       "      <td>0.6</td>\n",
       "      <td>0.6</td>\n",
       "      <td>0.375</td>\n",
       "      <td>0.75</td>\n",
       "      <td>0.4</td>\n",
       "      <td>0.500000</td>\n",
       "      <td>0.833333</td>\n",
       "    </tr>\n",
       "    <tr>\n",
       "      <th>2</th>\n",
       "      <td>NaN</td>\n",
       "      <td>NaN</td>\n",
       "      <td>NaN</td>\n",
       "      <td>NaN</td>\n",
       "      <td>0.625</td>\n",
       "      <td>NaN</td>\n",
       "      <td>NaN</td>\n",
       "      <td>NaN</td>\n",
       "      <td>NaN</td>\n",
       "    </tr>\n",
       "    <tr>\n",
       "      <th>3</th>\n",
       "      <td>0.6</td>\n",
       "      <td>0.500000</td>\n",
       "      <td>0.4</td>\n",
       "      <td>0.4</td>\n",
       "      <td>0.250</td>\n",
       "      <td>0.50</td>\n",
       "      <td>0.6</td>\n",
       "      <td>0.166667</td>\n",
       "      <td>1.000000</td>\n",
       "    </tr>\n",
       "    <tr>\n",
       "      <th>4</th>\n",
       "      <td>NaN</td>\n",
       "      <td>1.000000</td>\n",
       "      <td>NaN</td>\n",
       "      <td>NaN</td>\n",
       "      <td>NaN</td>\n",
       "      <td>NaN</td>\n",
       "      <td>1.0</td>\n",
       "      <td>NaN</td>\n",
       "      <td>NaN</td>\n",
       "    </tr>\n",
       "  </tbody>\n",
       "</table>\n",
       "</div>"
      ],
      "text/plain": [
       "   o1_atc_relative  o2_atc_relative  o3_atc_relative  o4_atc_relative  \\\n",
       "0              0.2         0.166667              0.2              0.2   \n",
       "1              NaN         0.333333              0.6              0.6   \n",
       "2              NaN              NaN              NaN              NaN   \n",
       "3              0.6         0.500000              0.4              0.4   \n",
       "4              NaN         1.000000              NaN              NaN   \n",
       "\n",
       "   o5_atc_relative  o6_atc_relative  o7_atc_relative  o8_atc_relative  \\\n",
       "0            0.125             0.25              0.2         0.333333   \n",
       "1            0.375             0.75              0.4         0.500000   \n",
       "2            0.625              NaN              NaN              NaN   \n",
       "3            0.250             0.50              0.6         0.166667   \n",
       "4              NaN              NaN              1.0              NaN   \n",
       "\n",
       "   o9_atc_relative  \n",
       "0         0.666667  \n",
       "1         0.833333  \n",
       "2              NaN  \n",
       "3         1.000000  \n",
       "4              NaN  "
      ]
     },
     "execution_count": 51,
     "metadata": {},
     "output_type": "execute_result"
    }
   ],
   "source": [
    "dfTemp.head()"
   ]
  },
  {
   "cell_type": "code",
   "execution_count": 52,
   "metadata": {
    "ExecuteTime": {
     "end_time": "2018-01-12T07:39:11.639116Z",
     "start_time": "2018-01-12T07:39:10.371440Z"
    },
    "collapsed": true
   },
   "outputs": [],
   "source": [
    "dfTemp['mean_ATC_position'] = dfTemp.mean(axis=1)"
   ]
  },
  {
   "cell_type": "code",
   "execution_count": 53,
   "metadata": {
    "ExecuteTime": {
     "end_time": "2018-01-12T07:40:20.050875Z",
     "start_time": "2018-01-12T07:39:26.897868Z"
    },
    "collapsed": true
   },
   "outputs": [],
   "source": [
    "dfUPprior = dfUPprior.join(dfTemp['mean_ATC_position'])"
   ]
  },
  {
   "cell_type": "markdown",
   "metadata": {},
   "source": [
    "## Total Times Product Purchased"
   ]
  },
  {
   "cell_type": "code",
   "execution_count": 54,
   "metadata": {
    "ExecuteTime": {
     "end_time": "2018-01-12T07:41:59.313025Z",
     "start_time": "2018-01-12T07:40:24.790060Z"
    },
    "collapsed": true
   },
   "outputs": [],
   "source": [
    "dfUPprior['total_times_purchased'] = (dfUPprior[['o1_target', 'o2_target', 'o3_target', 'o4_target', 'o5_target', \n",
    "                                                'o6_target', 'o7_target', 'o8_target', 'o9_target']]\n",
    "                                     .sum(axis=1))"
   ]
  },
  {
   "cell_type": "markdown",
   "metadata": {},
   "source": [
    "## Product Purchase Rate"
   ]
  },
  {
   "cell_type": "code",
   "execution_count": 55,
   "metadata": {
    "ExecuteTime": {
     "end_time": "2018-01-12T07:42:04.099136Z",
     "start_time": "2018-01-12T07:42:03.723149Z"
    },
    "collapsed": true
   },
   "outputs": [],
   "source": [
    "dfUPprior['purchase_rate'] = dfUPprior['total_times_purchased'] / 9"
   ]
  },
  {
   "cell_type": "markdown",
   "metadata": {},
   "source": [
    "## Most Frequent Purchase Day, Hour"
   ]
  },
  {
   "cell_type": "code",
   "execution_count": null,
   "metadata": {
    "collapsed": true
   },
   "outputs": [],
   "source": [
    "# dfTemp2 = dfUPprior.filter(regex='day', axis=1)"
   ]
  },
  {
   "cell_type": "code",
   "execution_count": null,
   "metadata": {
    "collapsed": true
   },
   "outputs": [],
   "source": [
    "# dfTemp2.drop(['o10_day', 'mean_days_bw_orders'], axis=1, inplace=True)"
   ]
  },
  {
   "cell_type": "code",
   "execution_count": null,
   "metadata": {
    "collapsed": true
   },
   "outputs": [],
   "source": [
    "# dfTemp2.head()"
   ]
  },
  {
   "cell_type": "code",
   "execution_count": null,
   "metadata": {
    "collapsed": true
   },
   "outputs": [],
   "source": [
    "# dfTemp2['mode_day'] = dfTemp2.mode(axis=1)"
   ]
  },
  {
   "cell_type": "code",
   "execution_count": null,
   "metadata": {
    "collapsed": true
   },
   "outputs": [],
   "source": [
    "# Above code takes too long to execute!"
   ]
  },
  {
   "cell_type": "markdown",
   "metadata": {},
   "source": [
    "## Product Reorders\n",
    "__Create some features based on the product itself e.g. How often a product is reordered by all users.__"
   ]
  },
  {
   "cell_type": "code",
   "execution_count": 56,
   "metadata": {
    "ExecuteTime": {
     "end_time": "2018-01-12T07:43:12.602002Z",
     "start_time": "2018-01-12T07:43:00.152770Z"
    },
    "collapsed": true
   },
   "outputs": [],
   "source": [
    "prod_reorders = (dfOrderDetails\n",
    " .groupby(['product_id'])\n",
    " .agg({'ones': sum, 'reordered': sum})\n",
    " .reset_index())"
   ]
  },
  {
   "cell_type": "code",
   "execution_count": 57,
   "metadata": {
    "ExecuteTime": {
     "end_time": "2018-01-12T07:43:15.359209Z",
     "start_time": "2018-01-12T07:43:15.348848Z"
    },
    "collapsed": true
   },
   "outputs": [],
   "source": [
    "prod_reorders['user_avg_reorder_prop'] = prod_reorders['reordered'] / prod_reorders['ones']"
   ]
  },
  {
   "cell_type": "code",
   "execution_count": 58,
   "metadata": {
    "ExecuteTime": {
     "end_time": "2018-01-12T07:43:24.499673Z",
     "start_time": "2018-01-12T07:43:24.464026Z"
    }
   },
   "outputs": [
    {
     "data": {
      "text/html": [
       "<div>\n",
       "<style>\n",
       "    .dataframe thead tr:only-child th {\n",
       "        text-align: right;\n",
       "    }\n",
       "\n",
       "    .dataframe thead th {\n",
       "        text-align: left;\n",
       "    }\n",
       "\n",
       "    .dataframe tbody tr th {\n",
       "        vertical-align: top;\n",
       "    }\n",
       "</style>\n",
       "<table border=\"1\" class=\"dataframe\">\n",
       "  <thead>\n",
       "    <tr style=\"text-align: right;\">\n",
       "      <th></th>\n",
       "      <th>product_id</th>\n",
       "      <th>ones</th>\n",
       "      <th>reordered</th>\n",
       "      <th>user_avg_reorder_prop</th>\n",
       "    </tr>\n",
       "  </thead>\n",
       "  <tbody>\n",
       "    <tr>\n",
       "      <th>0</th>\n",
       "      <td>1</td>\n",
       "      <td>1928</td>\n",
       "      <td>1185</td>\n",
       "      <td>0.614627</td>\n",
       "    </tr>\n",
       "    <tr>\n",
       "      <th>1</th>\n",
       "      <td>2</td>\n",
       "      <td>94</td>\n",
       "      <td>13</td>\n",
       "      <td>0.138298</td>\n",
       "    </tr>\n",
       "    <tr>\n",
       "      <th>2</th>\n",
       "      <td>3</td>\n",
       "      <td>283</td>\n",
       "      <td>209</td>\n",
       "      <td>0.738516</td>\n",
       "    </tr>\n",
       "    <tr>\n",
       "      <th>3</th>\n",
       "      <td>4</td>\n",
       "      <td>351</td>\n",
       "      <td>161</td>\n",
       "      <td>0.458689</td>\n",
       "    </tr>\n",
       "    <tr>\n",
       "      <th>4</th>\n",
       "      <td>5</td>\n",
       "      <td>16</td>\n",
       "      <td>10</td>\n",
       "      <td>0.625000</td>\n",
       "    </tr>\n",
       "  </tbody>\n",
       "</table>\n",
       "</div>"
      ],
      "text/plain": [
       "   product_id  ones  reordered  user_avg_reorder_prop\n",
       "0           1  1928       1185               0.614627\n",
       "1           2    94         13               0.138298\n",
       "2           3   283        209               0.738516\n",
       "3           4   351        161               0.458689\n",
       "4           5    16         10               0.625000"
      ]
     },
     "execution_count": 58,
     "metadata": {},
     "output_type": "execute_result"
    }
   ],
   "source": [
    "prod_reorders.head()"
   ]
  },
  {
   "cell_type": "code",
   "execution_count": 59,
   "metadata": {
    "ExecuteTime": {
     "end_time": "2018-01-12T07:47:10.839978Z",
     "start_time": "2018-01-12T07:43:25.763201Z"
    },
    "collapsed": true
   },
   "outputs": [],
   "source": [
    "dfUPprior = pd.merge(dfUPprior, prod_reorders[['product_id', 'user_avg_reorder_prop']], on='product_id', how='left')"
   ]
  },
  {
   "cell_type": "markdown",
   "metadata": {},
   "source": [
    "## User Reorders\n",
    "__Create features based on the individual user e.g. Likelihood to reorder anything__"
   ]
  },
  {
   "cell_type": "code",
   "execution_count": 60,
   "metadata": {
    "ExecuteTime": {
     "end_time": "2018-01-12T07:50:09.351615Z",
     "start_time": "2018-01-12T07:50:08.330723Z"
    },
    "collapsed": true
   },
   "outputs": [],
   "source": [
    "user_reorders = (dfOrders\n",
    "                 .groupby(['user_id'])\n",
    "                 .proportion_basket_reorder\n",
    "                 .mean()\n",
    "                 .reset_index()\n",
    "                 .rename(columns={'proportion_basket_reorder': 'user_overall_reorder_prop'}))"
   ]
  },
  {
   "cell_type": "code",
   "execution_count": 61,
   "metadata": {
    "ExecuteTime": {
     "end_time": "2018-01-12T07:50:10.872828Z",
     "start_time": "2018-01-12T07:50:10.825828Z"
    }
   },
   "outputs": [
    {
     "data": {
      "text/html": [
       "<div>\n",
       "<style>\n",
       "    .dataframe thead tr:only-child th {\n",
       "        text-align: right;\n",
       "    }\n",
       "\n",
       "    .dataframe thead th {\n",
       "        text-align: left;\n",
       "    }\n",
       "\n",
       "    .dataframe tbody tr th {\n",
       "        vertical-align: top;\n",
       "    }\n",
       "</style>\n",
       "<table border=\"1\" class=\"dataframe\">\n",
       "  <thead>\n",
       "    <tr style=\"text-align: right;\">\n",
       "      <th></th>\n",
       "      <th>user_id</th>\n",
       "      <th>user_overall_reorder_prop</th>\n",
       "    </tr>\n",
       "  </thead>\n",
       "  <tbody>\n",
       "    <tr>\n",
       "      <th>0</th>\n",
       "      <td>1</td>\n",
       "      <td>0.724311</td>\n",
       "    </tr>\n",
       "    <tr>\n",
       "      <th>1</th>\n",
       "      <td>2</td>\n",
       "      <td>0.443903</td>\n",
       "    </tr>\n",
       "    <tr>\n",
       "      <th>2</th>\n",
       "      <td>3</td>\n",
       "      <td>0.658817</td>\n",
       "    </tr>\n",
       "    <tr>\n",
       "      <th>3</th>\n",
       "      <td>4</td>\n",
       "      <td>0.028571</td>\n",
       "    </tr>\n",
       "    <tr>\n",
       "      <th>4</th>\n",
       "      <td>5</td>\n",
       "      <td>0.391111</td>\n",
       "    </tr>\n",
       "  </tbody>\n",
       "</table>\n",
       "</div>"
      ],
      "text/plain": [
       "   user_id  user_overall_reorder_prop\n",
       "0        1                   0.724311\n",
       "1        2                   0.443903\n",
       "2        3                   0.658817\n",
       "3        4                   0.028571\n",
       "4        5                   0.391111"
      ]
     },
     "execution_count": 61,
     "metadata": {},
     "output_type": "execute_result"
    }
   ],
   "source": [
    "user_reorders.head()"
   ]
  },
  {
   "cell_type": "code",
   "execution_count": 62,
   "metadata": {
    "ExecuteTime": {
     "end_time": "2018-01-12T07:52:08.714240Z",
     "start_time": "2018-01-12T07:50:15.631014Z"
    },
    "collapsed": true
   },
   "outputs": [],
   "source": [
    "dfUPprior = pd.merge(dfUPprior, user_reorders[['user_id', 'user_overall_reorder_prop']], on='user_id', how='left')"
   ]
  },
  {
   "cell_type": "code",
   "execution_count": 63,
   "metadata": {
    "ExecuteTime": {
     "end_time": "2018-01-12T07:52:14.650489Z",
     "start_time": "2018-01-12T07:52:12.823554Z"
    }
   },
   "outputs": [
    {
     "data": {
      "text/html": [
       "<div>\n",
       "<style>\n",
       "    .dataframe thead tr:only-child th {\n",
       "        text-align: right;\n",
       "    }\n",
       "\n",
       "    .dataframe thead th {\n",
       "        text-align: left;\n",
       "    }\n",
       "\n",
       "    .dataframe tbody tr th {\n",
       "        vertical-align: top;\n",
       "    }\n",
       "</style>\n",
       "<table border=\"1\" class=\"dataframe\">\n",
       "  <thead>\n",
       "    <tr style=\"text-align: right;\">\n",
       "      <th></th>\n",
       "      <th>user_id</th>\n",
       "      <th>product_id</th>\n",
       "      <th>first_appearance</th>\n",
       "      <th>o1_atc_relative</th>\n",
       "      <th>o1_day</th>\n",
       "      <th>o1_hour</th>\n",
       "      <th>o1_date</th>\n",
       "      <th>o1_basket_size</th>\n",
       "      <th>o1_reorder_prop</th>\n",
       "      <th>o1_target</th>\n",
       "      <th>o2_atc_relative</th>\n",
       "      <th>o2_day</th>\n",
       "      <th>o2_hour</th>\n",
       "      <th>o2_date</th>\n",
       "      <th>o2_basket_size</th>\n",
       "      <th>o2_reorder_prop</th>\n",
       "      <th>o2_target</th>\n",
       "      <th>o3_atc_relative</th>\n",
       "      <th>o3_day</th>\n",
       "      <th>o3_hour</th>\n",
       "      <th>o3_date</th>\n",
       "      <th>o3_basket_size</th>\n",
       "      <th>o3_reorder_prop</th>\n",
       "      <th>o3_target</th>\n",
       "      <th>o4_atc_relative</th>\n",
       "      <th>o4_day</th>\n",
       "      <th>o4_hour</th>\n",
       "      <th>o4_date</th>\n",
       "      <th>o4_basket_size</th>\n",
       "      <th>o4_reorder_prop</th>\n",
       "      <th>o4_target</th>\n",
       "      <th>o5_atc_relative</th>\n",
       "      <th>o5_day</th>\n",
       "      <th>o5_hour</th>\n",
       "      <th>o5_date</th>\n",
       "      <th>o5_basket_size</th>\n",
       "      <th>o5_reorder_prop</th>\n",
       "      <th>o5_target</th>\n",
       "      <th>o6_atc_relative</th>\n",
       "      <th>o6_day</th>\n",
       "      <th>o6_hour</th>\n",
       "      <th>o6_date</th>\n",
       "      <th>o6_basket_size</th>\n",
       "      <th>o6_reorder_prop</th>\n",
       "      <th>o6_target</th>\n",
       "      <th>o7_atc_relative</th>\n",
       "      <th>o7_day</th>\n",
       "      <th>o7_hour</th>\n",
       "      <th>o7_date</th>\n",
       "      <th>o7_basket_size</th>\n",
       "      <th>o7_reorder_prop</th>\n",
       "      <th>o7_target</th>\n",
       "      <th>o8_atc_relative</th>\n",
       "      <th>o8_day</th>\n",
       "      <th>o8_hour</th>\n",
       "      <th>o8_date</th>\n",
       "      <th>o8_basket_size</th>\n",
       "      <th>o8_reorder_prop</th>\n",
       "      <th>o8_target</th>\n",
       "      <th>o9_atc_relative</th>\n",
       "      <th>o9_day</th>\n",
       "      <th>o9_hour</th>\n",
       "      <th>o9_date</th>\n",
       "      <th>o9_basket_size</th>\n",
       "      <th>o9_reorder_prop</th>\n",
       "      <th>o9_target</th>\n",
       "      <th>o10_atc_relative</th>\n",
       "      <th>o10_day</th>\n",
       "      <th>o10_hour</th>\n",
       "      <th>o10_date</th>\n",
       "      <th>o10_basket_size</th>\n",
       "      <th>o10_reorder_prop</th>\n",
       "      <th>o10_target</th>\n",
       "      <th>user_total_shops</th>\n",
       "      <th>mean_days_bw_orders</th>\n",
       "      <th>mean_ATC_position</th>\n",
       "      <th>total_times_purchased</th>\n",
       "      <th>purchase_rate</th>\n",
       "      <th>user_avg_reorder_prop</th>\n",
       "      <th>user_overall_reorder_prop</th>\n",
       "    </tr>\n",
       "  </thead>\n",
       "  <tbody>\n",
       "    <tr>\n",
       "      <th>0</th>\n",
       "      <td>1</td>\n",
       "      <td>196</td>\n",
       "      <td>1</td>\n",
       "      <td>0.2</td>\n",
       "      <td>2.0</td>\n",
       "      <td>8.0</td>\n",
       "      <td>NaN</td>\n",
       "      <td>5.0</td>\n",
       "      <td>0.0</td>\n",
       "      <td>1.0</td>\n",
       "      <td>0.166667</td>\n",
       "      <td>3.0</td>\n",
       "      <td>7.0</td>\n",
       "      <td>15.0</td>\n",
       "      <td>6.0</td>\n",
       "      <td>0.5</td>\n",
       "      <td>1.0</td>\n",
       "      <td>0.2</td>\n",
       "      <td>3.0</td>\n",
       "      <td>12.0</td>\n",
       "      <td>36.0</td>\n",
       "      <td>5.0</td>\n",
       "      <td>0.6</td>\n",
       "      <td>1.0</td>\n",
       "      <td>0.2</td>\n",
       "      <td>4.0</td>\n",
       "      <td>7.0</td>\n",
       "      <td>65.0</td>\n",
       "      <td>5.0</td>\n",
       "      <td>1.0</td>\n",
       "      <td>1.0</td>\n",
       "      <td>0.125</td>\n",
       "      <td>4.0</td>\n",
       "      <td>15.0</td>\n",
       "      <td>93.0</td>\n",
       "      <td>8.0</td>\n",
       "      <td>0.625</td>\n",
       "      <td>1.0</td>\n",
       "      <td>0.25</td>\n",
       "      <td>2.0</td>\n",
       "      <td>7.0</td>\n",
       "      <td>112.0</td>\n",
       "      <td>4.0</td>\n",
       "      <td>1.0</td>\n",
       "      <td>1.0</td>\n",
       "      <td>0.2</td>\n",
       "      <td>1.0</td>\n",
       "      <td>9.0</td>\n",
       "      <td>132.0</td>\n",
       "      <td>5.0</td>\n",
       "      <td>1.0</td>\n",
       "      <td>1.0</td>\n",
       "      <td>0.333333</td>\n",
       "      <td>1.0</td>\n",
       "      <td>14.0</td>\n",
       "      <td>146.0</td>\n",
       "      <td>6.0</td>\n",
       "      <td>0.666667</td>\n",
       "      <td>1.0</td>\n",
       "      <td>0.666667</td>\n",
       "      <td>1.0</td>\n",
       "      <td>16.0</td>\n",
       "      <td>146.0</td>\n",
       "      <td>6.0</td>\n",
       "      <td>1.0</td>\n",
       "      <td>1.0</td>\n",
       "      <td>0.111111</td>\n",
       "      <td>4.0</td>\n",
       "      <td>8.0</td>\n",
       "      <td>176.0</td>\n",
       "      <td>9.0</td>\n",
       "      <td>0.666667</td>\n",
       "      <td>1.0</td>\n",
       "      <td>11</td>\n",
       "      <td>18.714286</td>\n",
       "      <td>0.260185</td>\n",
       "      <td>9.0</td>\n",
       "      <td>1.000000</td>\n",
       "      <td>0.777843</td>\n",
       "      <td>0.724311</td>\n",
       "    </tr>\n",
       "    <tr>\n",
       "      <th>1</th>\n",
       "      <td>1</td>\n",
       "      <td>10258</td>\n",
       "      <td>2</td>\n",
       "      <td>NaN</td>\n",
       "      <td>NaN</td>\n",
       "      <td>NaN</td>\n",
       "      <td>NaN</td>\n",
       "      <td>NaN</td>\n",
       "      <td>NaN</td>\n",
       "      <td>NaN</td>\n",
       "      <td>0.333333</td>\n",
       "      <td>3.0</td>\n",
       "      <td>7.0</td>\n",
       "      <td>15.0</td>\n",
       "      <td>6.0</td>\n",
       "      <td>0.5</td>\n",
       "      <td>1.0</td>\n",
       "      <td>0.6</td>\n",
       "      <td>3.0</td>\n",
       "      <td>12.0</td>\n",
       "      <td>36.0</td>\n",
       "      <td>5.0</td>\n",
       "      <td>0.6</td>\n",
       "      <td>1.0</td>\n",
       "      <td>0.6</td>\n",
       "      <td>4.0</td>\n",
       "      <td>7.0</td>\n",
       "      <td>65.0</td>\n",
       "      <td>5.0</td>\n",
       "      <td>1.0</td>\n",
       "      <td>1.0</td>\n",
       "      <td>0.375</td>\n",
       "      <td>4.0</td>\n",
       "      <td>15.0</td>\n",
       "      <td>93.0</td>\n",
       "      <td>8.0</td>\n",
       "      <td>0.625</td>\n",
       "      <td>1.0</td>\n",
       "      <td>0.75</td>\n",
       "      <td>2.0</td>\n",
       "      <td>7.0</td>\n",
       "      <td>112.0</td>\n",
       "      <td>4.0</td>\n",
       "      <td>1.0</td>\n",
       "      <td>1.0</td>\n",
       "      <td>0.4</td>\n",
       "      <td>1.0</td>\n",
       "      <td>9.0</td>\n",
       "      <td>132.0</td>\n",
       "      <td>5.0</td>\n",
       "      <td>1.0</td>\n",
       "      <td>1.0</td>\n",
       "      <td>0.500000</td>\n",
       "      <td>1.0</td>\n",
       "      <td>14.0</td>\n",
       "      <td>146.0</td>\n",
       "      <td>6.0</td>\n",
       "      <td>0.666667</td>\n",
       "      <td>1.0</td>\n",
       "      <td>0.833333</td>\n",
       "      <td>1.0</td>\n",
       "      <td>16.0</td>\n",
       "      <td>146.0</td>\n",
       "      <td>6.0</td>\n",
       "      <td>1.0</td>\n",
       "      <td>1.0</td>\n",
       "      <td>0.666667</td>\n",
       "      <td>4.0</td>\n",
       "      <td>8.0</td>\n",
       "      <td>176.0</td>\n",
       "      <td>9.0</td>\n",
       "      <td>0.666667</td>\n",
       "      <td>1.0</td>\n",
       "      <td>11</td>\n",
       "      <td>18.714286</td>\n",
       "      <td>0.548958</td>\n",
       "      <td>8.0</td>\n",
       "      <td>0.888889</td>\n",
       "      <td>0.715610</td>\n",
       "      <td>0.724311</td>\n",
       "    </tr>\n",
       "    <tr>\n",
       "      <th>2</th>\n",
       "      <td>1</td>\n",
       "      <td>10326</td>\n",
       "      <td>5</td>\n",
       "      <td>NaN</td>\n",
       "      <td>NaN</td>\n",
       "      <td>NaN</td>\n",
       "      <td>NaN</td>\n",
       "      <td>NaN</td>\n",
       "      <td>NaN</td>\n",
       "      <td>NaN</td>\n",
       "      <td>NaN</td>\n",
       "      <td>NaN</td>\n",
       "      <td>NaN</td>\n",
       "      <td>NaN</td>\n",
       "      <td>NaN</td>\n",
       "      <td>NaN</td>\n",
       "      <td>NaN</td>\n",
       "      <td>NaN</td>\n",
       "      <td>NaN</td>\n",
       "      <td>NaN</td>\n",
       "      <td>NaN</td>\n",
       "      <td>NaN</td>\n",
       "      <td>NaN</td>\n",
       "      <td>NaN</td>\n",
       "      <td>NaN</td>\n",
       "      <td>NaN</td>\n",
       "      <td>NaN</td>\n",
       "      <td>NaN</td>\n",
       "      <td>NaN</td>\n",
       "      <td>NaN</td>\n",
       "      <td>NaN</td>\n",
       "      <td>0.625</td>\n",
       "      <td>4.0</td>\n",
       "      <td>15.0</td>\n",
       "      <td>93.0</td>\n",
       "      <td>8.0</td>\n",
       "      <td>0.625</td>\n",
       "      <td>1.0</td>\n",
       "      <td>NaN</td>\n",
       "      <td>NaN</td>\n",
       "      <td>NaN</td>\n",
       "      <td>NaN</td>\n",
       "      <td>NaN</td>\n",
       "      <td>NaN</td>\n",
       "      <td>NaN</td>\n",
       "      <td>NaN</td>\n",
       "      <td>NaN</td>\n",
       "      <td>NaN</td>\n",
       "      <td>NaN</td>\n",
       "      <td>NaN</td>\n",
       "      <td>NaN</td>\n",
       "      <td>NaN</td>\n",
       "      <td>NaN</td>\n",
       "      <td>NaN</td>\n",
       "      <td>NaN</td>\n",
       "      <td>NaN</td>\n",
       "      <td>NaN</td>\n",
       "      <td>NaN</td>\n",
       "      <td>NaN</td>\n",
       "      <td>NaN</td>\n",
       "      <td>NaN</td>\n",
       "      <td>NaN</td>\n",
       "      <td>NaN</td>\n",
       "      <td>NaN</td>\n",
       "      <td>NaN</td>\n",
       "      <td>NaN</td>\n",
       "      <td>NaN</td>\n",
       "      <td>NaN</td>\n",
       "      <td>NaN</td>\n",
       "      <td>NaN</td>\n",
       "      <td>NaN</td>\n",
       "      <td>NaN</td>\n",
       "      <td>NaN</td>\n",
       "      <td>11</td>\n",
       "      <td>93.000000</td>\n",
       "      <td>0.625000</td>\n",
       "      <td>1.0</td>\n",
       "      <td>0.111111</td>\n",
       "      <td>0.653439</td>\n",
       "      <td>0.724311</td>\n",
       "    </tr>\n",
       "    <tr>\n",
       "      <th>3</th>\n",
       "      <td>1</td>\n",
       "      <td>12427</td>\n",
       "      <td>1</td>\n",
       "      <td>0.6</td>\n",
       "      <td>2.0</td>\n",
       "      <td>8.0</td>\n",
       "      <td>NaN</td>\n",
       "      <td>5.0</td>\n",
       "      <td>0.0</td>\n",
       "      <td>1.0</td>\n",
       "      <td>0.500000</td>\n",
       "      <td>3.0</td>\n",
       "      <td>7.0</td>\n",
       "      <td>15.0</td>\n",
       "      <td>6.0</td>\n",
       "      <td>0.5</td>\n",
       "      <td>1.0</td>\n",
       "      <td>0.4</td>\n",
       "      <td>3.0</td>\n",
       "      <td>12.0</td>\n",
       "      <td>36.0</td>\n",
       "      <td>5.0</td>\n",
       "      <td>0.6</td>\n",
       "      <td>1.0</td>\n",
       "      <td>0.4</td>\n",
       "      <td>4.0</td>\n",
       "      <td>7.0</td>\n",
       "      <td>65.0</td>\n",
       "      <td>5.0</td>\n",
       "      <td>1.0</td>\n",
       "      <td>1.0</td>\n",
       "      <td>0.250</td>\n",
       "      <td>4.0</td>\n",
       "      <td>15.0</td>\n",
       "      <td>93.0</td>\n",
       "      <td>8.0</td>\n",
       "      <td>0.625</td>\n",
       "      <td>1.0</td>\n",
       "      <td>0.50</td>\n",
       "      <td>2.0</td>\n",
       "      <td>7.0</td>\n",
       "      <td>112.0</td>\n",
       "      <td>4.0</td>\n",
       "      <td>1.0</td>\n",
       "      <td>1.0</td>\n",
       "      <td>0.6</td>\n",
       "      <td>1.0</td>\n",
       "      <td>9.0</td>\n",
       "      <td>132.0</td>\n",
       "      <td>5.0</td>\n",
       "      <td>1.0</td>\n",
       "      <td>1.0</td>\n",
       "      <td>0.166667</td>\n",
       "      <td>1.0</td>\n",
       "      <td>14.0</td>\n",
       "      <td>146.0</td>\n",
       "      <td>6.0</td>\n",
       "      <td>0.666667</td>\n",
       "      <td>1.0</td>\n",
       "      <td>1.000000</td>\n",
       "      <td>1.0</td>\n",
       "      <td>16.0</td>\n",
       "      <td>146.0</td>\n",
       "      <td>6.0</td>\n",
       "      <td>1.0</td>\n",
       "      <td>1.0</td>\n",
       "      <td>1.000000</td>\n",
       "      <td>4.0</td>\n",
       "      <td>8.0</td>\n",
       "      <td>176.0</td>\n",
       "      <td>9.0</td>\n",
       "      <td>0.666667</td>\n",
       "      <td>1.0</td>\n",
       "      <td>11</td>\n",
       "      <td>18.714286</td>\n",
       "      <td>0.490741</td>\n",
       "      <td>9.0</td>\n",
       "      <td>1.000000</td>\n",
       "      <td>0.740182</td>\n",
       "      <td>0.724311</td>\n",
       "    </tr>\n",
       "    <tr>\n",
       "      <th>4</th>\n",
       "      <td>1</td>\n",
       "      <td>13032</td>\n",
       "      <td>2</td>\n",
       "      <td>NaN</td>\n",
       "      <td>NaN</td>\n",
       "      <td>NaN</td>\n",
       "      <td>NaN</td>\n",
       "      <td>NaN</td>\n",
       "      <td>NaN</td>\n",
       "      <td>NaN</td>\n",
       "      <td>1.000000</td>\n",
       "      <td>3.0</td>\n",
       "      <td>7.0</td>\n",
       "      <td>15.0</td>\n",
       "      <td>6.0</td>\n",
       "      <td>0.5</td>\n",
       "      <td>1.0</td>\n",
       "      <td>NaN</td>\n",
       "      <td>NaN</td>\n",
       "      <td>NaN</td>\n",
       "      <td>NaN</td>\n",
       "      <td>NaN</td>\n",
       "      <td>NaN</td>\n",
       "      <td>NaN</td>\n",
       "      <td>NaN</td>\n",
       "      <td>NaN</td>\n",
       "      <td>NaN</td>\n",
       "      <td>NaN</td>\n",
       "      <td>NaN</td>\n",
       "      <td>NaN</td>\n",
       "      <td>NaN</td>\n",
       "      <td>NaN</td>\n",
       "      <td>NaN</td>\n",
       "      <td>NaN</td>\n",
       "      <td>NaN</td>\n",
       "      <td>NaN</td>\n",
       "      <td>NaN</td>\n",
       "      <td>NaN</td>\n",
       "      <td>NaN</td>\n",
       "      <td>NaN</td>\n",
       "      <td>NaN</td>\n",
       "      <td>NaN</td>\n",
       "      <td>NaN</td>\n",
       "      <td>NaN</td>\n",
       "      <td>NaN</td>\n",
       "      <td>1.0</td>\n",
       "      <td>1.0</td>\n",
       "      <td>9.0</td>\n",
       "      <td>132.0</td>\n",
       "      <td>5.0</td>\n",
       "      <td>1.0</td>\n",
       "      <td>1.0</td>\n",
       "      <td>NaN</td>\n",
       "      <td>NaN</td>\n",
       "      <td>NaN</td>\n",
       "      <td>NaN</td>\n",
       "      <td>NaN</td>\n",
       "      <td>NaN</td>\n",
       "      <td>NaN</td>\n",
       "      <td>NaN</td>\n",
       "      <td>NaN</td>\n",
       "      <td>NaN</td>\n",
       "      <td>NaN</td>\n",
       "      <td>NaN</td>\n",
       "      <td>NaN</td>\n",
       "      <td>NaN</td>\n",
       "      <td>0.888889</td>\n",
       "      <td>4.0</td>\n",
       "      <td>8.0</td>\n",
       "      <td>176.0</td>\n",
       "      <td>9.0</td>\n",
       "      <td>0.666667</td>\n",
       "      <td>1.0</td>\n",
       "      <td>11</td>\n",
       "      <td>117.000000</td>\n",
       "      <td>1.000000</td>\n",
       "      <td>2.0</td>\n",
       "      <td>0.222222</td>\n",
       "      <td>0.661117</td>\n",
       "      <td>0.724311</td>\n",
       "    </tr>\n",
       "  </tbody>\n",
       "</table>\n",
       "</div>"
      ],
      "text/plain": [
       "   user_id  product_id  first_appearance  o1_atc_relative  o1_day  o1_hour  \\\n",
       "0        1         196                 1              0.2     2.0      8.0   \n",
       "1        1       10258                 2              NaN     NaN      NaN   \n",
       "2        1       10326                 5              NaN     NaN      NaN   \n",
       "3        1       12427                 1              0.6     2.0      8.0   \n",
       "4        1       13032                 2              NaN     NaN      NaN   \n",
       "\n",
       "   o1_date  o1_basket_size  o1_reorder_prop  o1_target  o2_atc_relative  \\\n",
       "0      NaN             5.0              0.0        1.0         0.166667   \n",
       "1      NaN             NaN              NaN        NaN         0.333333   \n",
       "2      NaN             NaN              NaN        NaN              NaN   \n",
       "3      NaN             5.0              0.0        1.0         0.500000   \n",
       "4      NaN             NaN              NaN        NaN         1.000000   \n",
       "\n",
       "   o2_day  o2_hour  o2_date  o2_basket_size  o2_reorder_prop  o2_target  \\\n",
       "0     3.0      7.0     15.0             6.0              0.5        1.0   \n",
       "1     3.0      7.0     15.0             6.0              0.5        1.0   \n",
       "2     NaN      NaN      NaN             NaN              NaN        NaN   \n",
       "3     3.0      7.0     15.0             6.0              0.5        1.0   \n",
       "4     3.0      7.0     15.0             6.0              0.5        1.0   \n",
       "\n",
       "   o3_atc_relative  o3_day  o3_hour  o3_date  o3_basket_size  o3_reorder_prop  \\\n",
       "0              0.2     3.0     12.0     36.0             5.0              0.6   \n",
       "1              0.6     3.0     12.0     36.0             5.0              0.6   \n",
       "2              NaN     NaN      NaN      NaN             NaN              NaN   \n",
       "3              0.4     3.0     12.0     36.0             5.0              0.6   \n",
       "4              NaN     NaN      NaN      NaN             NaN              NaN   \n",
       "\n",
       "   o3_target  o4_atc_relative  o4_day  o4_hour  o4_date  o4_basket_size  \\\n",
       "0        1.0              0.2     4.0      7.0     65.0             5.0   \n",
       "1        1.0              0.6     4.0      7.0     65.0             5.0   \n",
       "2        NaN              NaN     NaN      NaN      NaN             NaN   \n",
       "3        1.0              0.4     4.0      7.0     65.0             5.0   \n",
       "4        NaN              NaN     NaN      NaN      NaN             NaN   \n",
       "\n",
       "   o4_reorder_prop  o4_target  o5_atc_relative  o5_day  o5_hour  o5_date  \\\n",
       "0              1.0        1.0            0.125     4.0     15.0     93.0   \n",
       "1              1.0        1.0            0.375     4.0     15.0     93.0   \n",
       "2              NaN        NaN            0.625     4.0     15.0     93.0   \n",
       "3              1.0        1.0            0.250     4.0     15.0     93.0   \n",
       "4              NaN        NaN              NaN     NaN      NaN      NaN   \n",
       "\n",
       "   o5_basket_size  o5_reorder_prop  o5_target  o6_atc_relative  o6_day  \\\n",
       "0             8.0            0.625        1.0             0.25     2.0   \n",
       "1             8.0            0.625        1.0             0.75     2.0   \n",
       "2             8.0            0.625        1.0              NaN     NaN   \n",
       "3             8.0            0.625        1.0             0.50     2.0   \n",
       "4             NaN              NaN        NaN              NaN     NaN   \n",
       "\n",
       "   o6_hour  o6_date  o6_basket_size  o6_reorder_prop  o6_target  \\\n",
       "0      7.0    112.0             4.0              1.0        1.0   \n",
       "1      7.0    112.0             4.0              1.0        1.0   \n",
       "2      NaN      NaN             NaN              NaN        NaN   \n",
       "3      7.0    112.0             4.0              1.0        1.0   \n",
       "4      NaN      NaN             NaN              NaN        NaN   \n",
       "\n",
       "   o7_atc_relative  o7_day  o7_hour  o7_date  o7_basket_size  o7_reorder_prop  \\\n",
       "0              0.2     1.0      9.0    132.0             5.0              1.0   \n",
       "1              0.4     1.0      9.0    132.0             5.0              1.0   \n",
       "2              NaN     NaN      NaN      NaN             NaN              NaN   \n",
       "3              0.6     1.0      9.0    132.0             5.0              1.0   \n",
       "4              1.0     1.0      9.0    132.0             5.0              1.0   \n",
       "\n",
       "   o7_target  o8_atc_relative  o8_day  o8_hour  o8_date  o8_basket_size  \\\n",
       "0        1.0         0.333333     1.0     14.0    146.0             6.0   \n",
       "1        1.0         0.500000     1.0     14.0    146.0             6.0   \n",
       "2        NaN              NaN     NaN      NaN      NaN             NaN   \n",
       "3        1.0         0.166667     1.0     14.0    146.0             6.0   \n",
       "4        1.0              NaN     NaN      NaN      NaN             NaN   \n",
       "\n",
       "   o8_reorder_prop  o8_target  o9_atc_relative  o9_day  o9_hour  o9_date  \\\n",
       "0         0.666667        1.0         0.666667     1.0     16.0    146.0   \n",
       "1         0.666667        1.0         0.833333     1.0     16.0    146.0   \n",
       "2              NaN        NaN              NaN     NaN      NaN      NaN   \n",
       "3         0.666667        1.0         1.000000     1.0     16.0    146.0   \n",
       "4              NaN        NaN              NaN     NaN      NaN      NaN   \n",
       "\n",
       "   o9_basket_size  o9_reorder_prop  o9_target  o10_atc_relative  o10_day  \\\n",
       "0             6.0              1.0        1.0          0.111111      4.0   \n",
       "1             6.0              1.0        1.0          0.666667      4.0   \n",
       "2             NaN              NaN        NaN               NaN      NaN   \n",
       "3             6.0              1.0        1.0          1.000000      4.0   \n",
       "4             NaN              NaN        NaN          0.888889      4.0   \n",
       "\n",
       "   o10_hour  o10_date  o10_basket_size  o10_reorder_prop  o10_target  \\\n",
       "0       8.0     176.0              9.0          0.666667         1.0   \n",
       "1       8.0     176.0              9.0          0.666667         1.0   \n",
       "2       NaN       NaN              NaN               NaN         NaN   \n",
       "3       8.0     176.0              9.0          0.666667         1.0   \n",
       "4       8.0     176.0              9.0          0.666667         1.0   \n",
       "\n",
       "   user_total_shops  mean_days_bw_orders  mean_ATC_position  \\\n",
       "0                11            18.714286           0.260185   \n",
       "1                11            18.714286           0.548958   \n",
       "2                11            93.000000           0.625000   \n",
       "3                11            18.714286           0.490741   \n",
       "4                11           117.000000           1.000000   \n",
       "\n",
       "   total_times_purchased  purchase_rate  user_avg_reorder_prop  \\\n",
       "0                    9.0       1.000000               0.777843   \n",
       "1                    8.0       0.888889               0.715610   \n",
       "2                    1.0       0.111111               0.653439   \n",
       "3                    9.0       1.000000               0.740182   \n",
       "4                    2.0       0.222222               0.661117   \n",
       "\n",
       "   user_overall_reorder_prop  \n",
       "0                   0.724311  \n",
       "1                   0.724311  \n",
       "2                   0.724311  \n",
       "3                   0.724311  \n",
       "4                   0.724311  "
      ]
     },
     "execution_count": 63,
     "metadata": {},
     "output_type": "execute_result"
    }
   ],
   "source": [
    "dfUPprior.head()"
   ]
  },
  {
   "cell_type": "code",
   "execution_count": 64,
   "metadata": {
    "ExecuteTime": {
     "end_time": "2018-01-12T07:52:16.997938Z",
     "start_time": "2018-01-12T07:52:16.948533Z"
    }
   },
   "outputs": [
    {
     "name": "stdout",
     "output_type": "stream",
     "text": [
      "Index(['user_id', 'product_id', 'first_appearance', 'o1_atc_relative',\n",
      "       'o1_day', 'o1_hour', 'o1_date', 'o1_basket_size', 'o1_reorder_prop',\n",
      "       'o1_target', 'o2_atc_relative', 'o2_day', 'o2_hour', 'o2_date',\n",
      "       'o2_basket_size', 'o2_reorder_prop', 'o2_target', 'o3_atc_relative',\n",
      "       'o3_day', 'o3_hour', 'o3_date', 'o3_basket_size', 'o3_reorder_prop',\n",
      "       'o3_target', 'o4_atc_relative', 'o4_day', 'o4_hour', 'o4_date',\n",
      "       'o4_basket_size', 'o4_reorder_prop', 'o4_target', 'o5_atc_relative',\n",
      "       'o5_day', 'o5_hour', 'o5_date', 'o5_basket_size', 'o5_reorder_prop',\n",
      "       'o5_target', 'o6_atc_relative', 'o6_day', 'o6_hour', 'o6_date',\n",
      "       'o6_basket_size', 'o6_reorder_prop', 'o6_target', 'o7_atc_relative',\n",
      "       'o7_day', 'o7_hour', 'o7_date', 'o7_basket_size', 'o7_reorder_prop',\n",
      "       'o7_target', 'o8_atc_relative', 'o8_day', 'o8_hour', 'o8_date',\n",
      "       'o8_basket_size', 'o8_reorder_prop', 'o8_target', 'o9_atc_relative',\n",
      "       'o9_day', 'o9_hour', 'o9_date', 'o9_basket_size', 'o9_reorder_prop',\n",
      "       'o9_target', 'o10_atc_relative', 'o10_day', 'o10_hour', 'o10_date',\n",
      "       'o10_basket_size', 'o10_reorder_prop', 'o10_target', 'user_total_shops',\n",
      "       'mean_days_bw_orders', 'mean_ATC_position', 'total_times_purchased',\n",
      "       'purchase_rate', 'user_avg_reorder_prop', 'user_overall_reorder_prop'],\n",
      "      dtype='object')\n"
     ]
    }
   ],
   "source": [
    "print(dfUPprior.columns)"
   ]
  },
  {
   "cell_type": "markdown",
   "metadata": {},
   "source": [
    "# Sample Dataframe\n",
    "Take a sample of dfUPprior for modelling purposes"
   ]
  },
  {
   "cell_type": "code",
   "execution_count": 67,
   "metadata": {
    "ExecuteTime": {
     "end_time": "2018-01-12T08:25:56.917060Z",
     "start_time": "2018-01-12T08:24:33.112924Z"
    },
    "collapsed": true
   },
   "outputs": [],
   "source": [
    "dfSample = dfUPprior[dfUPprior['user_total_shops'] >= 10]"
   ]
  },
  {
   "cell_type": "code",
   "execution_count": 68,
   "metadata": {
    "ExecuteTime": {
     "end_time": "2018-01-12T08:26:26.774803Z",
     "start_time": "2018-01-12T08:26:26.728404Z"
    }
   },
   "outputs": [
    {
     "data": {
      "text/plain": [
       "10132366"
      ]
     },
     "execution_count": 68,
     "metadata": {},
     "output_type": "execute_result"
    }
   ],
   "source": [
    "len(dfSample)"
   ]
  },
  {
   "cell_type": "markdown",
   "metadata": {},
   "source": [
    "# Pickle"
   ]
  },
  {
   "cell_type": "code",
   "execution_count": 69,
   "metadata": {
    "ExecuteTime": {
     "end_time": "2018-01-12T08:31:42.736191Z",
     "start_time": "2018-01-12T08:26:32.132211Z"
    },
    "collapsed": true
   },
   "outputs": [],
   "source": [
    "np.save('pickled_dataframes/dfSample.npy', dfSample.values)"
   ]
  },
  {
   "cell_type": "code",
   "execution_count": 65,
   "metadata": {
    "ExecuteTime": {
     "end_time": "2018-01-12T07:59:24.995212Z",
     "start_time": "2018-01-12T07:52:37.483076Z"
    },
    "collapsed": true
   },
   "outputs": [],
   "source": [
    "# save the df as numpy array to outfile\n",
    "np.save('pickled_dataframes/dfUPprior.npy', dfUPprior.values)"
   ]
  },
  {
   "cell_type": "code",
   "execution_count": 66,
   "metadata": {
    "ExecuteTime": {
     "end_time": "2018-01-12T08:24:30.283898Z",
     "start_time": "2018-01-12T08:24:30.203564Z"
    }
   },
   "outputs": [
    {
     "data": {
      "text/plain": [
       "Index(['user_id', 'product_id', 'first_appearance', 'o1_atc_relative',\n",
       "       'o1_day', 'o1_hour', 'o1_date', 'o1_basket_size', 'o1_reorder_prop',\n",
       "       'o1_target', 'o2_atc_relative', 'o2_day', 'o2_hour', 'o2_date',\n",
       "       'o2_basket_size', 'o2_reorder_prop', 'o2_target', 'o3_atc_relative',\n",
       "       'o3_day', 'o3_hour', 'o3_date', 'o3_basket_size', 'o3_reorder_prop',\n",
       "       'o3_target', 'o4_atc_relative', 'o4_day', 'o4_hour', 'o4_date',\n",
       "       'o4_basket_size', 'o4_reorder_prop', 'o4_target', 'o5_atc_relative',\n",
       "       'o5_day', 'o5_hour', 'o5_date', 'o5_basket_size', 'o5_reorder_prop',\n",
       "       'o5_target', 'o6_atc_relative', 'o6_day', 'o6_hour', 'o6_date',\n",
       "       'o6_basket_size', 'o6_reorder_prop', 'o6_target', 'o7_atc_relative',\n",
       "       'o7_day', 'o7_hour', 'o7_date', 'o7_basket_size', 'o7_reorder_prop',\n",
       "       'o7_target', 'o8_atc_relative', 'o8_day', 'o8_hour', 'o8_date',\n",
       "       'o8_basket_size', 'o8_reorder_prop', 'o8_target', 'o9_atc_relative',\n",
       "       'o9_day', 'o9_hour', 'o9_date', 'o9_basket_size', 'o9_reorder_prop',\n",
       "       'o9_target', 'o10_atc_relative', 'o10_day', 'o10_hour', 'o10_date',\n",
       "       'o10_basket_size', 'o10_reorder_prop', 'o10_target', 'user_total_shops',\n",
       "       'mean_days_bw_orders', 'mean_ATC_position', 'total_times_purchased',\n",
       "       'purchase_rate', 'user_avg_reorder_prop', 'user_overall_reorder_prop'],\n",
       "      dtype='object')"
      ]
     },
     "execution_count": 66,
     "metadata": {},
     "output_type": "execute_result"
    }
   ],
   "source": [
    "dfUPprior.columns"
   ]
  }
 ],
 "metadata": {
  "kernelspec": {
   "display_name": "Python 3",
   "language": "python",
   "name": "python3"
  },
  "language_info": {
   "codemirror_mode": {
    "name": "ipython",
    "version": 3
   },
   "file_extension": ".py",
   "mimetype": "text/x-python",
   "name": "python",
   "nbconvert_exporter": "python",
   "pygments_lexer": "ipython3",
   "version": "3.6.1"
  },
  "toc": {
   "nav_menu": {},
   "number_sections": true,
   "sideBar": true,
   "skip_h1_title": false,
   "toc_cell": true,
   "toc_position": {
    "height": "573px",
    "left": "0px",
    "right": "1025px",
    "top": "107px",
    "width": "212px"
   },
   "toc_section_display": "block",
   "toc_window_display": true
  }
 },
 "nbformat": 4,
 "nbformat_minor": 2
}
